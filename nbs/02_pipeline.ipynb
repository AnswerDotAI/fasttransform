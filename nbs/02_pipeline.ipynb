{
 "cells": [
  {
   "cell_type": "code",
   "execution_count": null,
   "id": "30295a1d",
   "metadata": {},
   "outputs": [],
   "source": [
    "#|default_exp pipeline"
   ]
  },
  {
   "cell_type": "code",
   "execution_count": null,
   "id": "4af968d5",
   "metadata": {},
   "outputs": [],
   "source": [
    "#|export\n",
    "from fastcore.imports import *\n",
    "from fastcore.foundation import *\n",
    "from fastcore.utils import *\n",
    "\n",
    "from fasttransform.utils import is_tuple\n",
    "from fasttransform.transform import Transform\n",
    "from fasttransform.monkeydispatch import monkeydispatch"
   ]
  },
  {
   "cell_type": "code",
   "execution_count": null,
   "id": "917adab5",
   "metadata": {},
   "outputs": [],
   "source": [
    "from __future__ import annotations\n",
    "from nbdev.showdoc import *\n",
    "from fastcore.test import *\n",
    "from fastcore.nb_imports import *"
   ]
  },
  {
   "cell_type": "markdown",
   "id": "694d7dd0",
   "metadata": {},
   "source": [
    "# Pipeline\n",
    "\n",
    "> A class for composing multiple (partially) reversible transforms"
   ]
  },
  {
   "cell_type": "markdown",
   "id": "cbb09502",
   "metadata": {},
   "source": [
    "`Pipeline` allows you to compose multiple transforms that can be partially reversed through decoding. When a transform is \"decoded\", it creates a form suitable for display, though this may not be identical to the original input (for instance, a transform from bytes to floats would typically decode to floats rather than converting back to bytes, since that could lose precision).\n",
    "\n",
    "`Pipeline` handles the composition of multiple transforms while maintaining the ability to decode or display the transformed items at any stage."
   ]
  },
  {
   "cell_type": "code",
   "execution_count": null,
   "id": "63fa926a",
   "metadata": {},
   "outputs": [],
   "source": [
    "#|export\n",
    "def compose_tfms(x, tfms, is_enc=True, reverse=False, **kwargs):\n",
    "    \"Apply all `func_nm` attribute of `tfms` on `x`, maybe in `reverse` order\"\n",
    "    if reverse: tfms = reversed(tfms)\n",
    "    for f in tfms:\n",
    "        if not is_enc: f = f.decode\n",
    "        x = f(x, **kwargs)\n",
    "    return x\n",
    "     "
   ]
  },
  {
   "cell_type": "code",
   "execution_count": null,
   "id": "152874fd",
   "metadata": {},
   "outputs": [],
   "source": [
    "def to_int  (x):   return Int(x)\n",
    "def to_float(x):   return Float(x)\n",
    "def double  (x):   return x*2\n",
    "def half(x)->None: return x/2"
   ]
  },
  {
   "cell_type": "code",
   "execution_count": null,
   "id": "e92949d5",
   "metadata": {},
   "outputs": [],
   "source": [
    "def test_compose(a, b, *fs): test_eq_type(compose_tfms(a, tfms=map(Transform,fs)), b)\n",
    "\n",
    "test_compose(1,   Int(1),   to_int)\n",
    "test_compose(1,   Float(1), to_int,to_float)\n",
    "test_compose(1,   Float(2), to_int,to_float,double)\n",
    "test_compose(2.0, 2.0,      to_int,double,half)"
   ]
  },
  {
   "cell_type": "code",
   "execution_count": null,
   "id": "efd3dd64",
   "metadata": {},
   "outputs": [],
   "source": [
    "class A(Transform):\n",
    "    @monkeydispatch\n",
    "    def encodes(self, x:float):  return Float(x+1)\n",
    "    @monkeydispatch\n",
    "    def decodes(self, x): return x-1\n",
    "    \n",
    "tfms = [A(), Transform(math.sqrt)]\n",
    "t = compose_tfms(3., tfms=tfms)\n",
    "test_eq_type(t, Float(2.))\n",
    "test_eq(compose_tfms(t, tfms=tfms, is_enc=False), 1.)\n",
    "test_eq(compose_tfms(4., tfms=tfms, reverse=True), 3.)\n",
    "     "
   ]
  },
  {
   "cell_type": "code",
   "execution_count": null,
   "id": "a9fff4ec",
   "metadata": {},
   "outputs": [],
   "source": [
    "tfms = [A(), Transform(math.sqrt)]\n",
    "test_eq(compose_tfms((9,3.), tfms=tfms), (3,2.))"
   ]
  },
  {
   "cell_type": "code",
   "execution_count": null,
   "id": "3da3898b",
   "metadata": {},
   "outputs": [],
   "source": [
    "#|export\n",
    "def mk_transform(f):\n",
    "    \"Convert function `f` to `Transform` if it isn't already one\"\n",
    "    f = instantiate(f)\n",
    "    return f if isinstance(f,(Transform,Pipeline)) else Transform(f)"
   ]
  },
  {
   "cell_type": "code",
   "execution_count": null,
   "id": "7456b063",
   "metadata": {},
   "outputs": [],
   "source": [
    "#|export\n",
    "def gather_attrs(o, k, nm):\n",
    "    \"Used in __getattr__ to collect all attrs `k` from `self.{nm}`\"\n",
    "    if k.startswith('_') or k==nm: raise AttributeError(k)\n",
    "    att = getattr(o,nm)\n",
    "    res = [t for t in att.attrgot(k) if t is not None]\n",
    "    if not res: raise AttributeError(k)\n",
    "    return res[0] if len(res)==1 else L(res)"
   ]
  },
  {
   "cell_type": "code",
   "execution_count": null,
   "id": "f9965510",
   "metadata": {},
   "outputs": [],
   "source": [
    "#|export\n",
    "def gather_attr_names(o, nm):\n",
    "    \"Used in __dir__ to collect all attrs `k` from `self.{nm}`\"\n",
    "    return L(getattr(o,nm)).map(dir).concat().unique()"
   ]
  },
  {
   "cell_type": "code",
   "execution_count": null,
   "id": "a1928a2e",
   "metadata": {},
   "outputs": [],
   "source": [
    "#|export\n",
    "class Pipeline:\n",
    "    \"A pipeline of composed (for encode/decode) transforms, setup with types\"\n",
    "    def __init__(self, funcs=None, split_idx=None):\n",
    "        self.split_idx,self.default = split_idx,None\n",
    "        if funcs is None: funcs = []\n",
    "        if isinstance(funcs, Pipeline): self.fs = funcs.fs\n",
    "        else:\n",
    "            if isinstance(funcs, Transform): funcs = [funcs]\n",
    "            self.fs = L(ifnone(funcs,[noop])).map(mk_transform).sorted(key='order')\n",
    "        for f in self.fs:\n",
    "            name = camel2snake(type(f).__name__)\n",
    "            a = getattr(self,name,None)\n",
    "            if a is not None: f = L(a)+f\n",
    "            setattr(self, name, f)\n",
    "\n",
    "    def setup(self, items=None, train_setup=False):\n",
    "        tfms = self.fs[:]\n",
    "        self.fs.clear()\n",
    "        for t in tfms: self.add(t,items, train_setup)\n",
    "\n",
    "    def add(self,ts, items=None, train_setup=False):\n",
    "        if not is_listy(ts): ts=[ts]\n",
    "        for t in ts: t.setup(items, train_setup)\n",
    "        self.fs+=ts\n",
    "        self.fs = self.fs.sorted(key='order')\n",
    "\n",
    "    def __call__(self, o): return compose_tfms(o, tfms=self.fs, split_idx=self.split_idx)\n",
    "    def __repr__(self): return f\"Pipeline: {' -> '.join([f.name for f in self.fs if f.name != 'noop'])}\"\n",
    "    def __getitem__(self,i): return self.fs[i]\n",
    "    def __setstate__(self,data): self.__dict__.update(data)\n",
    "    def __getattr__(self,k): return gather_attrs(self, k, 'fs')\n",
    "    def __dir__(self): return super().__dir__() + gather_attr_names(self, 'fs')\n",
    "\n",
    "    def decode  (self, o, full=True):\n",
    "        if full: return compose_tfms(o, tfms=self.fs, is_enc=False, reverse=True, split_idx=self.split_idx)\n",
    "        #Not full means we decode up to the point the item knows how to show itself.\n",
    "        for f in reversed(self.fs):\n",
    "            if self._is_showable(o): return o\n",
    "            o = f.decode(o, split_idx=self.split_idx)\n",
    "        return o\n",
    "\n",
    "    def show(self, o, ctx=None, **kwargs):\n",
    "        o = self.decode(o, full=False)\n",
    "        o1 = (o,) if not is_tuple(o) else o\n",
    "        if hasattr(o, 'show'): ctx = o.show(ctx=ctx, **kwargs)\n",
    "        else:\n",
    "            for o_ in o1:\n",
    "                if hasattr(o_, 'show'): ctx = o_.show(ctx=ctx, **kwargs)\n",
    "        return ctx\n",
    "\n",
    "    def _is_showable(self, o):\n",
    "        if hasattr(o, 'show'): return True\n",
    "        if is_tuple(o): return all(hasattr(o_, 'show') for o_ in o)\n",
    "        return False"
   ]
  },
  {
   "cell_type": "code",
   "execution_count": null,
   "id": "05034526",
   "metadata": {},
   "outputs": [],
   "source": [
    "add_docs(Pipeline,\n",
    "         __call__=\"Compose `__call__` of all `fs` on `o`\",\n",
    "         decode=\"Compose `decode` of all `fs` on `o`\",\n",
    "         show=\"Show `o`, a single item from a tuple, decoding as needed\",\n",
    "         add=\"Add transforms `ts`\",\n",
    "         setup=\"Call each tfm's `setup` in order\")"
   ]
  },
  {
   "cell_type": "code",
   "execution_count": null,
   "id": "923a12cf",
   "metadata": {},
   "outputs": [],
   "source": [
    "# Empty pipeline is noop\n",
    "pipe = Pipeline()\n",
    "test_eq(pipe(1), 1)\n",
    "test_eq(pipe((1,)), (1,))\n",
    "# Check pickle works\n",
    "assert pickle.loads(pickle.dumps(pipe))"
   ]
  },
  {
   "cell_type": "code",
   "execution_count": null,
   "id": "7292b678",
   "metadata": {},
   "outputs": [],
   "source": [
    "class IntFloatTfm(Transform):\n",
    "    @monkeydispatch\n",
    "    def encodes(self, x):  return Int(x)\n",
    "    @monkeydispatch\n",
    "    def decodes(self, x):  return Float(x)\n",
    "    foo=1\n",
    "\n",
    "int_tfm=IntFloatTfm()\n",
    "\n",
    "def neg(x): return -x\n",
    "neg_tfm = Transform(neg, neg)"
   ]
  },
  {
   "cell_type": "code",
   "execution_count": null,
   "id": "73dc1e62",
   "metadata": {},
   "outputs": [],
   "source": [
    "pipe = Pipeline([neg_tfm, int_tfm])\n",
    "\n",
    "start = 2.0\n",
    "t = pipe(start)\n",
    "test_eq_type(t, Int(-2))\n",
    "test_eq_type(pipe.decode(t), Float(start))\n",
    "test_stdout(lambda:pipe.show(t), '-2')"
   ]
  },
  {
   "cell_type": "code",
   "execution_count": null,
   "id": "e9ddba3d",
   "metadata": {},
   "outputs": [],
   "source": [
    "pipe = Pipeline([neg_tfm, int_tfm])\n",
    "t = pipe(start)\n",
    "test_stdout(lambda:pipe.show(pipe((1.,2.))), '-1\\n-2')\n",
    "test_eq(pipe.foo, 1)\n",
    "assert 'foo' in dir(pipe)\n",
    "assert 'int_float_tfm' in dir(pipe)"
   ]
  },
  {
   "cell_type": "markdown",
   "id": "7cd4fa9d",
   "metadata": {},
   "source": [
    "You can add a single transform or multiple transforms ts using Pipeline.add. Transforms will be ordered by Transform.order.\n",
    "\n"
   ]
  },
  {
   "cell_type": "code",
   "execution_count": null,
   "id": "01670eab",
   "metadata": {},
   "outputs": [],
   "source": [
    "pipe = Pipeline([neg_tfm, int_tfm])\n",
    "class SqrtTfm(Transform):\n",
    "    order=-1\n",
    "    @monkeydispatch\n",
    "    def encodes(self, x): \n",
    "        return x**(.5)\n",
    "    @monkeydispatch\n",
    "    def decodes(self, x): \n",
    "        return x**2\n",
    "pipe.add(SqrtTfm())\n",
    "test_eq(pipe(4),-2)\n",
    "test_eq(pipe.decode(-2),4)\n",
    "pipe.add([SqrtTfm(),SqrtTfm()])\n",
    "test_eq(pipe(256),-2)\n",
    "test_eq(pipe.decode(-2),256)"
   ]
  },
  {
   "cell_type": "markdown",
   "id": "cf3da9a1",
   "metadata": {},
   "source": [
    "Transforms are available as attributes named with the snake_case version of the names of their types. Attributes in transforms can be directly accessed as attributes of the pipeline."
   ]
  },
  {
   "cell_type": "code",
   "execution_count": null,
   "id": "3f681b5a",
   "metadata": {},
   "outputs": [],
   "source": [
    "test_eq(pipe.int_float_tfm, int_tfm)\n",
    "test_eq(pipe.foo, 1)\n",
    "\n",
    "pipe = Pipeline([int_tfm, int_tfm])\n",
    "pipe.int_float_tfm\n",
    "test_eq(pipe.int_float_tfm[0], int_tfm)\n",
    "test_eq(pipe.foo, [1,1])"
   ]
  },
  {
   "cell_type": "code",
   "execution_count": null,
   "id": "ae0496fa",
   "metadata": {},
   "outputs": [],
   "source": [
    "# Check opposite order\n",
    "pipe = Pipeline([int_tfm,neg_tfm])\n",
    "t = pipe(start)\n",
    "test_eq(t, -2)\n",
    "test_stdout(lambda:pipe.show(t), '-2')"
   ]
  },
  {
   "cell_type": "code",
   "execution_count": null,
   "id": "a076e2e0",
   "metadata": {},
   "outputs": [],
   "source": [
    "class A(Transform):\n",
    "    @monkeydispatch\n",
    "    def encodes(self, x):  return int(x)\n",
    "    @monkeydispatch\n",
    "    def decodes(self, x):  return Float(x)"
   ]
  },
  {
   "cell_type": "code",
   "execution_count": null,
   "id": "18a3a71d",
   "metadata": {},
   "outputs": [],
   "source": [
    "pipe = Pipeline([neg_tfm, A])\n",
    "t = pipe(start)\n",
    "# test_eq_type(t, -2)\n",
    "# test_eq_type(pipe.decode(t), Float(start))\n",
    "# test_stdout(lambda:pipe.show(t), '-2.0')"
   ]
  },
  {
   "cell_type": "code",
   "execution_count": null,
   "id": "9e4cbd9b",
   "metadata": {},
   "outputs": [],
   "source": [
    "s2 = (1,2)\n",
    "pipe = Pipeline([neg_tfm, A])\n",
    "t = pipe(s2)\n",
    "test_eq_type(t, (-1,-2))\n",
    "test_eq_type(pipe.decode(t), (Float(1.),Float(2.)))\n",
    "test_stdout(lambda:pipe.show(t), '-1.0\\n-2.0')"
   ]
  },
  {
   "cell_type": "code",
   "execution_count": null,
   "id": "52d2373a",
   "metadata": {},
   "outputs": [],
   "source": [
    "from PIL import Image\n"
   ]
  },
  {
   "cell_type": "code",
   "execution_count": null,
   "id": "01070851",
   "metadata": {},
   "outputs": [],
   "source": [
    "class ArrayImage(ndarray):\n",
    "    _show_args = {'cmap':'viridis'}\n",
    "    def __new__(cls, x, *args, **kwargs):\n",
    "        if isinstance(x,tuple): super().__new__(cls, x, *args, **kwargs)\n",
    "        if args or kwargs: raise RuntimeError('Unknown array init args')\n",
    "        if not isinstance(x,ndarray): x = array(x)\n",
    "        return x.view(cls)\n",
    "    \n",
    "    def show(self, ctx=None, figsize=None, **kwargs):\n",
    "        if ctx is None: _,ctx = plt.subplots(figsize=figsize)\n",
    "        ctx.imshow(im, **{**self._show_args, **kwargs})\n",
    "        ctx.axis('off')\n",
    "        return ctx\n",
    "    \n",
    "im = Image.open(TEST_IMAGE)\n",
    "im_t = ArrayImage(im)"
   ]
  },
  {
   "cell_type": "code",
   "execution_count": null,
   "id": "1c6fd5de",
   "metadata": {},
   "outputs": [],
   "source": [
    "def f1(x:ArrayImage): return -x\n",
    "def f2(x): return Image.open(x).resize((128,128))\n",
    "def f3(x:Image.Image): return(ArrayImage(array(x)))\n",
    " "
   ]
  },
  {
   "cell_type": "code",
   "execution_count": null,
   "id": "81e9d0be",
   "metadata": {},
   "outputs": [],
   "source": [
    "pipe = Pipeline([f2,f3,f1])\n",
    "t = pipe(TEST_IMAGE)\n",
    "test_eq(type(t), ArrayImage)\n",
    "test_eq(t, -array(f3(f2(TEST_IMAGE))))"
   ]
  },
  {
   "cell_type": "code",
   "execution_count": null,
   "id": "36c927c8",
   "metadata": {},
   "outputs": [],
   "source": [
    "pipe = Pipeline([f2,f3])\n",
    "t = pipe(TEST_IMAGE)\n",
    "ax = pipe.show(t)"
   ]
  },
  {
   "cell_type": "code",
   "execution_count": null,
   "id": "bb6606a5",
   "metadata": {},
   "outputs": [],
   "source": [
    "class A(Transform):\n",
    "    @monkeydispatch\n",
    "    def encodes(self, x):  return int(x)\n",
    "    @monkeydispatch\n",
    "    def decodes(self, x):  return Float(x)\n",
    "    \n",
    "class B(Transform):\n",
    "    @monkeydispatch\n",
    "    def encodes(self, x:int): return x+1\n",
    "    @monkeydispatch\n",
    "    def encodes(self, x:str): return x+'_hello'\n",
    "    @monkeydispatch\n",
    "    def decodes(self, x:int): return x-1\n",
    "    @monkeydispatch\n",
    "    def decodes(self, x:str): return x.replace('_hello', '')"
   ]
  },
  {
   "cell_type": "code",
   "execution_count": null,
   "id": "369a1616",
   "metadata": {},
   "outputs": [],
   "source": [
    "# #Check filtering is properly applied\n",
    "# add1 = B()\n",
    "# add1.split_idx = 1\n",
    "# pipe = Pipeline([neg_tfm, A(), add1])\n",
    "# test_eq(pipe(start), -2)\n",
    "# pipe.split_idx=1\n",
    "# test_eq(pipe(start), -1)\n",
    "# pipe.split_idx=0\n",
    "# test_eq(pipe(start), -2)\n",
    "# for t in [None, 0, 1]:0099\n",
    "#     pipe.split_idx=t\n",
    "#     test_eq(pipe.decode(pipe(start)), start)\n",
    "#     test_stdout(lambda: pipe.show(pipe(start)), \"-2.0\")\n",
    "   "
   ]
  },
  {
   "cell_type": "code",
   "execution_count": null,
   "id": "9ef118a9",
   "metadata": {},
   "outputs": [],
   "source": [
    "def neg(x): return -x\n",
    "test_eq(type(mk_transform(neg)), Transform)\n",
    "test_eq(type(mk_transform(math.sqrt)), Transform)\n",
    "test_eq(type(mk_transform(lambda a:a*2)), Transform)\n",
    "test_eq(type(mk_transform(Pipeline([neg]))), Pipeline)\n",
    "  "
   ]
  },
  {
   "cell_type": "markdown",
   "id": "b712c700",
   "metadata": {},
   "source": [
    "## Export -"
   ]
  },
  {
   "cell_type": "code",
   "execution_count": null,
   "id": "404d0d86",
   "metadata": {},
   "outputs": [],
   "source": [
    "#|hide\n",
    "#|eval: false\n",
    "from nbdev import nbdev_export\n",
    "nbdev_export()"
   ]
  }
 ],
 "metadata": {
  "kernelspec": {
   "display_name": "python3",
   "language": "python",
   "name": "python3"
  }
 },
 "nbformat": 4,
 "nbformat_minor": 5
}
