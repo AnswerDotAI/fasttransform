{
 "cells": [
  {
   "cell_type": "markdown",
   "id": "6add9147",
   "metadata": {},
   "source": [
    "# Fastcore migration guide\n",
    "\n",
    "> Moving from `fastcore` to `fasttransform`\n",
    "\n",
    "`fastcore`'s dispatch and transform modules are moved to a new library: `fasttransform`. This guide explains how to update your code for this change."
   ]
  },
  {
   "cell_type": "markdown",
   "id": "c2968827",
   "metadata": {},
   "source": [
    "## Fastai users\n",
    "\n",
    "If you're using fastai, there's nothing you need to do - these changes will be included in future fastai releases and your existing code will continue to work as before."
   ]
  },
  {
   "cell_type": "markdown",
   "id": "951680d0",
   "metadata": {},
   "source": [
    "## Fastcore dispatch users\n",
    "\n",
    "\n",
    "Fastcore's type dispatch system is being replaced with [Plum](https://github.com/beartype/plum), a more robust multiple dispatch library. This section covers how to update your code that uses `@typedispatch` or `TypeDispatch`."
   ]
  },
  {
   "cell_type": "markdown",
   "id": "24bfb7de",
   "metadata": {},
   "source": [
    "### Install plum: \n",
    "\n",
    "```bash\n",
    "pip install plum-dispatch\n",
    "```"
   ]
  },
  {
   "cell_type": "markdown",
   "id": "acb64196",
   "metadata": {},
   "source": [
    "### Simple decorator migration\n",
    "\n",
    "For most usecases switching to plum is as easy as switching out `fastcore`'s `typedispatch` for `plum`'s `dispatch`."
   ]
  },
  {
   "cell_type": "markdown",
   "id": "2892c3d8",
   "metadata": {},
   "source": [
    "Before:"
   ]
  },
  {
   "cell_type": "code",
   "execution_count": null,
   "id": "e8e502de",
   "metadata": {},
   "outputs": [],
   "source": [
    "#|eval: false\n",
    "from fastcore.dispatch import typedispatch\n",
    "\n",
    "@typedispatch \n",
    "def proc_fc(x: int): return x + 1\n",
    "\n",
    "@typedispatch\n",
    "def proc_fc(x: float): return x * 2"
   ]
  },
  {
   "cell_type": "markdown",
   "id": "838fc695",
   "metadata": {},
   "source": [
    "After:"
   ]
  },
  {
   "cell_type": "code",
   "execution_count": null,
   "id": "c386e998",
   "metadata": {},
   "outputs": [],
   "source": [
    "from plum import dispatch\n",
    "\n",
    "@dispatch \n",
    "def proc_pl(x: int): return x + 1\n",
    "\n",
    "@dispatch\n",
    "def proc_pl(x: float): return x * 2"
   ]
  },
  {
   "cell_type": "markdown",
   "id": "69026c52",
   "metadata": {},
   "source": [
    "### Converting TypeDispatch to Plum Function\n",
    "\n",
    "If you're using `TypeDispatch` directly, you'll need to use Plum's `Function` class instead. \n",
    "\n",
    "The key differences are:\n",
    "\n",
    "1. Initialization uses `Function()` instead of `TypeDispatch()`\n",
    "2. Methods are added using `.register()` or `.dispatch()`\n",
    "3. Function inspection uses `.methods` instead of `print()`\n"
   ]
  },
  {
   "cell_type": "markdown",
   "id": "6fc2b698",
   "metadata": {},
   "source": [
    "#### Initialization"
   ]
  },
  {
   "cell_type": "code",
   "execution_count": null,
   "id": "7ccf9440",
   "metadata": {},
   "outputs": [],
   "source": [
    "# setup\n",
    "import numbers\n",
    "\n",
    "def f2(x:int, y:float)->float: return x+y               #int and float for 2nd arg\n",
    "def f_nin(x:numbers.Integral)->int: return x+1          #integral numeric\n",
    "def f_ni2(x:int): return x                              #integer\n",
    "def f_fl(x:float)->float: return x                      #float\n",
    "def f_bll(x:bool|list)->bool|list: return x             #bool or list\n",
    "def f_num(x:numbers.Number)->numbers.Number: return x   #Number (root of numerics)\n",
    "\n",
    "fs = [\n",
    "    f2, \n",
    "    f_nin, \n",
    "    f_ni2, \n",
    "    f_fl,\n",
    "    f_bll, \n",
    "    f_num\n",
    "]"
   ]
  },
  {
   "cell_type": "markdown",
   "id": "560d394f",
   "metadata": {},
   "source": [
    "Before:"
   ]
  },
  {
   "cell_type": "code",
   "execution_count": null,
   "id": "e730cdc1",
   "metadata": {},
   "outputs": [
    {
     "data": {
      "text/plain": [
       "(bool,object) -> f_bll\n",
       "(int,float) -> f2\n",
       "(int,object) -> f_ni2\n",
       "(Integral,object) -> f_nin\n",
       "(float,object) -> f_fl\n",
       "(list,object) -> f_bll\n",
       "(Number,object) -> f_num"
      ]
     },
     "execution_count": null,
     "metadata": {},
     "output_type": "execute_result"
    }
   ],
   "source": [
    "#|eval: false\n",
    "from fastcore.dispatch import TypeDispatch\n",
    "t_fc = TypeDispatch(fs)\n",
    "t_fc"
   ]
  },
  {
   "cell_type": "markdown",
   "id": "881eb138",
   "metadata": {},
   "source": [
    "After:"
   ]
  },
  {
   "cell_type": "code",
   "execution_count": null,
   "id": "2c1fc529",
   "metadata": {},
   "outputs": [
    {
     "data": {
      "text/plain": [
       "6"
      ]
     },
     "execution_count": null,
     "metadata": {},
     "output_type": "execute_result"
    }
   ],
   "source": [
    "from plum import Function\n",
    "\n",
    "t_pl = Function(f2)\n",
    "for f in fs: t_pl.register(f)\n",
    "len(t_pl.methods)"
   ]
  },
  {
   "cell_type": "markdown",
   "id": "b22349b8",
   "metadata": {},
   "source": [
    "#### Adding new functions to an initialized TypeDispatch/Function"
   ]
  },
  {
   "cell_type": "markdown",
   "id": "b4c9feec",
   "metadata": {},
   "source": [
    "Before:"
   ]
  },
  {
   "cell_type": "code",
   "execution_count": null,
   "id": "813bbdac",
   "metadata": {},
   "outputs": [
    {
     "data": {
      "text/plain": [
       "(bool,object) -> f_bll\n",
       "(int,float) -> f2\n",
       "(int,object) -> f_ni2\n",
       "(Integral,object) -> f_nin\n",
       "(float,object) -> f_fl\n",
       "(list,object) -> f_bll\n",
       "(Number,object) -> f_num\n",
       "(object,object) -> <lambda>"
      ]
     },
     "execution_count": null,
     "metadata": {},
     "output_type": "execute_result"
    }
   ],
   "source": [
    "#|eval: false\n",
    "t_fc.add(lambda x: x**2)\n",
    "t_fc"
   ]
  },
  {
   "cell_type": "markdown",
   "id": "8aed1a6f",
   "metadata": {},
   "source": [
    "After:"
   ]
  },
  {
   "cell_type": "code",
   "execution_count": null,
   "id": "b95d8b97",
   "metadata": {},
   "outputs": [
    {
     "data": {
      "text/html": [
       "<pre style=\"white-space:pre;overflow-x:auto;line-height:normal;font-family:Menlo,'DejaVu Sans Mono',consolas,'Courier New',monospace\"></pre>\n"
      ],
      "text/plain": []
     },
     "metadata": {},
     "output_type": "display_data"
    },
    {
     "data": {
      "text/html": [
       "<pre style=\"white-space:pre;overflow-x:auto;line-height:normal;font-family:Menlo,'DejaVu Sans Mono',consolas,'Courier New',monospace\">List of <span style=\"color: #008080; text-decoration-color: #008080; font-weight: bold\">7</span> <span style=\"color: #800080; text-decoration-color: #800080; font-weight: bold\">method</span><span style=\"font-weight: bold\">(</span>s<span style=\"font-weight: bold\">)</span>:\n",
       "    [0] f2(x: <span style=\"font-weight: bold\">int</span>, y: <span style=\"font-weight: bold\">float</span>) -&gt; <span style=\"font-weight: bold\">float</span>                                                                              \n",
       "        &lt;function f2 at 0x10be6df80&gt; @                                                                             \n",
       "    <a href=\"file:///var/folders/0h/5ktbjhg17ns6j8zgdsgvzvy80000gn/T/ipykernel_14825/891647847.py#4\" target=\"_blank\"><span style=\"color: #c0c0c0; text-decoration-color: #c0c0c0\">/var/folders/0h/5ktbjhg17ns6j8zgdsgvzvy80000gn/T/ipykernel_14825/</span></a><a href=\"file:///var/folders/0h/5ktbjhg17ns6j8zgdsgvzvy80000gn/T/ipykernel_14825/891647847.py#4\" target=\"_blank\"><span style=\"color: #c0c0c0; text-decoration-color: #c0c0c0; font-weight: bold; text-decoration: underline\">891647847.py</span></a><a href=\"file:///var/folders/0h/5ktbjhg17ns6j8zgdsgvzvy80000gn/T/ipykernel_14825/891647847.py#4\" target=\"_blank\"><span style=\"color: #c0c0c0; text-decoration-color: #c0c0c0\">:4</span></a>                                \n",
       "    [1] f2(x: <span style=\"color: #a8a8a8; text-decoration-color: #a8a8a8\">numbers.</span><span style=\"color: #a8a8a8; text-decoration-color: #a8a8a8; font-weight: bold\">Integral</span>) -&gt; <span style=\"font-weight: bold\">int</span>                                                                             \n",
       "        &lt;function f_nin at 0x10be6dee0&gt; @                                                                          \n",
       "    <a href=\"file:///var/folders/0h/5ktbjhg17ns6j8zgdsgvzvy80000gn/T/ipykernel_14825/891647847.py#5\" target=\"_blank\"><span style=\"color: #c0c0c0; text-decoration-color: #c0c0c0\">/var/folders/0h/5ktbjhg17ns6j8zgdsgvzvy80000gn/T/ipykernel_14825/</span></a><a href=\"file:///var/folders/0h/5ktbjhg17ns6j8zgdsgvzvy80000gn/T/ipykernel_14825/891647847.py#5\" target=\"_blank\"><span style=\"color: #c0c0c0; text-decoration-color: #c0c0c0; font-weight: bold; text-decoration: underline\">891647847.py</span></a><a href=\"file:///var/folders/0h/5ktbjhg17ns6j8zgdsgvzvy80000gn/T/ipykernel_14825/891647847.py#5\" target=\"_blank\"><span style=\"color: #c0c0c0; text-decoration-color: #c0c0c0\">:5</span></a>                                \n",
       "    [2] f2(x: <span style=\"font-weight: bold\">int</span>)                                                                                                 \n",
       "        &lt;function f_ni2 at 0x10be6e020&gt; @                                                                          \n",
       "    <a href=\"file:///var/folders/0h/5ktbjhg17ns6j8zgdsgvzvy80000gn/T/ipykernel_14825/891647847.py#6\" target=\"_blank\"><span style=\"color: #c0c0c0; text-decoration-color: #c0c0c0\">/var/folders/0h/5ktbjhg17ns6j8zgdsgvzvy80000gn/T/ipykernel_14825/</span></a><a href=\"file:///var/folders/0h/5ktbjhg17ns6j8zgdsgvzvy80000gn/T/ipykernel_14825/891647847.py#6\" target=\"_blank\"><span style=\"color: #c0c0c0; text-decoration-color: #c0c0c0; font-weight: bold; text-decoration: underline\">891647847.py</span></a><a href=\"file:///var/folders/0h/5ktbjhg17ns6j8zgdsgvzvy80000gn/T/ipykernel_14825/891647847.py#6\" target=\"_blank\"><span style=\"color: #c0c0c0; text-decoration-color: #c0c0c0\">:6</span></a>                                \n",
       "    [3] f2(x: <span style=\"font-weight: bold\">float</span>) -&gt; <span style=\"font-weight: bold\">float</span>                                                                                      \n",
       "        &lt;function f_fl at 0x10be6e0c0&gt; @                                                                           \n",
       "    <a href=\"file:///var/folders/0h/5ktbjhg17ns6j8zgdsgvzvy80000gn/T/ipykernel_14825/891647847.py#7\" target=\"_blank\"><span style=\"color: #c0c0c0; text-decoration-color: #c0c0c0\">/var/folders/0h/5ktbjhg17ns6j8zgdsgvzvy80000gn/T/ipykernel_14825/</span></a><a href=\"file:///var/folders/0h/5ktbjhg17ns6j8zgdsgvzvy80000gn/T/ipykernel_14825/891647847.py#7\" target=\"_blank\"><span style=\"color: #c0c0c0; text-decoration-color: #c0c0c0; font-weight: bold; text-decoration: underline\">891647847.py</span></a><a href=\"file:///var/folders/0h/5ktbjhg17ns6j8zgdsgvzvy80000gn/T/ipykernel_14825/891647847.py#7\" target=\"_blank\"><span style=\"color: #c0c0c0; text-decoration-color: #c0c0c0\">:7</span></a>                                \n",
       "    [4] f2(x: <span style=\"font-weight: bold\">bool | list</span>) -&gt; <span style=\"font-weight: bold\">bool | list</span>                                                                          \n",
       "        &lt;function f_bll at 0x10be6e160&gt; @                                                                          \n",
       "    <a href=\"file:///var/folders/0h/5ktbjhg17ns6j8zgdsgvzvy80000gn/T/ipykernel_14825/891647847.py#8\" target=\"_blank\"><span style=\"color: #c0c0c0; text-decoration-color: #c0c0c0\">/var/folders/0h/5ktbjhg17ns6j8zgdsgvzvy80000gn/T/ipykernel_14825/</span></a><a href=\"file:///var/folders/0h/5ktbjhg17ns6j8zgdsgvzvy80000gn/T/ipykernel_14825/891647847.py#8\" target=\"_blank\"><span style=\"color: #c0c0c0; text-decoration-color: #c0c0c0; font-weight: bold; text-decoration: underline\">891647847.py</span></a><a href=\"file:///var/folders/0h/5ktbjhg17ns6j8zgdsgvzvy80000gn/T/ipykernel_14825/891647847.py#8\" target=\"_blank\"><span style=\"color: #c0c0c0; text-decoration-color: #c0c0c0\">:8</span></a>                                \n",
       "    [5] f2(x: <span style=\"color: #a8a8a8; text-decoration-color: #a8a8a8\">numbers.</span><span style=\"color: #a8a8a8; text-decoration-color: #a8a8a8; font-weight: bold\">Number</span>) -&gt; <span style=\"color: #a8a8a8; text-decoration-color: #a8a8a8\">numbers.</span><span style=\"color: #a8a8a8; text-decoration-color: #a8a8a8; font-weight: bold\">Number</span>                                                                    \n",
       "        &lt;function f_num at 0x10be6e200&gt; @                                                                          \n",
       "    <a href=\"file:///var/folders/0h/5ktbjhg17ns6j8zgdsgvzvy80000gn/T/ipykernel_14825/891647847.py#9\" target=\"_blank\"><span style=\"color: #c0c0c0; text-decoration-color: #c0c0c0\">/var/folders/0h/5ktbjhg17ns6j8zgdsgvzvy80000gn/T/ipykernel_14825/</span></a><a href=\"file:///var/folders/0h/5ktbjhg17ns6j8zgdsgvzvy80000gn/T/ipykernel_14825/891647847.py#9\" target=\"_blank\"><span style=\"color: #c0c0c0; text-decoration-color: #c0c0c0; font-weight: bold; text-decoration: underline\">891647847.py</span></a><a href=\"file:///var/folders/0h/5ktbjhg17ns6j8zgdsgvzvy80000gn/T/ipykernel_14825/891647847.py#9\" target=\"_blank\"><span style=\"color: #c0c0c0; text-decoration-color: #c0c0c0\">:9</span></a>                                \n",
       "    [6] f2(x: <span style=\"font-weight: bold\">Any</span>)                                                                                                 \n",
       "        &lt;function &lt;lambda&gt; at 0x10be85260&gt; @                                                                       \n",
       "    <a href=\"file:///var/folders/0h/5ktbjhg17ns6j8zgdsgvzvy80000gn/T/ipykernel_14825/2634702974.py#1\" target=\"_blank\"><span style=\"color: #c0c0c0; text-decoration-color: #c0c0c0\">/var/folders/0h/5ktbjhg17ns6j8zgdsgvzvy80000gn/T/ipykernel_14825/</span></a><a href=\"file:///var/folders/0h/5ktbjhg17ns6j8zgdsgvzvy80000gn/T/ipykernel_14825/2634702974.py#1\" target=\"_blank\"><span style=\"color: #c0c0c0; text-decoration-color: #c0c0c0; font-weight: bold; text-decoration: underline\">2634702974.py</span></a><a href=\"file:///var/folders/0h/5ktbjhg17ns6j8zgdsgvzvy80000gn/T/ipykernel_14825/2634702974.py#1\" target=\"_blank\"><span style=\"color: #c0c0c0; text-decoration-color: #c0c0c0\">:1</span></a>                               \n",
       "</pre>\n"
      ],
      "text/plain": [
       "List of \u001b[1;36m7\u001b[0m \u001b[1;35mmethod\u001b[0m\u001b[1m(\u001b[0ms\u001b[1m)\u001b[0m:\n",
       "    [0] f2(x: \u001b[1mint\u001b[0m, y: \u001b[1mfloat\u001b[0m) -> \u001b[1mfloat\u001b[0m                                                                              \n",
       "        <function f2> @                                                                             \n",
       "    \u001b]8;id=750224;file:///var/folders/0h/5ktbjhg17ns6j8zgdsgvzvy80000gn/T/ipykernel_14825/891647847.py#4\u001b\\\u001b[37m/var/folders/0h/5ktbjhg17ns6j8zgdsgvzvy80000gn/T/ipykernel_14825/\u001b[0m\u001b]8;;\u001b\\\u001b]8;id=568050;file:///var/folders/0h/5ktbjhg17ns6j8zgdsgvzvy80000gn/T/ipykernel_14825/891647847.py#4\u001b\\\u001b[1;4;37m891647847.py\u001b[0m\u001b]8;;\u001b\\\u001b]8;id=750224;file:///var/folders/0h/5ktbjhg17ns6j8zgdsgvzvy80000gn/T/ipykernel_14825/891647847.py#4\u001b\\\u001b[37m:4\u001b[0m\u001b]8;;\u001b\\                                \n",
       "    [1] f2(x: \u001b[38;5;248mnumbers.\u001b[0m\u001b[1;38;5;248mIntegral\u001b[0m) -> \u001b[1mint\u001b[0m                                                                             \n",
       "        <function f_nin> @                                                                          \n",
       "    \u001b]8;id=659013;file:///var/folders/0h/5ktbjhg17ns6j8zgdsgvzvy80000gn/T/ipykernel_14825/891647847.py#5\u001b\\\u001b[37m/var/folders/0h/5ktbjhg17ns6j8zgdsgvzvy80000gn/T/ipykernel_14825/\u001b[0m\u001b]8;;\u001b\\\u001b]8;id=207612;file:///var/folders/0h/5ktbjhg17ns6j8zgdsgvzvy80000gn/T/ipykernel_14825/891647847.py#5\u001b\\\u001b[1;4;37m891647847.py\u001b[0m\u001b]8;;\u001b\\\u001b]8;id=659013;file:///var/folders/0h/5ktbjhg17ns6j8zgdsgvzvy80000gn/T/ipykernel_14825/891647847.py#5\u001b\\\u001b[37m:5\u001b[0m\u001b]8;;\u001b\\                                \n",
       "    [2] f2(x: \u001b[1mint\u001b[0m)                                                                                                 \n",
       "        <function f_ni2> @                                                                          \n",
       "    \u001b]8;id=667774;file:///var/folders/0h/5ktbjhg17ns6j8zgdsgvzvy80000gn/T/ipykernel_14825/891647847.py#6\u001b\\\u001b[37m/var/folders/0h/5ktbjhg17ns6j8zgdsgvzvy80000gn/T/ipykernel_14825/\u001b[0m\u001b]8;;\u001b\\\u001b]8;id=614143;file:///var/folders/0h/5ktbjhg17ns6j8zgdsgvzvy80000gn/T/ipykernel_14825/891647847.py#6\u001b\\\u001b[1;4;37m891647847.py\u001b[0m\u001b]8;;\u001b\\\u001b]8;id=667774;file:///var/folders/0h/5ktbjhg17ns6j8zgdsgvzvy80000gn/T/ipykernel_14825/891647847.py#6\u001b\\\u001b[37m:6\u001b[0m\u001b]8;;\u001b\\                                \n",
       "    [3] f2(x: \u001b[1mfloat\u001b[0m) -> \u001b[1mfloat\u001b[0m                                                                                      \n",
       "        <function f_fl> @                                                                           \n",
       "    \u001b]8;id=83438;file:///var/folders/0h/5ktbjhg17ns6j8zgdsgvzvy80000gn/T/ipykernel_14825/891647847.py#7\u001b\\\u001b[37m/var/folders/0h/5ktbjhg17ns6j8zgdsgvzvy80000gn/T/ipykernel_14825/\u001b[0m\u001b]8;;\u001b\\\u001b]8;id=872681;file:///var/folders/0h/5ktbjhg17ns6j8zgdsgvzvy80000gn/T/ipykernel_14825/891647847.py#7\u001b\\\u001b[1;4;37m891647847.py\u001b[0m\u001b]8;;\u001b\\\u001b]8;id=83438;file:///var/folders/0h/5ktbjhg17ns6j8zgdsgvzvy80000gn/T/ipykernel_14825/891647847.py#7\u001b\\\u001b[37m:7\u001b[0m\u001b]8;;\u001b\\                                \n",
       "    [4] f2(x: \u001b[1mbool | list\u001b[0m) -> \u001b[1mbool | list\u001b[0m                                                                          \n",
       "        <function f_bll> @                                                                          \n",
       "    \u001b]8;id=237736;file:///var/folders/0h/5ktbjhg17ns6j8zgdsgvzvy80000gn/T/ipykernel_14825/891647847.py#8\u001b\\\u001b[37m/var/folders/0h/5ktbjhg17ns6j8zgdsgvzvy80000gn/T/ipykernel_14825/\u001b[0m\u001b]8;;\u001b\\\u001b]8;id=684612;file:///var/folders/0h/5ktbjhg17ns6j8zgdsgvzvy80000gn/T/ipykernel_14825/891647847.py#8\u001b\\\u001b[1;4;37m891647847.py\u001b[0m\u001b]8;;\u001b\\\u001b]8;id=237736;file:///var/folders/0h/5ktbjhg17ns6j8zgdsgvzvy80000gn/T/ipykernel_14825/891647847.py#8\u001b\\\u001b[37m:8\u001b[0m\u001b]8;;\u001b\\                                \n",
       "    [5] f2(x: \u001b[38;5;248mnumbers.\u001b[0m\u001b[1;38;5;248mNumber\u001b[0m) -> \u001b[38;5;248mnumbers.\u001b[0m\u001b[1;38;5;248mNumber\u001b[0m                                                                    \n",
       "        <function f_num> @                                                                          \n",
       "    \u001b]8;id=44512;file:///var/folders/0h/5ktbjhg17ns6j8zgdsgvzvy80000gn/T/ipykernel_14825/891647847.py#9\u001b\\\u001b[37m/var/folders/0h/5ktbjhg17ns6j8zgdsgvzvy80000gn/T/ipykernel_14825/\u001b[0m\u001b]8;;\u001b\\\u001b]8;id=301003;file:///var/folders/0h/5ktbjhg17ns6j8zgdsgvzvy80000gn/T/ipykernel_14825/891647847.py#9\u001b\\\u001b[1;4;37m891647847.py\u001b[0m\u001b]8;;\u001b\\\u001b]8;id=44512;file:///var/folders/0h/5ktbjhg17ns6j8zgdsgvzvy80000gn/T/ipykernel_14825/891647847.py#9\u001b\\\u001b[37m:9\u001b[0m\u001b]8;;\u001b\\                                \n",
       "    [6] f2(x: \u001b[1mAny\u001b[0m)                                                                                                 \n",
       "        <function <lambda>> @                                                                       \n",
       "    \u001b]8;id=487739;file:///var/folders/0h/5ktbjhg17ns6j8zgdsgvzvy80000gn/T/ipykernel_14825/2634702974.py#1\u001b\\\u001b[37m/var/folders/0h/5ktbjhg17ns6j8zgdsgvzvy80000gn/T/ipykernel_14825/\u001b[0m\u001b]8;;\u001b\\\u001b]8;id=97358;file:///var/folders/0h/5ktbjhg17ns6j8zgdsgvzvy80000gn/T/ipykernel_14825/2634702974.py#1\u001b\\\u001b[1;4;37m2634702974.py\u001b[0m\u001b]8;;\u001b\\\u001b]8;id=487739;file:///var/folders/0h/5ktbjhg17ns6j8zgdsgvzvy80000gn/T/ipykernel_14825/2634702974.py#1\u001b\\\u001b[37m:1\u001b[0m\u001b]8;;\u001b\\                               "
      ]
     },
     "execution_count": null,
     "metadata": {},
     "output_type": "execute_result"
    }
   ],
   "source": [
    "t_pl.register(lambda x: x**2)  # or t_pl.dispatch(lambda x: x**2)\n",
    "t_pl.methods"
   ]
  },
  {
   "cell_type": "markdown",
   "id": "281da2c3",
   "metadata": {},
   "source": [
    "#### Combining multiple instances of TypeDispatch/Function"
   ]
  },
  {
   "cell_type": "markdown",
   "id": "27084bbf",
   "metadata": {},
   "source": [
    "Fastcore provided a way to initialize TypeDispatch with pre-existing TypeDispatch objects as its base(s).\n",
    "\n",
    "Before:"
   ]
  },
  {
   "cell_type": "code",
   "execution_count": null,
   "id": "ff9599da",
   "metadata": {},
   "outputs": [],
   "source": [
    "def f_str(x:str): return x+'1'"
   ]
  },
  {
   "cell_type": "code",
   "execution_count": null,
   "id": "6c20695a",
   "metadata": {},
   "outputs": [
    {
     "data": {
      "text/plain": [
       "(str,object) -> f_str\n",
       "(bool,object) -> f_bll\n",
       "(int,float) -> f2\n",
       "(int,object) -> f_ni2\n",
       "(Integral,object) -> f_nin\n",
       "(float,object) -> f_fl\n",
       "(list,object) -> f_bll\n",
       "(Number,object) -> f_num\n",
       "(object,object) -> <lambda>"
      ]
     },
     "execution_count": null,
     "metadata": {},
     "output_type": "execute_result"
    }
   ],
   "source": [
    "#|eval: false\n",
    "t_fc2 = TypeDispatch(f_str, bases=t_fc)\n",
    "t_fc2"
   ]
  },
  {
   "cell_type": "markdown",
   "id": "7455457c",
   "metadata": {},
   "source": [
    "Plum does not provide this feature directly. But we've written a function to help you accomplish a similar result.\n",
    "\n",
    "After:"
   ]
  },
  {
   "cell_type": "code",
   "execution_count": null,
   "id": "57638c70",
   "metadata": {},
   "outputs": [
    {
     "data": {
      "text/html": [
       "<pre style=\"white-space:pre;overflow-x:auto;line-height:normal;font-family:Menlo,'DejaVu Sans Mono',consolas,'Courier New',monospace\"></pre>\n"
      ],
      "text/plain": []
     },
     "metadata": {},
     "output_type": "display_data"
    },
    {
     "data": {
      "text/html": [
       "<pre style=\"white-space:pre;overflow-x:auto;line-height:normal;font-family:Menlo,'DejaVu Sans Mono',consolas,'Courier New',monospace\">List of <span style=\"color: #008080; text-decoration-color: #008080; font-weight: bold\">8</span> <span style=\"color: #800080; text-decoration-color: #800080; font-weight: bold\">method</span><span style=\"font-weight: bold\">(</span>s<span style=\"font-weight: bold\">)</span>:\n",
       "    [0] f_str(x: <span style=\"font-weight: bold\">int</span>, y: <span style=\"font-weight: bold\">float</span>) -&gt; <span style=\"font-weight: bold\">float</span>                                                                           \n",
       "        &lt;function f2 at 0x10be6df80&gt; @                                                                             \n",
       "    <a href=\"file:///var/folders/0h/5ktbjhg17ns6j8zgdsgvzvy80000gn/T/ipykernel_14825/891647847.py#4\" target=\"_blank\"><span style=\"color: #c0c0c0; text-decoration-color: #c0c0c0\">/var/folders/0h/5ktbjhg17ns6j8zgdsgvzvy80000gn/T/ipykernel_14825/</span></a><a href=\"file:///var/folders/0h/5ktbjhg17ns6j8zgdsgvzvy80000gn/T/ipykernel_14825/891647847.py#4\" target=\"_blank\"><span style=\"color: #c0c0c0; text-decoration-color: #c0c0c0; font-weight: bold; text-decoration: underline\">891647847.py</span></a><a href=\"file:///var/folders/0h/5ktbjhg17ns6j8zgdsgvzvy80000gn/T/ipykernel_14825/891647847.py#4\" target=\"_blank\"><span style=\"color: #c0c0c0; text-decoration-color: #c0c0c0\">:4</span></a>                                \n",
       "    [1] f_str(x: <span style=\"color: #a8a8a8; text-decoration-color: #a8a8a8\">numbers.</span><span style=\"color: #a8a8a8; text-decoration-color: #a8a8a8; font-weight: bold\">Integral</span>) -&gt; <span style=\"font-weight: bold\">int</span>                                                                          \n",
       "        &lt;function f_nin at 0x10be6dee0&gt; @                                                                          \n",
       "    <a href=\"file:///var/folders/0h/5ktbjhg17ns6j8zgdsgvzvy80000gn/T/ipykernel_14825/891647847.py#5\" target=\"_blank\"><span style=\"color: #c0c0c0; text-decoration-color: #c0c0c0\">/var/folders/0h/5ktbjhg17ns6j8zgdsgvzvy80000gn/T/ipykernel_14825/</span></a><a href=\"file:///var/folders/0h/5ktbjhg17ns6j8zgdsgvzvy80000gn/T/ipykernel_14825/891647847.py#5\" target=\"_blank\"><span style=\"color: #c0c0c0; text-decoration-color: #c0c0c0; font-weight: bold; text-decoration: underline\">891647847.py</span></a><a href=\"file:///var/folders/0h/5ktbjhg17ns6j8zgdsgvzvy80000gn/T/ipykernel_14825/891647847.py#5\" target=\"_blank\"><span style=\"color: #c0c0c0; text-decoration-color: #c0c0c0\">:5</span></a>                                \n",
       "    [2] f_str(x: <span style=\"font-weight: bold\">int</span>)                                                                                              \n",
       "        &lt;function f_ni2 at 0x10be6e020&gt; @                                                                          \n",
       "    <a href=\"file:///var/folders/0h/5ktbjhg17ns6j8zgdsgvzvy80000gn/T/ipykernel_14825/891647847.py#6\" target=\"_blank\"><span style=\"color: #c0c0c0; text-decoration-color: #c0c0c0\">/var/folders/0h/5ktbjhg17ns6j8zgdsgvzvy80000gn/T/ipykernel_14825/</span></a><a href=\"file:///var/folders/0h/5ktbjhg17ns6j8zgdsgvzvy80000gn/T/ipykernel_14825/891647847.py#6\" target=\"_blank\"><span style=\"color: #c0c0c0; text-decoration-color: #c0c0c0; font-weight: bold; text-decoration: underline\">891647847.py</span></a><a href=\"file:///var/folders/0h/5ktbjhg17ns6j8zgdsgvzvy80000gn/T/ipykernel_14825/891647847.py#6\" target=\"_blank\"><span style=\"color: #c0c0c0; text-decoration-color: #c0c0c0\">:6</span></a>                                \n",
       "    [3] f_str(x: <span style=\"font-weight: bold\">float</span>) -&gt; <span style=\"font-weight: bold\">float</span>                                                                                   \n",
       "        &lt;function f_fl at 0x10be6e0c0&gt; @                                                                           \n",
       "    <a href=\"file:///var/folders/0h/5ktbjhg17ns6j8zgdsgvzvy80000gn/T/ipykernel_14825/891647847.py#7\" target=\"_blank\"><span style=\"color: #c0c0c0; text-decoration-color: #c0c0c0\">/var/folders/0h/5ktbjhg17ns6j8zgdsgvzvy80000gn/T/ipykernel_14825/</span></a><a href=\"file:///var/folders/0h/5ktbjhg17ns6j8zgdsgvzvy80000gn/T/ipykernel_14825/891647847.py#7\" target=\"_blank\"><span style=\"color: #c0c0c0; text-decoration-color: #c0c0c0; font-weight: bold; text-decoration: underline\">891647847.py</span></a><a href=\"file:///var/folders/0h/5ktbjhg17ns6j8zgdsgvzvy80000gn/T/ipykernel_14825/891647847.py#7\" target=\"_blank\"><span style=\"color: #c0c0c0; text-decoration-color: #c0c0c0\">:7</span></a>                                \n",
       "    [4] f_str(x: <span style=\"font-weight: bold\">bool | list</span>) -&gt; <span style=\"font-weight: bold\">bool | list</span>                                                                       \n",
       "        &lt;function f_bll at 0x10be6e160&gt; @                                                                          \n",
       "    <a href=\"file:///var/folders/0h/5ktbjhg17ns6j8zgdsgvzvy80000gn/T/ipykernel_14825/891647847.py#8\" target=\"_blank\"><span style=\"color: #c0c0c0; text-decoration-color: #c0c0c0\">/var/folders/0h/5ktbjhg17ns6j8zgdsgvzvy80000gn/T/ipykernel_14825/</span></a><a href=\"file:///var/folders/0h/5ktbjhg17ns6j8zgdsgvzvy80000gn/T/ipykernel_14825/891647847.py#8\" target=\"_blank\"><span style=\"color: #c0c0c0; text-decoration-color: #c0c0c0; font-weight: bold; text-decoration: underline\">891647847.py</span></a><a href=\"file:///var/folders/0h/5ktbjhg17ns6j8zgdsgvzvy80000gn/T/ipykernel_14825/891647847.py#8\" target=\"_blank\"><span style=\"color: #c0c0c0; text-decoration-color: #c0c0c0\">:8</span></a>                                \n",
       "    [5] f_str(x: <span style=\"color: #a8a8a8; text-decoration-color: #a8a8a8\">numbers.</span><span style=\"color: #a8a8a8; text-decoration-color: #a8a8a8; font-weight: bold\">Number</span>) -&gt; <span style=\"color: #a8a8a8; text-decoration-color: #a8a8a8\">numbers.</span><span style=\"color: #a8a8a8; text-decoration-color: #a8a8a8; font-weight: bold\">Number</span>                                                                 \n",
       "        &lt;function f_num at 0x10be6e200&gt; @                                                                          \n",
       "    <a href=\"file:///var/folders/0h/5ktbjhg17ns6j8zgdsgvzvy80000gn/T/ipykernel_14825/891647847.py#9\" target=\"_blank\"><span style=\"color: #c0c0c0; text-decoration-color: #c0c0c0\">/var/folders/0h/5ktbjhg17ns6j8zgdsgvzvy80000gn/T/ipykernel_14825/</span></a><a href=\"file:///var/folders/0h/5ktbjhg17ns6j8zgdsgvzvy80000gn/T/ipykernel_14825/891647847.py#9\" target=\"_blank\"><span style=\"color: #c0c0c0; text-decoration-color: #c0c0c0; font-weight: bold; text-decoration: underline\">891647847.py</span></a><a href=\"file:///var/folders/0h/5ktbjhg17ns6j8zgdsgvzvy80000gn/T/ipykernel_14825/891647847.py#9\" target=\"_blank\"><span style=\"color: #c0c0c0; text-decoration-color: #c0c0c0\">:9</span></a>                                \n",
       "    [6] f_str(x: <span style=\"font-weight: bold\">Any</span>)                                                                                              \n",
       "        &lt;function &lt;lambda&gt; at 0x10be85260&gt; @                                                                       \n",
       "    <a href=\"file:///var/folders/0h/5ktbjhg17ns6j8zgdsgvzvy80000gn/T/ipykernel_14825/2634702974.py#1\" target=\"_blank\"><span style=\"color: #c0c0c0; text-decoration-color: #c0c0c0\">/var/folders/0h/5ktbjhg17ns6j8zgdsgvzvy80000gn/T/ipykernel_14825/</span></a><a href=\"file:///var/folders/0h/5ktbjhg17ns6j8zgdsgvzvy80000gn/T/ipykernel_14825/2634702974.py#1\" target=\"_blank\"><span style=\"color: #c0c0c0; text-decoration-color: #c0c0c0; font-weight: bold; text-decoration: underline\">2634702974.py</span></a><a href=\"file:///var/folders/0h/5ktbjhg17ns6j8zgdsgvzvy80000gn/T/ipykernel_14825/2634702974.py#1\" target=\"_blank\"><span style=\"color: #c0c0c0; text-decoration-color: #c0c0c0\">:1</span></a>                               \n",
       "    [7] f_str(x: <span style=\"font-weight: bold\">str</span>)                                                                                              \n",
       "        &lt;function f_str at 0x10be85ee0&gt; @                                                                          \n",
       "    <a href=\"file:///var/folders/0h/5ktbjhg17ns6j8zgdsgvzvy80000gn/T/ipykernel_14825/3062264994.py#1\" target=\"_blank\"><span style=\"color: #c0c0c0; text-decoration-color: #c0c0c0\">/var/folders/0h/5ktbjhg17ns6j8zgdsgvzvy80000gn/T/ipykernel_14825/</span></a><a href=\"file:///var/folders/0h/5ktbjhg17ns6j8zgdsgvzvy80000gn/T/ipykernel_14825/3062264994.py#1\" target=\"_blank\"><span style=\"color: #c0c0c0; text-decoration-color: #c0c0c0; font-weight: bold; text-decoration: underline\">3062264994.py</span></a><a href=\"file:///var/folders/0h/5ktbjhg17ns6j8zgdsgvzvy80000gn/T/ipykernel_14825/3062264994.py#1\" target=\"_blank\"><span style=\"color: #c0c0c0; text-decoration-color: #c0c0c0\">:1</span></a>                               \n",
       "</pre>\n"
      ],
      "text/plain": [
       "List of \u001b[1;36m8\u001b[0m \u001b[1;35mmethod\u001b[0m\u001b[1m(\u001b[0ms\u001b[1m)\u001b[0m:\n",
       "    [0] f_str(x: \u001b[1mint\u001b[0m, y: \u001b[1mfloat\u001b[0m) -> \u001b[1mfloat\u001b[0m                                                                           \n",
       "        <function f2> @                                                                             \n",
       "    \u001b]8;id=36870;file:///var/folders/0h/5ktbjhg17ns6j8zgdsgvzvy80000gn/T/ipykernel_14825/891647847.py#4\u001b\\\u001b[37m/var/folders/0h/5ktbjhg17ns6j8zgdsgvzvy80000gn/T/ipykernel_14825/\u001b[0m\u001b]8;;\u001b\\\u001b]8;id=173909;file:///var/folders/0h/5ktbjhg17ns6j8zgdsgvzvy80000gn/T/ipykernel_14825/891647847.py#4\u001b\\\u001b[1;4;37m891647847.py\u001b[0m\u001b]8;;\u001b\\\u001b]8;id=36870;file:///var/folders/0h/5ktbjhg17ns6j8zgdsgvzvy80000gn/T/ipykernel_14825/891647847.py#4\u001b\\\u001b[37m:4\u001b[0m\u001b]8;;\u001b\\                                \n",
       "    [1] f_str(x: \u001b[38;5;248mnumbers.\u001b[0m\u001b[1;38;5;248mIntegral\u001b[0m) -> \u001b[1mint\u001b[0m                                                                          \n",
       "        <function f_nin> @                                                                          \n",
       "    \u001b]8;id=252939;file:///var/folders/0h/5ktbjhg17ns6j8zgdsgvzvy80000gn/T/ipykernel_14825/891647847.py#5\u001b\\\u001b[37m/var/folders/0h/5ktbjhg17ns6j8zgdsgvzvy80000gn/T/ipykernel_14825/\u001b[0m\u001b]8;;\u001b\\\u001b]8;id=422960;file:///var/folders/0h/5ktbjhg17ns6j8zgdsgvzvy80000gn/T/ipykernel_14825/891647847.py#5\u001b\\\u001b[1;4;37m891647847.py\u001b[0m\u001b]8;;\u001b\\\u001b]8;id=252939;file:///var/folders/0h/5ktbjhg17ns6j8zgdsgvzvy80000gn/T/ipykernel_14825/891647847.py#5\u001b\\\u001b[37m:5\u001b[0m\u001b]8;;\u001b\\                                \n",
       "    [2] f_str(x: \u001b[1mint\u001b[0m)                                                                                              \n",
       "        <function f_ni2> @                                                                          \n",
       "    \u001b]8;id=392437;file:///var/folders/0h/5ktbjhg17ns6j8zgdsgvzvy80000gn/T/ipykernel_14825/891647847.py#6\u001b\\\u001b[37m/var/folders/0h/5ktbjhg17ns6j8zgdsgvzvy80000gn/T/ipykernel_14825/\u001b[0m\u001b]8;;\u001b\\\u001b]8;id=842739;file:///var/folders/0h/5ktbjhg17ns6j8zgdsgvzvy80000gn/T/ipykernel_14825/891647847.py#6\u001b\\\u001b[1;4;37m891647847.py\u001b[0m\u001b]8;;\u001b\\\u001b]8;id=392437;file:///var/folders/0h/5ktbjhg17ns6j8zgdsgvzvy80000gn/T/ipykernel_14825/891647847.py#6\u001b\\\u001b[37m:6\u001b[0m\u001b]8;;\u001b\\                                \n",
       "    [3] f_str(x: \u001b[1mfloat\u001b[0m) -> \u001b[1mfloat\u001b[0m                                                                                   \n",
       "        <function f_fl> @                                                                           \n",
       "    \u001b]8;id=301874;file:///var/folders/0h/5ktbjhg17ns6j8zgdsgvzvy80000gn/T/ipykernel_14825/891647847.py#7\u001b\\\u001b[37m/var/folders/0h/5ktbjhg17ns6j8zgdsgvzvy80000gn/T/ipykernel_14825/\u001b[0m\u001b]8;;\u001b\\\u001b]8;id=360269;file:///var/folders/0h/5ktbjhg17ns6j8zgdsgvzvy80000gn/T/ipykernel_14825/891647847.py#7\u001b\\\u001b[1;4;37m891647847.py\u001b[0m\u001b]8;;\u001b\\\u001b]8;id=301874;file:///var/folders/0h/5ktbjhg17ns6j8zgdsgvzvy80000gn/T/ipykernel_14825/891647847.py#7\u001b\\\u001b[37m:7\u001b[0m\u001b]8;;\u001b\\                                \n",
       "    [4] f_str(x: \u001b[1mbool | list\u001b[0m) -> \u001b[1mbool | list\u001b[0m                                                                       \n",
       "        <function f_bll> @                                                                          \n",
       "    \u001b]8;id=376691;file:///var/folders/0h/5ktbjhg17ns6j8zgdsgvzvy80000gn/T/ipykernel_14825/891647847.py#8\u001b\\\u001b[37m/var/folders/0h/5ktbjhg17ns6j8zgdsgvzvy80000gn/T/ipykernel_14825/\u001b[0m\u001b]8;;\u001b\\\u001b]8;id=891188;file:///var/folders/0h/5ktbjhg17ns6j8zgdsgvzvy80000gn/T/ipykernel_14825/891647847.py#8\u001b\\\u001b[1;4;37m891647847.py\u001b[0m\u001b]8;;\u001b\\\u001b]8;id=376691;file:///var/folders/0h/5ktbjhg17ns6j8zgdsgvzvy80000gn/T/ipykernel_14825/891647847.py#8\u001b\\\u001b[37m:8\u001b[0m\u001b]8;;\u001b\\                                \n",
       "    [5] f_str(x: \u001b[38;5;248mnumbers.\u001b[0m\u001b[1;38;5;248mNumber\u001b[0m) -> \u001b[38;5;248mnumbers.\u001b[0m\u001b[1;38;5;248mNumber\u001b[0m                                                                 \n",
       "        <function f_num> @                                                                          \n",
       "    \u001b]8;id=736328;file:///var/folders/0h/5ktbjhg17ns6j8zgdsgvzvy80000gn/T/ipykernel_14825/891647847.py#9\u001b\\\u001b[37m/var/folders/0h/5ktbjhg17ns6j8zgdsgvzvy80000gn/T/ipykernel_14825/\u001b[0m\u001b]8;;\u001b\\\u001b]8;id=529248;file:///var/folders/0h/5ktbjhg17ns6j8zgdsgvzvy80000gn/T/ipykernel_14825/891647847.py#9\u001b\\\u001b[1;4;37m891647847.py\u001b[0m\u001b]8;;\u001b\\\u001b]8;id=736328;file:///var/folders/0h/5ktbjhg17ns6j8zgdsgvzvy80000gn/T/ipykernel_14825/891647847.py#9\u001b\\\u001b[37m:9\u001b[0m\u001b]8;;\u001b\\                                \n",
       "    [6] f_str(x: \u001b[1mAny\u001b[0m)                                                                                              \n",
       "        <function <lambda>> @                                                                       \n",
       "    \u001b]8;id=852277;file:///var/folders/0h/5ktbjhg17ns6j8zgdsgvzvy80000gn/T/ipykernel_14825/2634702974.py#1\u001b\\\u001b[37m/var/folders/0h/5ktbjhg17ns6j8zgdsgvzvy80000gn/T/ipykernel_14825/\u001b[0m\u001b]8;;\u001b\\\u001b]8;id=407433;file:///var/folders/0h/5ktbjhg17ns6j8zgdsgvzvy80000gn/T/ipykernel_14825/2634702974.py#1\u001b\\\u001b[1;4;37m2634702974.py\u001b[0m\u001b]8;;\u001b\\\u001b]8;id=852277;file:///var/folders/0h/5ktbjhg17ns6j8zgdsgvzvy80000gn/T/ipykernel_14825/2634702974.py#1\u001b\\\u001b[37m:1\u001b[0m\u001b]8;;\u001b\\                               \n",
       "    [7] f_str(x: \u001b[1mstr\u001b[0m)                                                                                              \n",
       "        <function f_str> @                                                                          \n",
       "    \u001b]8;id=608047;file:///var/folders/0h/5ktbjhg17ns6j8zgdsgvzvy80000gn/T/ipykernel_14825/3062264994.py#1\u001b\\\u001b[37m/var/folders/0h/5ktbjhg17ns6j8zgdsgvzvy80000gn/T/ipykernel_14825/\u001b[0m\u001b]8;;\u001b\\\u001b]8;id=734400;file:///var/folders/0h/5ktbjhg17ns6j8zgdsgvzvy80000gn/T/ipykernel_14825/3062264994.py#1\u001b\\\u001b[1;4;37m3062264994.py\u001b[0m\u001b]8;;\u001b\\\u001b]8;id=608047;file:///var/folders/0h/5ktbjhg17ns6j8zgdsgvzvy80000gn/T/ipykernel_14825/3062264994.py#1\u001b\\\u001b[37m:1\u001b[0m\u001b]8;;\u001b\\                               "
      ]
     },
     "execution_count": null,
     "metadata": {},
     "output_type": "execute_result"
    }
   ],
   "source": [
    "from fasttransform.transform import _merge_funcs\n",
    "\n",
    "t_pl_new = Function(f_str).dispatch(f_str)\n",
    "t_pl2 = _merge_funcs(t_pl_new, t_pl)\n",
    "t_pl2.methods"
   ]
  },
  {
   "cell_type": "markdown",
   "id": "8e4ea0d6",
   "metadata": {},
   "source": [
    "#### Obtain the raw function and return type for given arg types"
   ]
  },
  {
   "cell_type": "markdown",
   "id": "b20bfff0",
   "metadata": {},
   "source": [
    "If you wanted to retrieve the raw function that matches given runtime input types.\n",
    "Then with TypeDispatch you could use the `__getitem__` method.\n",
    "\n",
    "Before:"
   ]
  },
  {
   "cell_type": "code",
   "execution_count": null,
   "id": "b1f40fd3",
   "metadata": {},
   "outputs": [
    {
     "data": {
      "text/plain": [
       "<function __main__.f_ni2(x: int)>"
      ]
     },
     "execution_count": null,
     "metadata": {},
     "output_type": "execute_result"
    }
   ],
   "source": [
    "#|eval: false\n",
    "t_fc[int]"
   ]
  },
  {
   "cell_type": "markdown",
   "id": "12573a88",
   "metadata": {},
   "source": [
    "If you wanted to retrieve that raw function's return type then you can use the `.returns` method.\n",
    "\n",
    "Before:"
   ]
  },
  {
   "cell_type": "code",
   "execution_count": null,
   "id": "88866505",
   "metadata": {},
   "outputs": [],
   "source": [
    "#|eval: false\n",
    "t_fc.returns(5)"
   ]
  },
  {
   "cell_type": "markdown",
   "id": "534cfeff",
   "metadata": {},
   "source": [
    "Plum's Function does not provided the exact same functionality. But you can pass arguments to `.resolve_method` or `._resolve_method_with_cache` method to find the matching raw function and it's return type."
   ]
  },
  {
   "cell_type": "markdown",
   "id": "f68f04c1",
   "metadata": {},
   "source": [
    "After:"
   ]
  },
  {
   "cell_type": "code",
   "execution_count": null,
   "id": "a5d8d577",
   "metadata": {},
   "outputs": [
    {
     "name": "stdout",
     "output_type": "stream",
     "text": [
      "<function f_ni2>\n",
      "typing.Any\n"
     ]
    }
   ],
   "source": [
    "raw_func, ret_type = t_pl.resolve_method((5,))\n",
    "print(raw_func)\n",
    "print(ret_type)"
   ]
  },
  {
   "cell_type": "markdown",
   "id": "3b8f6e91",
   "metadata": {},
   "source": [
    "or the cached version:"
   ]
  },
  {
   "cell_type": "code",
   "execution_count": null,
   "id": "16464785",
   "metadata": {},
   "outputs": [
    {
     "name": "stdout",
     "output_type": "stream",
     "text": [
      "<function f_ni2>\n",
      "typing.Any\n"
     ]
    }
   ],
   "source": [
    "raw_func, ret_type = t_pl._resolve_method_with_cache((5,))\n",
    "print(raw_func)\n",
    "print(ret_type)"
   ]
  },
  {
   "cell_type": "markdown",
   "id": "be72da08",
   "metadata": {},
   "source": [
    "### Breaking Change: Ambiguous Type Matching\n",
    "\n",
    "A key behavioral difference in Plum is how it handles ambiguous type matches:\n",
    "\n",
    "- Fastcore: Silently uses the last defined function when multiple matches exist\n",
    "- Plum: Raises an `AmbiguousLookupError` to prevent unexpected behavior\n",
    "\n",
    "Example:"
   ]
  },
  {
   "cell_type": "code",
   "execution_count": null,
   "id": "c78991ad",
   "metadata": {},
   "outputs": [
    {
     "data": {
      "text/plain": [
       "15"
      ]
     },
     "execution_count": null,
     "metadata": {},
     "output_type": "execute_result"
    }
   ],
   "source": [
    "#|eval: false\n",
    "@typedispatch\n",
    "def f2_fc(x:int|float): return x+2\n",
    "@typedispatch\n",
    "def f2_fc(x:int|str): return x*3\n",
    "\n",
    "f2_fc(5)"
   ]
  },
  {
   "cell_type": "markdown",
   "id": "475ded1a",
   "metadata": {},
   "source": [
    "While plum will raise an `AmbiguousLookupError`."
   ]
  },
  {
   "cell_type": "code",
   "execution_count": null,
   "id": "c836a615",
   "metadata": {},
   "outputs": [
    {
     "name": "stdout",
     "output_type": "stream",
     "text": [
      "Caught expected AmbiguousLookupError\n"
     ]
    }
   ],
   "source": [
    "from plum import AmbiguousLookupError\n",
    "\n",
    "@dispatch\n",
    "def f2_pl(x:int|float): return x+2\n",
    "@dispatch\n",
    "def f2_pl(x:int|str): return x*3\n",
    "\n",
    "try: f2_pl(5)\n",
    "except AmbiguousLookupError: print(\"Caught expected AmbiguousLookupError\")"
   ]
  },
  {
   "cell_type": "markdown",
   "id": "ad8068ac",
   "metadata": {},
   "source": [
    "## Moving from fastcore to fasttransform\n",
    "\n",
    "If you're using `Transform` or `Pipeline`, follow these steps:\n",
    "\n",
    "### install fasttransform\n",
    "\n",
    "1. Install the new package:\n",
    "   ```bash\n",
    "   pip install fasttransform\n",
    "   ```\n",
    "\n",
    "### Update imports"
   ]
  },
  {
   "cell_type": "markdown",
   "id": "5143502f",
   "metadata": {},
   "source": [
    "```python\n",
    "# Before\n",
    "from fastcore.transform import Transform, Pipeline\n",
    "```"
   ]
  },
  {
   "cell_type": "code",
   "execution_count": null,
   "id": "2e65308e",
   "metadata": {},
   "outputs": [],
   "source": [
    "# After\n",
    "from fasttransform import Transform, Pipeline"
   ]
  },
  {
   "cell_type": "markdown",
   "id": "a4a61079",
   "metadata": {},
   "source": [
    "### Initializing Transform\n",
    "\n",
    "In fasttransform, you can now define multiple encode/decode methods either through subclassing (like before) or directly:"
   ]
  },
  {
   "cell_type": "code",
   "execution_count": null,
   "id": "e31cead7",
   "metadata": {},
   "outputs": [
    {
     "data": {
      "text/plain": [
       "MyTransform:\n",
       "encodes: (int,object) -> encodes\n",
       "(str,object) -> encodes\n",
       "decodes: (int,object) -> decodes\n",
       "(str,object) -> decodes"
      ]
     },
     "execution_count": null,
     "metadata": {},
     "output_type": "execute_result"
    }
   ],
   "source": [
    "#|eval: false\n",
    "# Before (subclassing required)\n",
    "from fastcore.transform import Transform as FCTransform\n",
    "\n",
    "class MyTransform(FCTransform):\n",
    "    def encodes(self, x:int): return \"enc int!\"\n",
    "    def encodes(self, x:str): return \"enc str!\"\n",
    "    \n",
    "    def decodes(self, x:int): return \"dec int!\"\n",
    "    def decodes(self, x:str): return \"dec str!\"\n",
    "\n",
    "fct = MyTransform()\n",
    "fct"
   ]
  },
  {
   "cell_type": "markdown",
   "id": "0bd37dae",
   "metadata": {},
   "source": [
    "While the old behavior is still supported, you can now *also* do the following:"
   ]
  },
  {
   "cell_type": "code",
   "execution_count": null,
   "id": "c23d03e7",
   "metadata": {},
   "outputs": [
    {
     "data": {
      "text/plain": [
       "my_transform(enc:2,dec:2)"
      ]
     },
     "execution_count": null,
     "metadata": {},
     "output_type": "execute_result"
    }
   ],
   "source": [
    "# After (direct initialization possible)\n",
    "from fasttransform import Transform\n",
    "\n",
    "def my_transform(x:int): return \"enc int!\"\n",
    "def my_transform2(x:str): return \"enc str!\"\n",
    "def my_transform_dec(x:int): return \"dec int!\"\n",
    "def my_transform_dec2(x:str): return \"dec str!\"\n",
    "\n",
    "Transform(enc=(my_transform,my_transform2), dec=(my_transform_dec,my_transform_dec2))"
   ]
  },
  {
   "cell_type": "markdown",
   "id": "3bf44097",
   "metadata": {},
   "source": [
    "### Advanced: Custom Transform Implementation\n",
    "\n",
    "If you've overridden internal methods like `_call` or `_do_call` in your custom Transform classes:\n",
    "\n",
    "1. Review the new Plum-based implementation in the source code\n",
    "2. Update your methods to work with Plum's `Function` class instead of `TypeDispatch`\n",
    "3. If you need help, create an [issue](https://github.com/AnswerDotAI/fasttransform/issues)"
   ]
  }
 ],
 "metadata": {
  "kernelspec": {
   "display_name": "python3",
   "language": "python",
   "name": "python3"
  }
 },
 "nbformat": 4,
 "nbformat_minor": 5
}
