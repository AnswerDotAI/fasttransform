{
 "cells": [
  {
   "cell_type": "markdown",
   "id": "1365ca9d",
   "metadata": {},
   "source": [
    "# Return type casting differences plum vs fastcore\n",
    "\n",
    "In the example below you can see the differences between plum and fastcore wrt return type casting after function dispatch.\n",
    "\n",
    "The summary is:\n",
    "\n",
    "* Plum supports going from specific types to more generic types\n",
    "* Fastcore **also** supports going from generic types to more specific types\n",
    "\n",
    "I believe that for Transform the fastcore way makes more sense. The docs put it nicely:\n",
    "\n",
    "> Type propagation - Whenever possible a transform tries to return data of the same type it received. Mainly used to maintain semantics of things like ArrayImage which is a thin wrapper of pytorch's Tensor. You can opt out of this behavior by adding ->None return type annotation.\n",
    "\n",
    "Curious if you agree. But I'll continue implementing the fastcore way for now."
   ]
  },
  {
   "cell_type": "code",
   "execution_count": null,
   "id": "2fc5bba6",
   "metadata": {},
   "outputs": [],
   "source": [
    "from fastcore.transform import Transform\n",
    "import plum\n",
    "\n",
    "class FloatSubclass(float): pass\n",
    "\n",
    "# Plum version - allows FloatSubclass -> float but not float -> FloatSubclass\n",
    "@plum.dispatcher.dispatch\n",
    "def plum_func_float_subclass(x) -> FloatSubclass: return x*2\n",
    "\n",
    "@plum.dispatcher.dispatch\n",
    "def plum_func_float(x) -> float: return x*2\n",
    "\n",
    "# Fastcore version - allows float -> FloatSubclass but not FloatSubclass -> float  \n",
    "@Transform\n",
    "def fastcore_func_float_subclass(x) -> FloatSubclass: return x*2\n",
    "\n",
    "@Transform\n",
    "def fastcore_func_float(x) -> float: return x*2\n",
    "\n",
    "# Test cases\n",
    "x_float = 3.0\n",
    "x_subclass = FloatSubclass(3.0)"
   ]
  },
  {
   "cell_type": "code",
   "execution_count": null,
   "id": "07490b0b",
   "metadata": {},
   "outputs": [
    {
     "name": "stdout",
     "output_type": "stream",
     "text": [
      "Plum tests:\n",
      "float -> FloatSubclass: Cannot convert `6.0` to `__main__.FloatSubclass`.\n",
      "FloatSubclass -> FloatSubclass: Cannot convert `6.0` to `__main__.FloatSubclass`.\n",
      "float -> float: <class 'float'>\n",
      "FloatSubclass -> float: <class 'float'>\n",
      "\n",
      "Fastcore tests:\n",
      "float -> FloatSubclass: <class '__main__.FloatSubclass'>\n",
      "FloatSubclass -> FloatSubclass: <class '__main__.FloatSubclass'>\n",
      "float -> float: <class 'float'>\n",
      "FloatSubclass -> float: <class 'float'>\n"
     ]
    }
   ],
   "source": [
    "print(\"Plum tests:\")\n",
    "for fn,inp,name in [\n",
    "    (plum_func_float_subclass, x_float, \"float -> FloatSubclass\"),\n",
    "    (plum_func_float_subclass, x_subclass, \"FloatSubclass -> FloatSubclass\"),\n",
    "    (plum_func_float, x_float, \"float -> float\"),\n",
    "    (plum_func_float, x_subclass, \"FloatSubclass -> float\"),\n",
    "]:\n",
    "    try: res = type(fn(inp))\n",
    "    except Exception as e: res = e\n",
    "    print(f\"{name}: {res}\")\n",
    "\n",
    "print(\"\\nFastcore tests:\")\n",
    "for fn,inp,name in [\n",
    "    (fastcore_func_float_subclass, x_float, \"float -> FloatSubclass\"),\n",
    "    (fastcore_func_float_subclass, x_subclass, \"FloatSubclass -> FloatSubclass\"),\n",
    "    (fastcore_func_float, x_float, \"float -> float\"),\n",
    "    (fastcore_func_float, x_subclass, \"FloatSubclass -> float\"),\n",
    "]:\n",
    "    try: res = type(fn(inp))\n",
    "    except Exception as e: res = e\n",
    "    print(f\"{name}: {res}\")"
   ]
  }
 ],
 "metadata": {
  "kernelspec": {
   "display_name": "python3",
   "language": "python",
   "name": "python3"
  }
 },
 "nbformat": 4,
 "nbformat_minor": 5
}
