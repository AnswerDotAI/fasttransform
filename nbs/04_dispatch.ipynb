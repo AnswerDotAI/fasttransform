{
 "cells": [
  {
   "cell_type": "code",
   "execution_count": 1,
   "metadata": {},
   "outputs": [],
   "source": [
    "#|default_exp dispatch"
   ]
  },
  {
   "cell_type": "code",
   "execution_count": 2,
   "metadata": {},
   "outputs": [],
   "source": [
    "#|export\n",
    "from __future__ import annotations\n",
    "from fastcore.imports import *\n",
    "from fastcore.foundation import *\n",
    "from fastcore.utils import *\n",
    "\n",
    "from collections import defaultdict\n",
    "\n",
    "from plum.function import Function\n",
    "from plum.signature import Signature\n",
    "from plum import NotFoundLookupError, AmbiguousLookupError"
   ]
  },
  {
   "cell_type": "code",
   "execution_count": 3,
   "metadata": {},
   "outputs": [],
   "source": [
    "from nbdev.showdoc import *\n",
    "from fastcore.test import *\n",
    "from fastcore.nb_imports import *"
   ]
  },
  {
   "cell_type": "markdown",
   "metadata": {},
   "source": [
    "## Utilities"
   ]
  },
  {
   "cell_type": "code",
   "execution_count": 4,
   "metadata": {},
   "outputs": [],
   "source": [
    "#|export\n",
    "# TODO(Rens): find better spot for this?\n",
    "def _get_name(f):\n",
    "    \"\"\"Get the name of a function or callable object\"\"\"\n",
    "    return getattr(f, '__name__', getattr(f.__class__, '__name__', str(f)))"
   ]
  },
  {
   "cell_type": "markdown",
   "metadata": {},
   "source": [
    "# TypeDispatch\n",
    "\n",
    "> Basic single and dual parameter dispatch"
   ]
  },
  {
   "cell_type": "markdown",
   "metadata": {},
   "source": [
    "Type dispatch, or [Multiple dispatch](https://en.wikipedia.org/wiki/Multiple_dispatch#Julia), allows you to change the way a function behaves based upon the input types it recevies.  This is a prominent feature in some  programming languages like Julia.  For example, this is a [conceptual example](https://en.wikipedia.org/wiki/Multiple_dispatch#Julia) of how multiple dispatch works in Julia, returning different values depending on the input types of x and y:\n",
    "\n",
    "```julia\n",
    "collide_with(x::Asteroid, y::Asteroid) = ... \n",
    "# deal with asteroid hitting asteroid\n",
    "\n",
    "collide_with(x::Asteroid, y::Spaceship) = ... \n",
    "# deal with asteroid hitting spaceship\n",
    "\n",
    "collide_with(x::Spaceship, y::Asteroid) = ... \n",
    "# deal with spaceship hitting asteroid\n",
    "\n",
    "collide_with(x::Spaceship, y::Spaceship) = ... \n",
    "# deal with spaceship hitting spaceship\n",
    "```\n",
    "\n",
    "Type dispatch can be especially useful in data science, where you might allow different input types (i.e. numpy arrays and pandas dataframes) to function that processes data. Type dispatch allows you to have a common API for functions that do similar tasks.\n",
    "\n",
    "The `TypeDispatch` class allows us to achieve type dispatch in Python. It contains a dictionary that maps types from type annotations to functions,  which ensures that the proper function is called when passed inputs."
   ]
  },
  {
   "cell_type": "code",
   "execution_count": 5,
   "metadata": {},
   "outputs": [],
   "source": [
    "#|export\n",
    "# TODO(Rens): Add docs\n",
    "class TypeDispatch:\n",
    "    \"Dictionary-like object; `__getitem__` matches keys of types using `issubclass`\"\n",
    "    def __init__(self, funcs=(), bases=()):\n",
    "        self.func = None\n",
    "        self.bases = [b for b in (bases if isinstance(bases, Iterable) else (bases,)) \n",
    "                    if b is not None]  # Filter out None bases\n",
    "        self.inst = None\n",
    "        self.owner = None\n",
    "        \n",
    "        # Try to get func from bases if we don't have one\n",
    "        if not funcs and self.bases:\n",
    "            for base in self.bases:\n",
    "                if base.func is not None:\n",
    "                    self.func = base.func\n",
    "                    break\n",
    "        \n",
    "        funcs = funcs if isinstance(funcs, Iterable) else (funcs,)\n",
    "        for f in funcs: self.add(f)     \n",
    "\n",
    "    def add(self, f):\n",
    "        \"Add type `t` and function `f`\"\n",
    "        if not self.func:\n",
    "            # TODO(Rens): extract to separate func?\n",
    "            # Wrap f in a function that has __name__\n",
    "            if not hasattr(f, '__name__'):\n",
    "                orig_f = f\n",
    "                def wrapped(*args, **kwargs): return orig_f(*args, **kwargs)\n",
    "                wrapped.__name__ = _get_name(f)\n",
    "                f = wrapped\n",
    "            self.func = Function(f)\n",
    "        self.func.dispatch(f)\n",
    "    \n",
    "    def __call__(self, *args, **kwargs):\n",
    "        # TODO(Rens): handle staticfunctions/classmethods\n",
    "        if (self.inst or self.owner):\n",
    "            # Add the proper instance/owner as first arg\n",
    "            args = ((self.inst or self.owner),) + args\n",
    "            \n",
    "        # Get types for dispatch\n",
    "        # Get types first, like original implementation\n",
    "        # TODO(Rens): remove this!?\n",
    "        ts = tuple(type(a) for a in args[:2])\n",
    "        \n",
    "        # Find matching function\n",
    "        f = self[ts]\n",
    "        if not f: return args[1] if self.inst or self.owner else args[0]\n",
    "        return f(*args, **kwargs)\n",
    "    \n",
    "    def __getitem__(self, k):\n",
    "        \"Find first matching type that is a super-class of `k`\"\n",
    "        if not self.func: return None\n",
    "        if self.func: self.func._resolve_pending_registrations()\n",
    "\n",
    "        # If a single Signature is passed, use it directly\n",
    "        if not isinstance(k,Signature):\n",
    "            k = Signature(*k) if isinstance(k, Iterable) else Signature(k)\n",
    "            \n",
    "        try:\n",
    "            return self.func._resolver.resolve(k).implementation\n",
    "        except NotFoundLookupError:\n",
    "            pass\n",
    "\n",
    "        for base in self.bases:\n",
    "            if (res := base[k]): return res\n",
    "\n",
    "        return None\n",
    "        \n",
    "    def __get__(self, instance, owner):\n",
    "        self.inst = instance\n",
    "        self.owner = owner\n",
    "        return self\n",
    "        \n",
    "    def returns(self, x):\n",
    "        \"Get the return type of annotation of `x`.\"\n",
    "        return anno_ret(self[type(x)])"
   ]
  },
  {
   "cell_type": "markdown",
   "metadata": {},
   "source": [
    "To demonstrate how `TypeDispatch` works, we define a set of functions that accept a variety of input types, specified with different type annotations:"
   ]
  },
  {
   "cell_type": "code",
   "execution_count": 6,
   "metadata": {},
   "outputs": [],
   "source": [
    "def f2(x:int, y:float): return x+y              #int and float for 2nd arg\n",
    "def f_nin(x:numbers.Integral)->int:  return x+1 #integral numeric\n",
    "def f_ni2(x:int): return x                      #integer\n",
    "def f_sol(x:str|list): return x                 #str or list\n",
    "def f_num(x:numbers.Number): return x           #Number (root of numerics)          "
   ]
  },
  {
   "cell_type": "markdown",
   "metadata": {},
   "source": [
    "We can optionally initialize `TypeDispatch` with a list of functions we want to search.  Printing an instance of `TypeDispatch` will display convenient mapping of types -> functions:"
   ]
  },
  {
   "cell_type": "code",
   "execution_count": 7,
   "metadata": {},
   "outputs": [
    {
     "data": {
      "text/plain": [
       "<__main__.TypeDispatch at 0x10df53c20>"
      ]
     },
     "execution_count": 7,
     "metadata": {},
     "output_type": "execute_result"
    }
   ],
   "source": [
    "t = TypeDispatch([f_nin,f_ni2,f_num,f_sol,None])\n",
    "t"
   ]
  },
  {
   "cell_type": "markdown",
   "metadata": {},
   "source": [
    "Note that only the first two arguments are used for `TypeDispatch`.  If your function only contains one argument, the second parameter will be shown as `object`.  If you pass `None` into `TypeDispatch`, then this will be displayed as `(object, object) -> NoneType`.\n",
    "\n",
    "`TypeDispatch` is a dictionary-like object, which means that you can retrieve a function by the associated type annotation.  For example, the statement:\n",
    "\n",
    "```py\n",
    "t[float]\n",
    "```\n",
    "Will return `f_num` because that is the matching function that has a type annotation that is a super-class of of `float` - `numbers.Number`:"
   ]
  },
  {
   "cell_type": "code",
   "execution_count": 8,
   "metadata": {},
   "outputs": [],
   "source": [
    "assert issubclass(float, numbers.Number)\n",
    "test_eq(t[float], f_num)"
   ]
  },
  {
   "cell_type": "markdown",
   "metadata": {},
   "source": [
    "The same is true for other types as well:"
   ]
  },
  {
   "cell_type": "code",
   "execution_count": 9,
   "metadata": {},
   "outputs": [],
   "source": [
    "test_eq(t[np.int32], f_nin)\n",
    "test_eq(t[str], f_sol)\n",
    "test_eq(t[list], f_sol)\n",
    "test_eq(t[np.int32], f_nin)"
   ]
  },
  {
   "cell_type": "markdown",
   "metadata": {},
   "source": [
    "If you try to get a type that doesn't match, `TypeDispatch` will return `None`:"
   ]
  },
  {
   "cell_type": "code",
   "execution_count": 10,
   "metadata": {},
   "outputs": [],
   "source": [
    "test_eq(t[tuple], None)"
   ]
  },
  {
   "cell_type": "code",
   "execution_count": 11,
   "metadata": {},
   "outputs": [
    {
     "data": {
      "text/markdown": [
       "---\n",
       "\n",
       "[source](https://github.com/AnswerDotAI/fasttransform/blob/main/fasttransform/dispatch.py#L48){target=\"_blank\" style=\"float:right; font-size:smaller\"}\n",
       "\n",
       "### TypeDispatch.add\n",
       "\n",
       ">      TypeDispatch.add (f)\n",
       "\n",
       "*Add type `t` and function `f`*"
      ],
      "text/plain": [
       "---\n",
       "\n",
       "[source](https://github.com/AnswerDotAI/fasttransform/blob/main/fasttransform/dispatch.py#L48){target=\"_blank\" style=\"float:right; font-size:smaller\"}\n",
       "\n",
       "### TypeDispatch.add\n",
       "\n",
       ">      TypeDispatch.add (f)\n",
       "\n",
       "*Add type `t` and function `f`*"
      ]
     },
     "execution_count": 11,
     "metadata": {},
     "output_type": "execute_result"
    }
   ],
   "source": [
    "show_doc(TypeDispatch.add)"
   ]
  },
  {
   "cell_type": "markdown",
   "metadata": {},
   "source": [
    "This method allows you to add an additional function to an existing `TypeDispatch` instance :"
   ]
  },
  {
   "cell_type": "code",
   "execution_count": 12,
   "metadata": {},
   "outputs": [
    {
     "data": {
      "text/plain": [
       "<__main__.TypeDispatch at 0x10df53c20>"
      ]
     },
     "execution_count": 12,
     "metadata": {},
     "output_type": "execute_result"
    }
   ],
   "source": [
    "def f_col(x:typing.Collection): return x\n",
    "t.add(f_col)\n",
    "test_eq(t[dict], f_col)\n",
    "t"
   ]
  },
  {
   "cell_type": "markdown",
   "metadata": {},
   "source": [
    "If you accidentally add the same function more than once things will still work as expected:"
   ]
  },
  {
   "cell_type": "code",
   "execution_count": 13,
   "metadata": {},
   "outputs": [],
   "source": [
    "t.add(f_ni2) \n",
    "test_eq(t[int], f_ni2)"
   ]
  },
  {
   "cell_type": "markdown",
   "metadata": {},
   "source": [
    "However, if you add a function that has a type collision that raises an ambiguity, this will automatically resolve to the latest function added:"
   ]
  },
  {
   "cell_type": "code",
   "execution_count": 14,
   "metadata": {},
   "outputs": [],
   "source": [
    "def f_ni3(z:int): return z # collides with f_ni2 with same type annotations\n",
    "t.add(f_ni3) \n",
    "test_eq(t[int], f_ni3)"
   ]
  },
  {
   "cell_type": "markdown",
   "metadata": {},
   "source": [
    "#### Using `bases`:"
   ]
  },
  {
   "cell_type": "markdown",
   "metadata": {},
   "source": [
    "The argument `bases` can optionally accept a single instance of `TypeDispatch` or a collection (i.e. a tuple or list) of `TypeDispatch` objects.  This can provide functionality similar to multiple inheritance. \n",
    "\n",
    "These are searched for matching functions if no match in your list of functions:"
   ]
  },
  {
   "cell_type": "code",
   "execution_count": 15,
   "metadata": {},
   "outputs": [
    {
     "data": {
      "text/plain": [
       "<__main__.TypeDispatch at 0x10eb4f2f0>"
      ]
     },
     "execution_count": 15,
     "metadata": {},
     "output_type": "execute_result"
    }
   ],
   "source": [
    "def f_col(x:typing.Collection): return x+'1'\n",
    "\n",
    "t = TypeDispatch([f_nin,f_ni2,f_num,f_sol,None])\n",
    "t2 = TypeDispatch(f_col, bases=t) # you can optionally supply a list of TypeDispatch objects for `bases`.\n",
    "t2"
   ]
  },
  {
   "cell_type": "code",
   "execution_count": 16,
   "metadata": {},
   "outputs": [],
   "source": [
    "test_eq(t2[int], f_ni2)       # searches `t` b/c not found in `t2`\n",
    "test_eq(t2[np.int32], f_nin)  # searches `t` b/c not found in `t2`\n",
    "test_eq(t2[float], f_num)     # searches `t` b/c not found in `t2`\n",
    "test_eq(t2[dict], f_col)      # found in `t`!\n",
    "test_eq(t2('a'), 'a1')        # found in `t`!, and uses __call__"
   ]
  },
  {
   "cell_type": "code",
   "execution_count": 17,
   "metadata": {},
   "outputs": [],
   "source": [
    "o = np.int32(1)\n",
    "try:\n",
    "    test_eq(t2(o), 2)             # found in `t2` and uses __call__\n",
    "except TypeError:\n",
    "    pass\n",
    "\n",
    "# TODO(Rens): Address this type error"
   ]
  },
  {
   "cell_type": "markdown",
   "metadata": {},
   "source": [
    "#### Up To Two Arguments"
   ]
  },
  {
   "cell_type": "markdown",
   "metadata": {},
   "source": [
    "`TypeDispatch` supports up to two arguments when searching for the appropriate function.  The following functions `f1` and `f2` both have two parameters:"
   ]
  },
  {
   "cell_type": "code",
   "execution_count": 18,
   "metadata": {},
   "outputs": [
    {
     "data": {
      "text/plain": [
       "<__main__.TypeDispatch at 0x10eb33860>"
      ]
     },
     "execution_count": 18,
     "metadata": {},
     "output_type": "execute_result"
    }
   ],
   "source": [
    "def f1(x:numbers.Integral, y): return x+1  #Integral is a numeric type\n",
    "def f2(x:int, y:float): return x+y\n",
    "t = TypeDispatch([f1,f2])\n",
    "t"
   ]
  },
  {
   "cell_type": "markdown",
   "metadata": {},
   "source": [
    " You can lookup functions from a `TypeDispatch` instance with two parameters like this:"
   ]
  },
  {
   "cell_type": "code",
   "execution_count": 19,
   "metadata": {},
   "outputs": [],
   "source": [
    "#test_eq(t[np.int32], f1)  # TODO(Rens): this doesntr work becausde both funcs expect 2 args...\n",
    "test_eq(t[np.int32, float], f1)  # TODO(Rens): Added this new\n",
    "test_eq(t[int,float], f2)"
   ]
  },
  {
   "cell_type": "markdown",
   "metadata": {},
   "source": [
    "Keep in mind that anything beyond the first two parameters are ignored, and any collisions will be resolved in favor of the most recent function added.  In the below example, `f1` is ignored in favor of `f2` because the first two parameters have identical type hints:"
   ]
  },
  {
   "cell_type": "code",
   "execution_count": 20,
   "metadata": {},
   "outputs": [
    {
     "data": {
      "text/plain": [
       "<__main__.TypeDispatch at 0x10eb31b20>"
      ]
     },
     "execution_count": 20,
     "metadata": {},
     "output_type": "execute_result"
    }
   ],
   "source": [
    "def f1(a:str, b:int, c:list): return a\n",
    "def f2(a: str, b:int): return b\n",
    "t = TypeDispatch([f1,f2])\n",
    "test_eq(t[str, int], f2)\n",
    "t"
   ]
  },
  {
   "cell_type": "markdown",
   "metadata": {},
   "source": [
    "#### Matching"
   ]
  },
  {
   "cell_type": "markdown",
   "metadata": {},
   "source": [
    "`Type Dispatch` matches types with functions according to whether the supplied class is a subclass or the same class of the type annotation(s) of associated functions.  \n",
    "\n",
    "Let's consider an example where we try to retrieve the function corresponding to types of `[np.int32, float]`.\n",
    "\n",
    "In this scenario, `f2` will not be matched. This is because the first type annotation of `f2`, `int`, is not a superclass (or the same class) of `np.int32`:"
   ]
  },
  {
   "cell_type": "code",
   "execution_count": 21,
   "metadata": {},
   "outputs": [],
   "source": [
    "def f1(x:numbers.Integral, y): return x+1\n",
    "def f2(x:int, y:float): return x+y\n",
    "t = TypeDispatch([f1,f2])\n",
    "\n",
    "assert not issubclass(np.int32, int)"
   ]
  },
  {
   "cell_type": "markdown",
   "metadata": {},
   "source": [
    "Instead, `f1` is a valid match, as its first argument is annoted with the type `numbers.Integeral`, which `np.int32` is a subclass of:  "
   ]
  },
  {
   "cell_type": "code",
   "execution_count": 22,
   "metadata": {},
   "outputs": [],
   "source": [
    "assert issubclass(np.int32, numbers.Integral)\n",
    "test_eq(t[np.int32,float], f1) "
   ]
  },
  {
   "cell_type": "markdown",
   "metadata": {},
   "source": [
    "In `f1` , the 2nd parameter `y` is not annotated, which means `TypeDispatch` will match anything where the first argument matches `int` that is not matched with anything else:"
   ]
  },
  {
   "cell_type": "code",
   "execution_count": 23,
   "metadata": {},
   "outputs": [],
   "source": [
    "assert issubclass(int, numbers.Integral) # int is a subclass of numbers.Integral\n",
    "test_eq(t[int, str], f1)\n",
    "test_eq(t[int,int], f1)"
   ]
  },
  {
   "cell_type": "markdown",
   "metadata": {},
   "source": [
    "If no match is possible, `None` is returned:"
   ]
  },
  {
   "cell_type": "code",
   "execution_count": 24,
   "metadata": {},
   "outputs": [],
   "source": [
    "test_eq(t[float,float], None)"
   ]
  },
  {
   "cell_type": "code",
   "execution_count": 25,
   "metadata": {},
   "outputs": [
    {
     "data": {
      "text/markdown": [
       "---\n",
       "\n",
       "[source](https://github.com/AnswerDotAI/fasttransform/blob/main/fasttransform/dispatch.py#L61){target=\"_blank\" style=\"float:right; font-size:smaller\"}\n",
       "\n",
       "### TypeDispatch.__call__\n",
       "\n",
       ">      TypeDispatch.__call__ (*args, **kwargs)\n",
       "\n",
       "*Call self as a function.*"
      ],
      "text/plain": [
       "---\n",
       "\n",
       "[source](https://github.com/AnswerDotAI/fasttransform/blob/main/fasttransform/dispatch.py#L61){target=\"_blank\" style=\"float:right; font-size:smaller\"}\n",
       "\n",
       "### TypeDispatch.__call__\n",
       "\n",
       ">      TypeDispatch.__call__ (*args, **kwargs)\n",
       "\n",
       "*Call self as a function.*"
      ]
     },
     "execution_count": 25,
     "metadata": {},
     "output_type": "execute_result"
    }
   ],
   "source": [
    "show_doc(TypeDispatch.__call__)"
   ]
  },
  {
   "cell_type": "markdown",
   "metadata": {},
   "source": [
    "`TypeDispatch` is also callable.  When you call an instance of `TypeDispatch`, it will execute the relevant function:"
   ]
  },
  {
   "cell_type": "code",
   "execution_count": 26,
   "metadata": {},
   "outputs": [],
   "source": [
    "def f_arr(x:np.ndarray): return x.sum()\n",
    "def f_int(x:np.int32): return x+1\n",
    "t = TypeDispatch([f_arr, f_int])\n",
    "\n",
    "arr = np.array([5,4,3,2,1])\n",
    "test_eq(t(arr), 15) # dispatches to f_arr\n",
    "\n",
    "o = np.int32(1)\n",
    "test_eq(t(o), 2) # dispatches to f_int\n",
    "\n",
    "# TODO(Rens): Not implemented\n",
    "try:\n",
    "    assert t.first() is not None \n",
    "except AttributeError:\n",
    "    pass"
   ]
  },
  {
   "cell_type": "markdown",
   "metadata": {},
   "source": [
    "You can also call an instance of of `TypeDispatch` when there are two parameters:"
   ]
  },
  {
   "cell_type": "code",
   "execution_count": 27,
   "metadata": {},
   "outputs": [],
   "source": [
    "def f1(x:numbers.Integral, y): return x+1\n",
    "def f2(x:int, y:float): return x+y\n",
    "t = TypeDispatch([f1,f2])\n",
    "\n",
    "test_eq(t(3,2.0), 5)\n",
    "test_eq(t(3,2), 4)"
   ]
  },
  {
   "cell_type": "markdown",
   "metadata": {},
   "source": [
    "When no match is found, a `TypeDispatch` instance becomes an identity function.  This default behavior is leveraged by fasatai for data transformations to provide a sensible default when a matching function cannot be found."
   ]
  },
  {
   "cell_type": "code",
   "execution_count": 28,
   "metadata": {},
   "outputs": [],
   "source": [
    "test_eq(t('a'), 'a')"
   ]
  },
  {
   "cell_type": "code",
   "execution_count": 29,
   "metadata": {},
   "outputs": [
    {
     "data": {
      "text/markdown": [
       "---\n",
       "\n",
       "[source](https://github.com/AnswerDotAI/fasttransform/blob/main/fasttransform/dispatch.py#L101){target=\"_blank\" style=\"float:right; font-size:smaller\"}\n",
       "\n",
       "### TypeDispatch.returns\n",
       "\n",
       ">      TypeDispatch.returns (x)\n",
       "\n",
       "*Get the return type of annotation of `x`.*"
      ],
      "text/plain": [
       "---\n",
       "\n",
       "[source](https://github.com/AnswerDotAI/fasttransform/blob/main/fasttransform/dispatch.py#L101){target=\"_blank\" style=\"float:right; font-size:smaller\"}\n",
       "\n",
       "### TypeDispatch.returns\n",
       "\n",
       ">      TypeDispatch.returns (x)\n",
       "\n",
       "*Get the return type of annotation of `x`.*"
      ]
     },
     "execution_count": 29,
     "metadata": {},
     "output_type": "execute_result"
    }
   ],
   "source": [
    "show_doc(TypeDispatch.returns)"
   ]
  },
  {
   "cell_type": "markdown",
   "metadata": {},
   "source": [
    "You can optionally pass an object to `TypeDispatch.returns` and get the return type annotation back:"
   ]
  },
  {
   "cell_type": "code",
   "execution_count": 30,
   "metadata": {},
   "outputs": [],
   "source": [
    "def f1(x:int) -> np.ndarray: return np.array(x)\n",
    "def f2(x:str) -> float: return List\n",
    "def f3(x:float): return List # f3 has no return type annotation\n",
    "\n",
    "t = TypeDispatch([f1, f2, f3])\n",
    "\n",
    "test_eq(t.returns(1), np.ndarray)  # dispatched to f1\n",
    "test_eq(t.returns('Hello'), float) # dispatched to f2\n",
    "test_eq(t.returns(1.0), None)      # dispatched to f3\n",
    "\n",
    "class _Test: pass\n",
    "_test = _Test()\n",
    "test_eq(t.returns(_test), None) # type `_Test` not found, so None returned"
   ]
  },
  {
   "cell_type": "markdown",
   "metadata": {},
   "source": [
    "#### Using TypeDispatch With Methods"
   ]
  },
  {
   "cell_type": "markdown",
   "metadata": {},
   "source": [
    "You can use `TypeDispatch` when defining methods as well:"
   ]
  },
  {
   "cell_type": "code",
   "execution_count": 31,
   "metadata": {},
   "outputs": [
    {
     "data": {
      "text/plain": [
       "('51', None, 10, 'a')"
      ]
     },
     "execution_count": 31,
     "metadata": {},
     "output_type": "execute_result"
    }
   ],
   "source": [
    "def m_str(self, x:str): return str(x)+'1'\n",
    "def m_num(self, x:int): return x*2\n",
    "def m_lst(self, x:list): self.foo='a'\n",
    "\n",
    "t = TypeDispatch([m_str,m_num,m_lst])\n",
    "class A: pass\n",
    "a = A()\n",
    "t(None, \"5\"), t(a, [5,]), t(None, 5), a.foo"
   ]
  },
  {
   "cell_type": "code",
   "execution_count": 32,
   "metadata": {},
   "outputs": [
    {
     "data": {
      "text/plain": [
       "'a'"
      ]
     },
     "execution_count": 32,
     "metadata": {},
     "output_type": "execute_result"
    }
   ],
   "source": [
    "a.foo"
   ]
  },
  {
   "cell_type": "markdown",
   "metadata": {},
   "source": [
    "**Note:** Ok so this works."
   ]
  },
  {
   "cell_type": "code",
   "execution_count": 33,
   "metadata": {},
   "outputs": [],
   "source": [
    "class A: f = t # set class attribute `f` equal to a TypeDispatch instance\n",
    "    \n",
    "a = A()"
   ]
  },
  {
   "cell_type": "markdown",
   "metadata": {},
   "source": [
    "**Note:** Now I want the typedispatch to automatically add A itself when calling t"
   ]
  },
  {
   "cell_type": "code",
   "execution_count": 34,
   "metadata": {},
   "outputs": [
    {
     "data": {
      "text/plain": [
       "('51', 10)"
      ]
     },
     "execution_count": 34,
     "metadata": {},
     "output_type": "execute_result"
    }
   ],
   "source": [
    "a.f(\"5\"), a.f(5)"
   ]
  },
  {
   "cell_type": "code",
   "execution_count": 35,
   "metadata": {},
   "outputs": [],
   "source": [
    "assert not hasattr(a,\"foo\")\n",
    "a.f([])\n",
    "assert a.foo == \"a\""
   ]
  },
  {
   "cell_type": "markdown",
   "metadata": {},
   "source": [
    "As discussed in `TypeDispatch.__call__`, when there is not a match, `TypeDispatch.__call__` becomes an identity function.  In the below example, a tuple does not match any type annotations so a tuple is returned:"
   ]
  },
  {
   "cell_type": "code",
   "execution_count": 36,
   "metadata": {},
   "outputs": [],
   "source": [
    "test_eq(a.f(()), ()) "
   ]
  },
  {
   "cell_type": "markdown",
   "metadata": {},
   "source": [
    "We extend the previous example by using `bases` to add an additional method that supports tuples:"
   ]
  },
  {
   "cell_type": "code",
   "execution_count": 37,
   "metadata": {},
   "outputs": [],
   "source": [
    "def m_tup(self, x:tuple): return x+(1,)\n",
    "t2 = TypeDispatch(m_tup, bases=t)\n",
    "\n",
    "class A2: f = t2\n",
    "a2 = A2()"
   ]
  },
  {
   "cell_type": "code",
   "execution_count": 38,
   "metadata": {},
   "outputs": [],
   "source": [
    "test_eq(a2.f(1), 2)         # int\n",
    "test_eq(a2.f(1.), 1.)       # not found\n",
    "test_is(a2.f.inst, a2)      # finds instance\n",
    "test_eq(a2.f(False), 0)     # bool is integer so 0*2=0\n",
    "test_is(a2.f([1,]), None)   # doesnt return anything\n",
    "test_eq(a2.foo, 'a')        # ..but does set foo to a\n",
    "test_eq(a2.f(()), (1,))     # new tuple function"
   ]
  },
  {
   "cell_type": "markdown",
   "metadata": {},
   "source": [
    "#### Using TypeDispatch With Class Methods"
   ]
  },
  {
   "cell_type": "markdown",
   "metadata": {},
   "source": [
    "You can use `TypeDispatch` when defining class methods too:"
   ]
  },
  {
   "cell_type": "code",
   "execution_count": 39,
   "metadata": {},
   "outputs": [],
   "source": [
    "def m_str(cls, x:str|float): return str(x)+'1'\n",
    "def m_num(cls, x:int): return x*2\n",
    "def m_lst(cls, x:list): cls.foo='a'\n",
    "\n",
    "t = TypeDispatch([m_str,m_num,m_lst])\n",
    "class A: f = t # set class attribute `f` equal to a TypeDispatch\n",
    "\n",
    "test_eq(A.f(1), 2)         #dispatch to m_num\n",
    "test_eq(A.f(1.), \"1.01\")   #dispatch to m_str\n",
    "test_is(A.f.owner, A)\n",
    "\n",
    "A.f([1,2]) # this triggers t.m_bll to run, which sets A.foo to 'a'\n",
    "test_eq(A.foo, 'a')"
   ]
  },
  {
   "cell_type": "markdown",
   "metadata": {},
   "source": [
    "## typedispatch Decorator\n"
   ]
  },
  {
   "cell_type": "code",
   "execution_count": 40,
   "metadata": {},
   "outputs": [],
   "source": [
    "#|export\n",
    "# this works in 09 vision, but not in 03 data core\n",
    "# class DispatchReg:\n",
    "#     \"A global registry for `TypeDispatch` objects keyed by function name\"\n",
    "#     def __init__(self): self.d = defaultdict(TypeDispatch)\n",
    "#     def __call__(self, f):\n",
    "#         if isinstance(f, (classmethod, staticmethod)): nm = f'{f.__func__.__qualname__}'\n",
    "#         else: nm = f'{f.__qualname__}'\n",
    "#         if isinstance(f, classmethod): f=f.__func__\n",
    "#         self.d[nm].add(f)\n",
    "#         return self.d[nm]\n",
    "\n",
    "# typedispatch = DispatchReg()\n",
    "\n",
    "# # this works in 03 data core, but not with 09 vision\n",
    "# from plum.dispatcher import Dispatcher\n",
    "# typedispatch = Dispatcher()"
   ]
  },
  {
   "cell_type": "code",
   "execution_count": 41,
   "metadata": {},
   "outputs": [],
   "source": [
    "#|export\n",
    "from plum.dispatcher import Dispatcher, is_in_class\n",
    "\n",
    "class FastFunction(Function):\n",
    "    def __getitem__(self, k):\n",
    "        self._resolve_pending_registrations()\n",
    "\n",
    "        # If a single Signature is passed, use it directly\n",
    "        if not isinstance(k,Signature):\n",
    "            k = Signature(*k) if isinstance(k, Iterable) else Signature(k)\n",
    "\n",
    "        try:\n",
    "            return self._resolver.resolve(k).implementation\n",
    "        except NotFoundLookupError:\n",
    "            pass\n",
    "        \n",
    "        # TODO(Rens): this is a temporary fix for fastai \n",
    "        # which uses show_batch[object] while the function has 3 args\n",
    "        # so technically show_batch[object, object, object] would be ok.\n",
    "        # if k.types == (object,):\n",
    "        if self.__name__ == \"show_batch\" and len(k.types) == 1:\n",
    "            return self.__getitem__(k.types + (object, object))\n",
    "            \n",
    "        return None\n",
    "\n",
    "\n",
    "class FastDispatcher(Dispatcher):\n",
    "    def _get_function(self, method: Callable) -> FastFunction:\n",
    "        # If a class is the owner, use a namespace specific for that class. Otherwise,\n",
    "        # use the global namespace.\n",
    "        if is_in_class(method):\n",
    "            owner = get_class(method)\n",
    "            if owner not in self.classes:\n",
    "                self.classes[owner] = {}\n",
    "            namespace = self.classes[owner]\n",
    "        else:\n",
    "            owner = None\n",
    "            namespace = self.functions\n",
    "\n",
    "        # Create a new function only if the function does not already exist.\n",
    "        name = method.__name__\n",
    "        if name not in namespace:\n",
    "            namespace[name] = FastFunction(\n",
    "                method,\n",
    "                owner=owner,\n",
    "                warn_redefinition=self.warn_redefinition,\n",
    "            )\n",
    "\n",
    "        return namespace[name]\n",
    "\n",
    "typedispatch = FastDispatcher()"
   ]
  },
  {
   "cell_type": "code",
   "execution_count": 42,
   "metadata": {},
   "outputs": [],
   "source": [
    "@typedispatch\n",
    "def f_td_test(x, y): return f'{x}{y}'\n",
    "@typedispatch\n",
    "def f_td_test(x:numbers.Integral|int, y): return x+1\n",
    "@typedispatch\n",
    "def f_td_test(x:int, y:float): return x+y\n",
    "@typedispatch\n",
    "def f_td_test(x:int, y:int): return x*y\n",
    "\n",
    "test_eq(f_td_test(3,2.0), 5)\n",
    "assert issubclass(int, numbers.Integral)\n",
    "test_eq(f_td_test(3,2), 6)\n",
    "\n",
    "test_eq(f_td_test('a','b'), 'ab')"
   ]
  },
  {
   "cell_type": "code",
   "execution_count": 43,
   "metadata": {},
   "outputs": [],
   "source": [
    "@typedispatch\n",
    "def f1(x:int): return \"1 INT!\"\n",
    "@typedispatch\n",
    "def f1(x:str): return \"1 STR!\"\n",
    "@typedispatch\n",
    "def f2(x:int): return \"2 INT!\"\n",
    "@typedispatch\n",
    "def f2(x:str): return \"2 STR!\"\n",
    "\n",
    "assert f2[str](\"foo\") == \"2 STR!\"\n",
    "assert f2[int](5) == \"2 INT!\"\n",
    "assert f1[str](\"foo\") == \"1 STR!\"\n",
    "assert f1[int](5) == \"1 INT!\""
   ]
  },
  {
   "cell_type": "markdown",
   "metadata": {},
   "source": [
    "#### Using typedispatch With other decorators"
   ]
  },
  {
   "cell_type": "markdown",
   "metadata": {},
   "source": [
    "You can use `typedispatch` with `classmethod` and `staticmethod` decorator"
   ]
  },
  {
   "cell_type": "code",
   "execution_count": 44,
   "metadata": {},
   "outputs": [],
   "source": [
    "# TODO(Rens): Doesnt work w Plum yet...see if remove or fix\n",
    "\n",
    "# class A:\n",
    "#     @typedispatch\n",
    "#     def f_td_test(self, x:numbers.Integral, y): return x+1\n",
    "#     @typedispatch\n",
    "#     @classmethod\n",
    "#     def f_td_test(cls, x:int, y:float): return x+y\n",
    "#     @typedispatch\n",
    "#     @staticmethod\n",
    "#     def f_td_test(x:int, y:int): return x*y\n",
    "    \n",
    "# test_eq(A.f_td_test(3,2), 6)\n",
    "# test_eq(A.f_td_test(3,2.0), 5)\n",
    "# test_eq(A().f_td_test(3,'2.0'), 4)"
   ]
  },
  {
   "cell_type": "markdown",
   "metadata": {},
   "source": [
    "## Casting"
   ]
  },
  {
   "cell_type": "markdown",
   "metadata": {},
   "source": [
    "Now that we can dispatch on types, let's make it easier to cast objects to a different type."
   ]
  },
  {
   "cell_type": "code",
   "execution_count": 45,
   "metadata": {},
   "outputs": [],
   "source": [
    "#|export\n",
    "_all_=['cast']"
   ]
  },
  {
   "cell_type": "code",
   "execution_count": 46,
   "metadata": {},
   "outputs": [],
   "source": [
    "#|export\n",
    "def retain_meta(x, res, as_copy=False):\n",
    "    \"Call `res.set_meta(x)`, if it exists\"\n",
    "    if hasattr(res,'set_meta'): res.set_meta(x, as_copy=as_copy)\n",
    "    return res"
   ]
  },
  {
   "cell_type": "code",
   "execution_count": 47,
   "metadata": {},
   "outputs": [],
   "source": [
    "#|export\n",
    "def default_set_meta(self, x, as_copy=False):\n",
    "    \"Copy over `_meta` from `x` to `res`, if it's missing\"\n",
    "    if hasattr(x, '_meta') and not hasattr(self, '_meta'):\n",
    "        meta = x._meta\n",
    "        if as_copy: meta = copy(meta)\n",
    "        self._meta = meta\n",
    "    return self"
   ]
  },
  {
   "cell_type": "code",
   "execution_count": 48,
   "metadata": {},
   "outputs": [],
   "source": [
    "#|export\n",
    "@typedispatch\n",
    "def cast(x, typ):\n",
    "    \"cast `x` to type `typ` (may also change `x` inplace)\"\n",
    "    res = typ._before_cast(x) if hasattr(typ, '_before_cast') else x\n",
    "    if risinstance('ndarray', res): res = res.view(typ)\n",
    "    elif hasattr(res, 'as_subclass'): res = res.as_subclass(typ)\n",
    "    else:\n",
    "        try: res.__class__ = typ\n",
    "        except: res = typ(res)\n",
    "    return retain_meta(x, res)"
   ]
  },
  {
   "cell_type": "markdown",
   "metadata": {},
   "source": [
    "This works both for plain python classes:..."
   ]
  },
  {
   "cell_type": "code",
   "execution_count": 49,
   "metadata": {},
   "outputs": [],
   "source": [
    "mk_class('_T1', 'a')   # mk_class is a fastai utility that constructs a class.\n",
    "class _T2(_T1): pass\n",
    "\n",
    "t = _T1(a=1)\n",
    "t2 = cast(t, _T2)        \n",
    "assert t2 is t            # t2 refers to the same object as t\n",
    "assert isinstance(t, _T2) # t also changed in-place\n",
    "assert isinstance(t2, _T2)\n",
    "\n",
    "test_eq_type(_T2(a=1), t2) \n"
   ]
  },
  {
   "cell_type": "markdown",
   "metadata": {},
   "source": [
    "...as well as for arrays and tensors."
   ]
  },
  {
   "cell_type": "code",
   "execution_count": 50,
   "metadata": {},
   "outputs": [],
   "source": [
    "class _T1(ndarray): pass\n",
    "\n",
    "t = array([1])\n",
    "t2 = cast(t, _T1)\n",
    "test_eq(array([1]), t2)\n",
    "test_eq(_T1, type(t2))"
   ]
  },
  {
   "cell_type": "markdown",
   "metadata": {},
   "source": [
    "To customize casting for other types, define a separate `cast` function with `typedispatch` for your type."
   ]
  },
  {
   "cell_type": "code",
   "execution_count": 51,
   "metadata": {},
   "outputs": [],
   "source": [
    "#|export\n",
    "def retain_type(new, old=None, typ=None, as_copy=False):\n",
    "    \"Cast `new` to type of `old` or `typ` if it's a superclass\"\n",
    "    # e.g. old is TensorImage, new is Tensor - if not subclass then do nothing\n",
    "    if new is None: return\n",
    "    assert old is not None or typ is not None\n",
    "    if typ is None:\n",
    "        if not isinstance(old, type(new)): return new\n",
    "        typ = old if isinstance(old,type) else type(old)\n",
    "    # Do nothing the new type is already an instance of requested type (i.e. same type)\n",
    "    if typ==NoneType or isinstance(new, typ): return new\n",
    "    return retain_meta(old, cast(new, typ), as_copy=as_copy)"
   ]
  },
  {
   "cell_type": "code",
   "execution_count": 52,
   "metadata": {},
   "outputs": [],
   "source": [
    "class _T(tuple): pass\n",
    "a = _T((1,2))\n",
    "b = tuple((1,2))\n",
    "c = retain_type(b, typ=_T)\n",
    "test_eq_type(c, a)"
   ]
  },
  {
   "cell_type": "markdown",
   "metadata": {},
   "source": [
    "If `old` has a `_meta` attribute, its content is passed when casting `new` to the type of `old`.  In the below example, only the attribute `a`, but not `other_attr` is kept, because `other_attr` is not in `_meta`:"
   ]
  },
  {
   "cell_type": "code",
   "execution_count": 53,
   "metadata": {},
   "outputs": [],
   "source": [
    "class _A():\n",
    "    set_meta = default_set_meta\n",
    "    def __init__(self, t): self.t=t\n",
    "\n",
    "class _B1(_A):\n",
    "    def __init__(self, t, a=1):\n",
    "        super().__init__(t)\n",
    "        self._meta = {'a':a}\n",
    "        self.other_attr = 'Hello' # will not be kept after casting.\n",
    "        \n",
    "x = _B1(1, a=2)\n",
    "b = _A(1)\n",
    "c = retain_type(b, old=x)\n",
    "test_eq(c._meta, {'a': 2})\n",
    "assert not getattr(c, 'other_attr', None)"
   ]
  },
  {
   "cell_type": "code",
   "execution_count": 54,
   "metadata": {},
   "outputs": [],
   "source": [
    "#|export\n",
    "def retain_types(new, old=None, typs=None):\n",
    "    \"Cast each item of `new` to type of matching item in `old` if it's a superclass\"\n",
    "    if not is_listy(new): return retain_type(new, old, typs)\n",
    "    if typs is not None:\n",
    "        if isinstance(typs, dict):\n",
    "            t = first(typs.keys())\n",
    "            typs = typs[t]\n",
    "        else: t,typs = typs,None\n",
    "    else: t = type(old) if old is not None and isinstance(old,type(new)) else type(new)\n",
    "    return t(L(new, old, typs).map_zip(retain_types, cycled=True))"
   ]
  },
  {
   "cell_type": "code",
   "execution_count": 55,
   "metadata": {},
   "outputs": [],
   "source": [
    "class T(tuple): pass\n",
    "\n",
    "t1,t2 = retain_types((1,(1,(1,1))), (2,T((2,T((3,4))))))\n",
    "test_eq_type(t1, 1)\n",
    "test_eq_type(t2, T((1,T((1,1)))))\n",
    "\n",
    "t1,t2 = retain_types((1,(1,(1,1))), typs = {tuple: [int, {T: [int, {T: [int,int]}]}]})\n",
    "test_eq_type(t1, 1)\n",
    "test_eq_type(t2, T((1,T((1,1)))))"
   ]
  },
  {
   "cell_type": "code",
   "execution_count": 56,
   "metadata": {},
   "outputs": [],
   "source": [
    "#|export\n",
    "def explode_types(o):\n",
    "    \"Return the type of `o`, potentially in nested dictionaries for thing that are listy\"\n",
    "    if not is_listy(o): return type(o)\n",
    "    return {type(o): [explode_types(o_) for o_ in o]}"
   ]
  },
  {
   "cell_type": "code",
   "execution_count": 57,
   "metadata": {},
   "outputs": [],
   "source": [
    "test_eq(explode_types((2,T((2,T((3,4)))))), {tuple: [int, {T: [int, {T: [int,int]}]}]})"
   ]
  },
  {
   "cell_type": "markdown",
   "metadata": {},
   "source": [
    "## Export -"
   ]
  },
  {
   "cell_type": "code",
   "execution_count": 58,
   "metadata": {},
   "outputs": [],
   "source": [
    "#|hide\n",
    "#|eval: false\n",
    "from nbdev import nbdev_export\n",
    "nbdev_export()"
   ]
  }
 ],
 "metadata": {
  "jupytext": {
   "split_at_heading": true
  },
  "kernelspec": {
   "display_name": "Python 3 (ipykernel)",
   "language": "python",
   "name": "python3"
  },
  "language_info": {
   "codemirror_mode": {
    "name": "ipython",
    "version": 3
   },
   "file_extension": ".py",
   "mimetype": "text/x-python",
   "name": "python",
   "nbconvert_exporter": "python",
   "pygments_lexer": "ipython3",
   "version": "3.12.6"
  }
 },
 "nbformat": 4,
 "nbformat_minor": 4
}
