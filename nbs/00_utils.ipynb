{
 "cells": [
  {
   "cell_type": "code",
   "execution_count": null,
   "id": "30295a1d",
   "metadata": {},
   "outputs": [],
   "source": [
    "#|default_exp utils"
   ]
  },
  {
   "cell_type": "code",
   "execution_count": null,
   "id": "4af968d5",
   "metadata": {},
   "outputs": [],
   "source": [
    "#|export\n",
    "from typing import Any\n",
    "\n",
    "from plum import dispatch\n",
    "from numpy import ndarray\n",
    "\n",
    "from fastcore.imports import *\n",
    "from fastcore.foundation import *\n",
    "from fastcore.utils import *"
   ]
  },
  {
   "cell_type": "code",
   "execution_count": null,
   "id": "917adab5",
   "metadata": {},
   "outputs": [],
   "source": [
    "from __future__ import annotations\n",
    "from nbdev.showdoc import *\n",
    "from fastcore.test import *\n",
    "from fastcore.nb_imports import *"
   ]
  },
  {
   "cell_type": "markdown",
   "id": "2d7a4772",
   "metadata": {},
   "source": [
    "# Utils"
   ]
  },
  {
   "cell_type": "markdown",
   "id": "0dfe3c2d",
   "metadata": {},
   "source": [
    "Core utility functions adapted from `fastcore.dispatch` module. \n",
    "\n",
    "This future-proofs the code since fastcore's dispatch module is planned for deprecation in favor of Plum.\n",
    "\n",
    "The functions here have not been changed, except for `retain_type` which has the same functionality but now accepts the type hints as Plum provides them."
   ]
  },
  {
   "cell_type": "code",
   "execution_count": null,
   "id": "2aa36c18",
   "metadata": {},
   "outputs": [],
   "source": [
    "#|export\n",
    "def get_name(o):\n",
    "    if hasattr(o,'__qualname__'): return o.__qualname__\n",
    "    if hasattr(o,'__name__'): return o.__name__\n",
    "    return o.__class__.__name__"
   ]
  },
  {
   "cell_type": "code",
   "execution_count": null,
   "id": "f017cc44",
   "metadata": {},
   "outputs": [],
   "source": [
    "#|export\n",
    "def is_tuple(o): return isinstance(o, tuple) and not hasattr(o, '_fields')"
   ]
  },
  {
   "cell_type": "markdown",
   "id": "21f73172",
   "metadata": {},
   "source": [
    "## Casting"
   ]
  },
  {
   "cell_type": "markdown",
   "id": "4297abc3",
   "metadata": {},
   "source": [
    "Now that we can dispatch on types, let's make it easier to cast objects to a different type."
   ]
  },
  {
   "cell_type": "code",
   "execution_count": null,
   "id": "8fc704ac",
   "metadata": {},
   "outputs": [],
   "source": [
    "#|export\n",
    "def retain_meta(x, res, as_copy=False):\n",
    "    \"Call `res.set_meta(x)`, if it exists\"\n",
    "    if hasattr(res,'set_meta'): res.set_meta(x, as_copy=as_copy)\n",
    "    return res\n",
    "     "
   ]
  },
  {
   "cell_type": "code",
   "execution_count": null,
   "id": "5a973173",
   "metadata": {},
   "outputs": [],
   "source": [
    "#|export\n",
    "def default_set_meta(self, x, as_copy=False):\n",
    "    \"Copy over `_meta` from `x` to `res`, if it's missing\"\n",
    "    if hasattr(x, '_meta') and not hasattr(self, '_meta'):\n",
    "        meta = x._meta\n",
    "        if as_copy: meta = copy(meta)\n",
    "        self._meta = meta\n",
    "    return self\n",
    "     "
   ]
  },
  {
   "cell_type": "code",
   "execution_count": null,
   "id": "05108cf6",
   "metadata": {},
   "outputs": [],
   "source": [
    "#|export\n",
    "@dispatch\n",
    "def cast(x, typ):\n",
    "    \"cast `x` to type `typ` (may also change `x` inplace)\"\n",
    "    res = typ._before_cast(x) if hasattr(typ, '_before_cast') else x\n",
    "    if risinstance('ndarray', res): res = res.view(typ)\n",
    "    elif hasattr(res, 'as_subclass'): res = res.as_subclass(typ)\n",
    "    else:\n",
    "        try: res.__class__ = typ\n",
    "        except: res = typ(res)\n",
    "    return retain_meta(x, res)"
   ]
  },
  {
   "cell_type": "markdown",
   "id": "6fb6d4c8",
   "metadata": {},
   "source": [
    "This works both for plain python classes:...\n",
    "\n"
   ]
  },
  {
   "cell_type": "code",
   "execution_count": null,
   "id": "84a90d6f",
   "metadata": {},
   "outputs": [],
   "source": [
    "\n",
    "mk_class('_T1', 'a')   # mk_class is a fastai utility that constructs a class.\n",
    "class _T2(_T1): pass\n",
    "\n",
    "t = _T1(a=1)\n",
    "t2 = cast(t, _T2)        \n",
    "assert t2 is t            # t2 refers to the same object as t\n",
    "assert isinstance(t, _T2) # t also changed in-place\n",
    "assert isinstance(t2, _T2)\n",
    "\n",
    "test_eq_type(_T2(a=1), t2) \n"
   ]
  },
  {
   "cell_type": "markdown",
   "id": "420ada9e",
   "metadata": {},
   "source": [
    "...as well as for arrays and tensors.\n"
   ]
  },
  {
   "cell_type": "code",
   "execution_count": null,
   "id": "4e6c9519",
   "metadata": {},
   "outputs": [],
   "source": [
    "class _T1(ndarray): pass\n",
    "\n",
    "t = array([1])\n",
    "t2 = cast(t, _T1)\n",
    "test_eq(array([1]), t2)\n",
    "test_eq(_T1, type(t2))"
   ]
  },
  {
   "cell_type": "markdown",
   "id": "df66ae84",
   "metadata": {},
   "source": [
    "If old has a _meta attribute, its content is passed when casting new to the type of old. In the below example, only the attribute a, but not other_attr is kept, because other_attr is not in _meta:"
   ]
  },
  {
   "cell_type": "markdown",
   "id": "56ac3adb",
   "metadata": {},
   "source": [
    "## Retain type\n"
   ]
  },
  {
   "cell_type": "code",
   "execution_count": null,
   "id": "1364fbd1",
   "metadata": {},
   "outputs": [],
   "source": [
    "#|export\n",
    "def retain_type(new, old, ret_type,as_copy=False):\n",
    "    if new is None: return new\n",
    "    if ret_type is NoneType: return new\n",
    "    if ret_type is Any:\n",
    "        if not isinstance(old, type(new)): return new\n",
    "        ret_type = old if isinstance(old,type) else type(old)\n",
    "    if ret_type is NoneType or isinstance(new,ret_type): return new\n",
    "    return retain_meta(old, cast(new, ret_type), as_copy=as_copy)   "
   ]
  },
  {
   "cell_type": "code",
   "execution_count": null,
   "id": "28d65832",
   "metadata": {},
   "outputs": [],
   "source": [
    "class FS(float):\n",
    "    def __str__(self): return f'FS({float(self)})'\n",
    "    def __repr__(self): return f'FS({float(self)})'\n",
    "    "
   ]
  },
  {
   "cell_type": "markdown",
   "id": "53365c66",
   "metadata": {},
   "source": [
    "### Return type conversion"
   ]
  },
  {
   "cell_type": "markdown",
   "id": "a34eb440",
   "metadata": {},
   "source": [
    "We try and convert new to the return type if it's given."
   ]
  },
  {
   "cell_type": "code",
   "execution_count": null,
   "id": "c095a7cb",
   "metadata": {},
   "outputs": [],
   "source": [
    "test_eq(retain_type(1., 2., FS), FS(1.))"
   ]
  },
  {
   "cell_type": "markdown",
   "id": "88ddd01d",
   "metadata": {},
   "source": [
    "Even if it won't work, we'll let the exception be raised:"
   ]
  },
  {
   "cell_type": "code",
   "execution_count": null,
   "id": "e980ab40",
   "metadata": {},
   "outputs": [
    {
     "name": "stdout",
     "output_type": "stream",
     "text": [
      "Caught expected e=ValueError(\"could not convert string to float: 'a'\")\n"
     ]
    }
   ],
   "source": [
    "# Raise error if return type is not compatible with new\n",
    "try: retain_type(\"a\", 2., FS)\n",
    "except ValueError as e: print(f\"Caught expected {e=}\")\n",
    "    \n",
    "# TODO(Rens): why doesnt test_fail catch this error?\n",
    "# test_fail(retain_type(\"a\", 2., FS))"
   ]
  },
  {
   "cell_type": "markdown",
   "id": "619a7a83",
   "metadata": {},
   "source": [
    "### Old type conversion\n",
    "\n",
    "If the return type is `Any` then new looks at old for conversion guidance."
   ]
  },
  {
   "cell_type": "code",
   "execution_count": null,
   "id": "08505aef",
   "metadata": {},
   "outputs": [],
   "source": [
    "test_eq(retain_type(1., FS(2.), Any), FS(1.))"
   ]
  },
  {
   "cell_type": "markdown",
   "id": "43f5de4d",
   "metadata": {},
   "source": [
    "But if new isn't subclass of old, keep new:"
   ]
  },
  {
   "cell_type": "code",
   "execution_count": null,
   "id": "26e935de",
   "metadata": {},
   "outputs": [],
   "source": [
    "test_eq(retain_type(FS(1.), 2.0, Any), FS(1.))\n",
    "test_eq(retain_type(\"a\", 2.0, Any), \"a\")"
   ]
  },
  {
   "cell_type": "markdown",
   "id": "c41e8230",
   "metadata": {},
   "source": [
    "No casting needed if new is already of type old.\n",
    "Then we return the original object."
   ]
  },
  {
   "cell_type": "code",
   "execution_count": null,
   "id": "e4a2be43",
   "metadata": {},
   "outputs": [],
   "source": [
    "x = FS(1.)\n",
    "test_is(retain_type(x, FS(2.), Any), x) "
   ]
  },
  {
   "cell_type": "markdown",
   "id": "bf3e5a23",
   "metadata": {},
   "source": [
    "### Edge cases with None"
   ]
  },
  {
   "cell_type": "markdown",
   "id": "b361ec05",
   "metadata": {},
   "source": [
    "We dont convert at all if None is return type annotation:"
   ]
  },
  {
   "cell_type": "code",
   "execution_count": null,
   "id": "0266e322",
   "metadata": {},
   "outputs": [],
   "source": [
    "test_eq(retain_type(1., FS(2.), NoneType), 1.)  "
   ]
  },
  {
   "cell_type": "markdown",
   "id": "f1415ae7",
   "metadata": {},
   "source": [
    "None stays None:"
   ]
  },
  {
   "cell_type": "code",
   "execution_count": null,
   "id": "dc1711f7",
   "metadata": {},
   "outputs": [],
   "source": [
    "test_eq(retain_type(None,FS(2.), Any), None)  "
   ]
  },
  {
   "cell_type": "markdown",
   "id": "1e6ba6f8",
   "metadata": {},
   "source": [
    "If old was None then we just return new."
   ]
  },
  {
   "cell_type": "code",
   "execution_count": null,
   "id": "d93d404c",
   "metadata": {},
   "outputs": [],
   "source": [
    "test_eq(retain_type(FS(1.), None, Any), FS(1.))"
   ]
  },
  {
   "cell_type": "markdown",
   "id": "b712c700",
   "metadata": {},
   "source": [
    "## Export -"
   ]
  },
  {
   "cell_type": "code",
   "execution_count": null,
   "id": "404d0d86",
   "metadata": {},
   "outputs": [],
   "source": [
    "#|hide\n",
    "#|eval: false\n",
    "from nbdev import nbdev_export\n",
    "nbdev_export()"
   ]
  }
 ],
 "metadata": {
  "kernelspec": {
   "display_name": "python3",
   "language": "python",
   "name": "python3"
  }
 },
 "nbformat": 4,
 "nbformat_minor": 5
}
