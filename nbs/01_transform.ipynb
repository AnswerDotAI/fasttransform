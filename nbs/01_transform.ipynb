{
 "cells": [
  {
   "cell_type": "code",
   "execution_count": 1,
   "id": "30295a1d",
   "metadata": {},
   "outputs": [],
   "source": [
    "#|default_exp transform"
   ]
  },
  {
   "cell_type": "code",
   "execution_count": 2,
   "id": "4af968d5",
   "metadata": {},
   "outputs": [
    {
     "ename": "SyntaxError",
     "evalue": "multiple exception types must be parenthesized (transform.py, line 104)",
     "output_type": "error",
     "traceback": [
      "Traceback \u001b[0;36m(most recent call last)\u001b[0m:\n",
      "\u001b[0m  File \u001b[1;32m~/git/.venv/lib/python3.12/site-packages/IPython/core/interactiveshell.py:3577\u001b[0m in \u001b[1;35mrun_code\u001b[0m\n    exec(code_obj, self.user_global_ns, self.user_ns)\u001b[0m\n",
      "\u001b[0m  Cell \u001b[1;32mIn[2], line 11\u001b[0m\n    from fasttransform.utils import get_name, is_tuple, retain_type\u001b[0m\n",
      "\u001b[0;36m  File \u001b[0;32m~/git/repos/fasttransform/fasttransform/__init__.py:3\u001b[0;36m\n\u001b[0;31m    from .transform import *\u001b[0;36m\n",
      "\u001b[0;36m  File \u001b[0;32m~/git/repos/fasttransform/fasttransform/transform.py:104\u001b[0;36m\u001b[0m\n\u001b[0;31m    except AttributeError, NotFoundLookupError: return None\u001b[0m\n\u001b[0m           ^\u001b[0m\n\u001b[0;31mSyntaxError\u001b[0m\u001b[0;31m:\u001b[0m multiple exception types must be parenthesized\n"
     ]
    }
   ],
   "source": [
    "#|export\n",
    "from typing import Any\n",
    "\n",
    "from fastcore.imports import *\n",
    "from fastcore.foundation import *\n",
    "from fastcore.utils import *\n",
    "\n",
    "from plum.function import Function\n",
    "from plum import NotFoundLookupError\n",
    "\n",
    "from fasttransform.utils import get_name, is_tuple, retain_type"
   ]
  },
  {
   "cell_type": "code",
   "execution_count": null,
   "id": "917adab5",
   "metadata": {},
   "outputs": [],
   "source": [
    "from __future__ import annotations\n",
    "from nbdev.showdoc import *\n",
    "from fastcore.test import *\n",
    "from fastcore.nb_imports import *\n",
    "\n",
    "from plum import AmbiguousLookupError"
   ]
  },
  {
   "cell_type": "markdown",
   "id": "694d7dd0",
   "metadata": {},
   "source": [
    "# Transforms\n",
    "\n",
    "> Definition of `Transform` and `Pipeline`"
   ]
  },
  {
   "cell_type": "markdown",
   "id": "cbb09502",
   "metadata": {},
   "source": [
    "The classes here provide functionality for creating a composition of *partially reversible functions*. By \"partially reversible\" we mean that a transform can be `decode`d, creating a form suitable for display. This is not necessarily identical to the original form (e.g. a transform that changes a byte tensor to a float tensor does not recreate a byte tensor when decoded, since that may lose precision, and a float tensor can be displayed already).\n",
    "\n",
    "Classes are also provided and for composing transforms, and mapping them over collections. `Pipeline` is a transform which composes several `Transform`, knowing how to decode them or show an encoded item.\n",
    "\n",
    "The goal of this module is to replace `fastcore.Transform` by using the package Plum for multiple dispatch rather than the `fastcore.dispatch` module. Plum is a well maintained library, that provides better dispatch functionality."
   ]
  },
  {
   "cell_type": "markdown",
   "id": "e44e9d5e",
   "metadata": {},
   "source": [
    "## Transform -"
   ]
  },
  {
   "cell_type": "markdown",
   "id": "d46a8086",
   "metadata": {},
   "source": [
    "### The main `Transform` features:"
   ]
  },
  {
   "cell_type": "markdown",
   "id": "e8fca11d",
   "metadata": {},
   "source": [
    "- **Type dispatch** - Type annotations are used to determine if a transform should be applied to the given argument. It also gives an option to provide several implementations and it choses the one to run based on the type. This is useful for example when running both independent and dependent variables through the pipeline where some transforms only make sense for one and not the other. Another usecase is designing a transform that handles different data formats. Note that if a transform takes multiple arguments only the type of the first one is used for dispatch. \n",
    "- **Handling of tuples** - When a tuple (or a subclass of tuple) of data is passed to a transform it will get applied to each element separately. You can opt out of this behavior by passing a list or an `L`, as only tuples gets this specific behavior. An alternative is to use `ItemTransform` defined below, which will always take the input as a whole.\n",
    "- **Reversability** - A transform can be made reversible by implementing the <code>decodes</code> method. This is mainly used to turn something like a category which is encoded as a number back into a label understandable by humans for showing purposes. Like the regular call method, the `decode` method that is used to decode will be applied over each element of a tuple separately.\n",
    "- **Type propagation** - Whenever possible a transform tries to return data of the same type it received. Mainly used to maintain semantics of things like `ArrayImage` which is a thin wrapper of pytorch's `Tensor`. You can opt out of this behavior by adding `->None` return type annotation.\n",
    "- **Preprocessing** - The `setup` method can be used to perform any one-time calculations to be later used by the transform, for example generating a vocabulary to encode categorical data.\n",
    "- **Filtering based on the dataset type** - By setting the `split_idx` flag you can make the transform be used only in a specific `DataSource` subset like in training, but not validation.\n",
    "- **Ordering** - You can set the `order` attribute which the `Pipeline` uses when it needs to merge two lists of transforms.\n",
    "- **Appending new behavior with decorators** - You can easily extend an existing `Transform` by creating <code>encodes</code> or <code>decodes</code> methods for new data types. You can put those new methods outside the original transform definition and decorate them with the class you wish them patched into. This can be used by the fastai library users to add their own behavior, or multiple modules contributing to the same transform."
   ]
  },
  {
   "cell_type": "markdown",
   "id": "501a8a09",
   "metadata": {},
   "source": [
    "### Utils -"
   ]
  },
  {
   "cell_type": "code",
   "execution_count": null,
   "id": "a8251012",
   "metadata": {},
   "outputs": [],
   "source": [
    "#|export\n",
    "def merge_funcs(*fs):\n",
    "    \"Merge multiple plum Functions by combining their methods\"\n",
    "    fs = fs[::-1]  # overwrite old implementations with new ones\n",
    "    res = Function(fs[-1].methods[0].implementation)\n",
    "    for f in fs: \n",
    "        for m in f.methods: res.dispatch(m.implementation)\n",
    "    return res"
   ]
  },
  {
   "cell_type": "code",
   "execution_count": null,
   "id": "3ada3d48",
   "metadata": {},
   "outputs": [],
   "source": [
    "def f1(x:int): return 'int1'\n",
    "def f2(x:float): return 'float2'\n",
    "def f3(x:str): return 'str3' \n",
    "def f4(x:int): return 'int4'\n",
    "\n",
    "f = Function(f1).dispatch(f1).dispatch(f2)\n",
    "g = Function(f3).dispatch(f3).dispatch(f4)\n",
    "\n",
    "h = merge_funcs(f,g)\n",
    "assert h(1) == 'int1'\n",
    "assert h('a') == 'str3'\n",
    "assert h(1.) == 'float2'"
   ]
  },
  {
   "cell_type": "code",
   "execution_count": null,
   "id": "d6cd8ac7",
   "metadata": {},
   "outputs": [],
   "source": [
    "#|export\n",
    "_tfm_methods = 'encodes','decodes','setups'\n",
    "def _is_tfm_method(n, f): return n in _tfm_methods and callable(f)"
   ]
  },
  {
   "cell_type": "code",
   "execution_count": null,
   "id": "7635ad80",
   "metadata": {},
   "outputs": [],
   "source": [
    "#|export\n",
    "def _has_self_arg(f) -> bool:\n",
    "    try: return f.__code__.co_varnames[0] == 'self'\n",
    "    except (AttributeError, IndexError): return False"
   ]
  },
  {
   "cell_type": "code",
   "execution_count": null,
   "id": "ea6f80d3",
   "metadata": {},
   "outputs": [],
   "source": [
    "#|export\n",
    "class _TfmDict(dict):\n",
    "    def __setitem__(self, k, v):\n",
    "        if not _is_tfm_method(k, v): return super().__setitem__(k,v)\n",
    "        if k not in self: super().__setitem__(k, Function(v))\n",
    "        self[k].dispatch(v)"
   ]
  },
  {
   "cell_type": "code",
   "execution_count": null,
   "id": "3c9b4601",
   "metadata": {},
   "outputs": [],
   "source": [
    "#|export\n",
    "class _TfmMeta(type):\n",
    "    @classmethod\n",
    "    def __prepare__(cls, name, bases): return _TfmDict()\n",
    "\n",
    "    def __call__(cls, *args, **kwargs):\n",
    "        if issubclass(cls,Transform) and len(args)==1 and _has_self_arg(args[0]) and len(kwargs)==0: \n",
    "            f, nm = args[0], args[0].__name__\n",
    "            if nm not in _tfm_methods: raise RuntimeError(f\"{nm} not in {_tfm_methods}\")\n",
    "            if not hasattr(cls, nm): setattr(cls, nm, Function(f).dispatch(f))\n",
    "            else: getattr(cls,nm).dispatch(f)\n",
    "            return cls\n",
    "        return super().__call__(*args, **kwargs)\n",
    "\n",
    "\n",
    "    def __new__(cls, name, bases, namespace):\n",
    "        new_cls = super().__new__(cls, name, bases, namespace)\n",
    "        for nm in _tfm_methods:\n",
    "            if hasattr(new_cls, nm):\n",
    "                funcs = [getattr(new_cls, nm)] + [getattr(b, nm,None) for b in bases]\n",
    "                funcs = [f for f in funcs if f]\n",
    "                if funcs: setattr(new_cls, nm, merge_funcs(*funcs))\n",
    "        return new_cls"
   ]
  },
  {
   "cell_type": "code",
   "execution_count": null,
   "id": "26e38f6d",
   "metadata": {},
   "outputs": [],
   "source": [
    "#|export\n",
    "class Transform(metaclass=_TfmMeta):\n",
    "    \"Delegates (`__call__`,`decode`,`setup`) to (<code>encodes</code>,<code>decodes</code>,<code>setups</code>) if `split_idx` matches\"\n",
    "    split_idx,init_enc,order,train_setup = None,None,0,None\n",
    "    \n",
    "    def __init__(self,enc=None,dec=None, split_idx=None, order=None):\n",
    "        self.split_idx = ifnone(split_idx, self.split_idx)\n",
    "        self.order = ifnone(order, getattr(self, 'order', 0))\n",
    "        if not is_listy(enc): \n",
    "            self.order = getattr(enc,'order',self.order)\n",
    "            if len(type_hints(enc)) > 0: self.input_types = union2tuple(first(type_hints(enc).values()))\n",
    "        if enc:=L(enc): \n",
    "                self._name = get_name(enc[0])\n",
    "                if not hasattr(enc[0],'__name__'): # Plum requires enc to have __name__ attr\n",
    "                    f = enc[0]\n",
    "                    def wrapped_enc(*args,**kwargs): return f(*args,**kwargs)\n",
    "                    wrapped_enc.__name__ = self._name\n",
    "                    enc[0] = wrapped_enc\n",
    "                self.encodes = Function(enc[0])\n",
    "        for e in enc: self.encodes.dispatch(e)\n",
    "        if dec:=L(dec): self.decodes = Function(dec[0])\n",
    "        for d in dec: self.decodes.dispatch(d)\n",
    "\n",
    "    @property\n",
    "    def name(self): return getattr(self, '_name', get_name(self))\n",
    "    def __repr__(self):\n",
    "        enc = len(self.encodes.methods) if hasattr(self, 'encodes') else 0\n",
    "        dec = len(self.decodes.methods) if hasattr(self, 'decodes') else 0\n",
    "        return f'{self.name}(enc:{enc},dec:{dec})'\n",
    "    def __call__(self,*args,split_idx=None, **kwargs): return self._call('encodes', *args, split_idx=split_idx, **kwargs)\n",
    "    def decode(self, *args,split_idx=None, **kwargs): return self._call('decodes', *args, split_idx=split_idx, **kwargs)\n",
    "    def setup(self, items=None, train_setup=False):\n",
    "        train_setup = train_setup if self.train_setup is None else self.train_setup\n",
    "        items = getattr(items, 'train', items) if train_setup else items\n",
    "        try: return self.setups(items)\n",
    "        except (AttributeError, NotFoundLookupError): return None\n",
    "\n",
    "    def _call(self, nm, *args, split_idx=None, **kwargs):\n",
    "        if split_idx!=self.split_idx and self.split_idx is not None: return args[0]\n",
    "        if not hasattr(self, nm): return args[0]\n",
    "        return self._do_call(nm, *args, **kwargs)\n",
    "\n",
    "    def _do_call(self, nm, *args, **kwargs):\n",
    "        if is_tuple(x:=args[0]): \n",
    "            res = tuple(self._do_call(nm, x_, *args[1:], **kwargs) for x_ in x)\n",
    "            return retain_type(res, x, Any)\n",
    "        f = getattr(self,nm)\n",
    "        if isinstance(f,MethodType): f, f_args = f._f, (self,)+args\n",
    "        else: f_args = args\n",
    "        try: method, ret_type = f._resolve_method_with_cache(f_args)\n",
    "        except NotFoundLookupError: return x\n",
    "        return retain_type(method(*f_args,**kwargs), x, ret_type)\n",
    "\n",
    "add_docs(Transform, decode=\"Delegate to decodes to undo transform\", setup=\"Delegate to setups to set up transform\")"
   ]
  },
  {
   "cell_type": "markdown",
   "id": "6df13899",
   "metadata": {},
   "source": [
    "### Accepting operators -"
   ]
  },
  {
   "cell_type": "code",
   "execution_count": null,
   "id": "1006e921",
   "metadata": {},
   "outputs": [],
   "source": [
    "f = Transform(attrgetter('a')) # does not raise error"
   ]
  },
  {
   "cell_type": "markdown",
   "id": "de946a26",
   "metadata": {},
   "source": [
    "### Input types -"
   ]
  },
  {
   "cell_type": "code",
   "execution_count": null,
   "id": "ac7b475f",
   "metadata": {},
   "outputs": [],
   "source": [
    "#|hide\n",
    "def enc(x:int|float): return x*2\n",
    "f = Transform(enc)\n",
    "test_eq(f.input_types, (int, float))"
   ]
  },
  {
   "cell_type": "markdown",
   "id": "b87fb415",
   "metadata": {},
   "source": [
    "### Order - "
   ]
  },
  {
   "cell_type": "code",
   "execution_count": null,
   "id": "33725796",
   "metadata": {},
   "outputs": [],
   "source": [
    "#|hide\n",
    "class A(Transform):\n",
    "    def encodes(self, x): return x**(.5)\n",
    "test_eq(A.order, 0)"
   ]
  },
  {
   "cell_type": "code",
   "execution_count": null,
   "id": "2712f82a",
   "metadata": {},
   "outputs": [],
   "source": [
    "#|hide\n",
    "class A(Transform):\n",
    "    order = -1\n",
    "    def encodes(self, x): return x**(.5)\n",
    "test_eq(A.order, -1)"
   ]
  },
  {
   "cell_type": "code",
   "execution_count": null,
   "id": "ff0bcbb9",
   "metadata": {},
   "outputs": [],
   "source": [
    "#|hide\n",
    "a = A()\n",
    "test_eq(a.order, -1)"
   ]
  },
  {
   "cell_type": "code",
   "execution_count": null,
   "id": "00f9c8dc",
   "metadata": {},
   "outputs": [],
   "source": [
    "#|hide\n",
    "a = A(order=-2)\n",
    "test_eq(a.order, -2)"
   ]
  },
  {
   "cell_type": "code",
   "execution_count": null,
   "id": "ed44386e",
   "metadata": {},
   "outputs": [],
   "source": [
    "#|hide\n",
    "def enc(x): return x+1\n",
    "enc.order = -2\n",
    "a = Transform(enc)\n",
    "test_eq(a.order, -2)"
   ]
  },
  {
   "cell_type": "code",
   "execution_count": null,
   "id": "4ea0f7c1",
   "metadata": {},
   "outputs": [],
   "source": [
    "#|hide\n",
    "def enc(x): return x+1\n",
    "enc.order = -2\n",
    "a = Transform(enc,order=-1)\n",
    "test_eq(a.order, -2)"
   ]
  },
  {
   "cell_type": "markdown",
   "id": "cb7ade62",
   "metadata": {},
   "source": [
    "### Transform: Encode and Decode Data\n",
    "\n",
    "A Transform encodes (transforms) data while optionally providing a decode operation to convert back. Encoding may be useful for in machine learning preprocessing pipelines, like category encoding. \n",
    "\n",
    "Transforms optionally provide a way to decode the transform, this may be useful where human-readable display is needed."
   ]
  },
  {
   "cell_type": "code",
   "execution_count": null,
   "id": "6dc397d4",
   "metadata": {},
   "outputs": [],
   "source": [
    "def enc(x): return x*2\n",
    "def dec(x): return x/2\n",
    "f = Transform(enc=enc, dec=dec)\n",
    "f"
   ]
  },
  {
   "cell_type": "code",
   "execution_count": null,
   "id": "730367ed",
   "metadata": {},
   "outputs": [],
   "source": [
    "f(5.0)"
   ]
  },
  {
   "cell_type": "code",
   "execution_count": null,
   "id": "20f68239",
   "metadata": {},
   "outputs": [],
   "source": [
    "f.decode(10.0)"
   ]
  },
  {
   "cell_type": "code",
   "execution_count": null,
   "id": "17b93614",
   "metadata": {},
   "outputs": [],
   "source": [
    "f.decode(f(5.0))"
   ]
  },
  {
   "cell_type": "markdown",
   "id": "b9174688",
   "metadata": {},
   "source": [
    "### Defining a `Transform`"
   ]
  },
  {
   "cell_type": "markdown",
   "id": "dd3c3769",
   "metadata": {},
   "source": [
    "There are a few ways to create a transform with different ratios of simplicity to flexibility.\n",
    "- **Passing methods to the constructor** - Instantiate the `Transform` class and pass your functions as `enc` and `dec` arguments.\n",
    "- **@Transform decorator** - Turn any function into a `Transform` by just adding a decorator - very straightforward if all you need is a single <code>encodes</code> implementation.\n",
    "- **Extending the `Transform` class** - Use inheritence to implement the methods you want.\n",
    "- **Passing a function to fastai APIs** - Same as above, but when passing a function to other transform aware classes like `Pipeline` or `TfmdDS` you don't even need a decorator. Your function will get converted to a `Transform` automatically."
   ]
  },
  {
   "cell_type": "markdown",
   "id": "1fcbb888",
   "metadata": {},
   "source": [
    "#### Passing methods to the constructor"
   ]
  },
  {
   "cell_type": "markdown",
   "id": "1a0e2ebf",
   "metadata": {},
   "source": [
    "A simple way to create a `Transform` is to pass a function to the constructor.  In the below example, we pass an anonymous function that does integer division by 2:"
   ]
  },
  {
   "cell_type": "code",
   "execution_count": null,
   "id": "90c4a132",
   "metadata": {},
   "outputs": [],
   "source": [
    "f = Transform(lambda o: o*2)"
   ]
  },
  {
   "cell_type": "markdown",
   "id": "4e519949",
   "metadata": {},
   "source": [
    "If you call this transform, it will apply the transformation:"
   ]
  },
  {
   "cell_type": "code",
   "execution_count": null,
   "id": "ff648787",
   "metadata": {},
   "outputs": [],
   "source": [
    "test_eq_type(f(2), 4)"
   ]
  },
  {
   "cell_type": "markdown",
   "id": "d5329099",
   "metadata": {},
   "source": [
    "#### @Transform decorator\n",
    "\n",
    "You can define a Transform also by using the `@Transform` decorator directly."
   ]
  },
  {
   "cell_type": "code",
   "execution_count": null,
   "id": "55bf830c",
   "metadata": {},
   "outputs": [],
   "source": [
    "@Transform\n",
    "def f(x:str): return f\"hello {x}!\"\n",
    "test_eq(f(\"Alex\"), \"hello Alex!\")"
   ]
  },
  {
   "cell_type": "markdown",
   "id": "0b913a46",
   "metadata": {},
   "source": [
    "#### Define with classmethod"
   ]
  },
  {
   "cell_type": "code",
   "execution_count": null,
   "id": "75ecada4",
   "metadata": {},
   "outputs": [],
   "source": [
    "class B:\n",
    "    @classmethod\n",
    "    def create(cls, x:int): return x+1\n",
    "test_eq(Transform(B.create)(1), 2)"
   ]
  },
  {
   "cell_type": "markdown",
   "id": "4d7ae369",
   "metadata": {},
   "source": [
    "### Important attributes of Transform"
   ]
  },
  {
   "cell_type": "markdown",
   "id": "92d45252",
   "metadata": {},
   "source": [
    "#### Type dispatch"
   ]
  },
  {
   "cell_type": "markdown",
   "id": "4ef90d29",
   "metadata": {},
   "source": [
    "Type dispatch in Transforms uses type annotations to automatically select the appropriate implementation for different input types.\n",
    "This lets a single Transform handle multiple data formats without explicit conditional logic."
   ]
  },
  {
   "cell_type": "code",
   "execution_count": null,
   "id": "5256d7fa",
   "metadata": {},
   "outputs": [],
   "source": [
    "def enc1(x: int): return x*2\n",
    "def enc2(x: str): return f\"hello {x}!\"\n",
    "\n",
    "f = Transform(enc=[enc1, enc2])\n",
    "\n",
    "test_eq_type(f(2), 4)\n",
    "test_eq(f(\"Alex\"), \"hello Alex!\")"
   ]
  },
  {
   "cell_type": "markdown",
   "id": "046b8f8c",
   "metadata": {},
   "source": [
    "#### Return self if no type hint was found"
   ]
  },
  {
   "cell_type": "markdown",
   "id": "d1363baf",
   "metadata": {},
   "source": [
    "`fastcore.transform.Transform` has a rule that a transform will return it's first argument if there's no method that fits the input types with which the function's called. \n",
    "By default Plum, would raise a `NoFoundLookupError`, we catch this error and return the first argument to stay consistent with the old implementation as it's a useful default in the context of Transform's in datapipelines."
   ]
  },
  {
   "cell_type": "code",
   "execution_count": null,
   "id": "72cd1c67",
   "metadata": {},
   "outputs": [],
   "source": [
    "# return arg[0] if no encodes has been defined\n",
    "f3 = Transform()\n",
    "test_eq(f3(2), 2)"
   ]
  },
  {
   "cell_type": "code",
   "execution_count": null,
   "id": "a3410d9a",
   "metadata": {},
   "outputs": [],
   "source": [
    "# return arg[0] if no matching type has been found\n",
    "def enc(x:str): return \"str!\"\n",
    "f = Transform(enc)    \n",
    "test_eq(f3(2), 2)"
   ]
  },
  {
   "cell_type": "markdown",
   "id": "20201244",
   "metadata": {},
   "source": [
    "#### Ambiguous vs NoFound lookups"
   ]
  },
  {
   "cell_type": "markdown",
   "id": "ae11242e",
   "metadata": {},
   "source": [
    "A difference with `fastcore.transform.Transform` is that this version is stricter about ambiguous lookups.\n",
    "\n",
    "That's because Plum has a better underlying system for allocating the inputs to the right function."
   ]
  },
  {
   "cell_type": "code",
   "execution_count": null,
   "id": "b6ac3747",
   "metadata": {},
   "outputs": [],
   "source": [
    "def enc1(x: int|str): return f\"E INT|STR {x=}!\"\n",
    "def enc2(x: float|str): return f\"E FLOAT|STR {x=}!\"\n",
    "\n",
    "e = Transform(enc=[enc1, enc2])\n",
    "\n",
    "test_eq(e(5), \"E INT|STR x=5!\")\n",
    "test_eq(e(.5), \"E FLOAT|STR x=0.5!\")\n",
    "test_eq(e([1]), [1])  # NoFoundLookups returns self\n",
    "\n",
    "try: e(\"hi there\")  # could be either encodes function\n",
    "except AmbiguousLookupError: print(\"Caught an expected AmbiguousLookupError\")"
   ]
  },
  {
   "cell_type": "markdown",
   "id": "8eb4869b",
   "metadata": {},
   "source": [
    "#### Type inheritance for input types is supported"
   ]
  },
  {
   "cell_type": "markdown",
   "id": "3ce47285",
   "metadata": {},
   "source": [
    "You can bring your own types:"
   ]
  },
  {
   "cell_type": "code",
   "execution_count": null,
   "id": "366fd1ae",
   "metadata": {},
   "outputs": [],
   "source": [
    "class FloatSubclass(float):\n",
    "    def __repr__(self): return f'FloatSubclass({super().__repr__()})'\n",
    "    def __str__(self): return f'{super().__str__()}'"
   ]
  },
  {
   "cell_type": "code",
   "execution_count": null,
   "id": "e06a67fa",
   "metadata": {},
   "outputs": [],
   "source": [
    "def enc1(x: int|FloatSubclass): return x/2\n",
    "h = Transform(enc1)\n",
    "test_eq(h(FloatSubclass(5.0)), 2.5)"
   ]
  },
  {
   "cell_type": "markdown",
   "id": "08772363",
   "metadata": {},
   "source": [
    "And type inheritance is supported"
   ]
  },
  {
   "cell_type": "code",
   "execution_count": null,
   "id": "ab6dbb71",
   "metadata": {},
   "outputs": [],
   "source": [
    "def enc1(x: int|float): return x/2\n",
    "h = Transform(enc=enc1)\n",
    "test_eq(h(FloatSubclass(5.0)), 2.5)"
   ]
  },
  {
   "cell_type": "markdown",
   "id": "952002cd",
   "metadata": {},
   "source": [
    "## Return type casting\n",
    "\n",
    "Without any intervention it is easy for operations to change types in Python. For example, `FloatSubclass` (defined below) becomes a `float` after performing multiplication:"
   ]
  },
  {
   "cell_type": "code",
   "execution_count": null,
   "id": "0b758184",
   "metadata": {},
   "outputs": [],
   "source": [
    "test_eq_type(FloatSubclass(3.0) * 2, 6.0)"
   ]
  },
  {
   "cell_type": "markdown",
   "id": "6c1b7113",
   "metadata": {},
   "source": [
    "This behavior is often not desirable when performing transformations on data.  Therefore, `Transform` will attempt to cast the output to be of the same type as the input by default.  In the below example, the output will be cast to a `FloatSubclass` type to match the type of the input:"
   ]
  },
  {
   "cell_type": "markdown",
   "id": "4dcd24f6",
   "metadata": {},
   "source": [
    "### Without type annotations"
   ]
  },
  {
   "cell_type": "code",
   "execution_count": null,
   "id": "0ee9d719",
   "metadata": {},
   "outputs": [],
   "source": [
    "@Transform\n",
    "def f(x): return x*2\n",
    "\n",
    "test_eq_type(f(FloatSubclass(3.0)), FloatSubclass(6.0))"
   ]
  },
  {
   "cell_type": "markdown",
   "id": "76ec19b3",
   "metadata": {},
   "source": [
    "We can optionally turn off casting by annotating the transform function with a return type of None:"
   ]
  },
  {
   "cell_type": "markdown",
   "id": "9f2a08ef",
   "metadata": {},
   "source": [
    "### Return type None"
   ]
  },
  {
   "cell_type": "code",
   "execution_count": null,
   "id": "ef7c85d7",
   "metadata": {},
   "outputs": [],
   "source": [
    "@Transform\n",
    "def f(x)-> None: return x*2 # Same transform as above, but with a -> None annotation\n",
    "\n",
    "test_eq_type(f(FloatSubclass(3.0)), 6.0)  # Casting is turned off because of -> None annotation\n",
    " "
   ]
  },
  {
   "cell_type": "markdown",
   "id": "303082b9",
   "metadata": {},
   "source": [
    "However, Transform will only cast output back to the input type when the input is a subclass of the output. In the below example, the input is of type FloatSubclass which is not a subclass of the output which is of type str. Therefore, the output doesn't get cast back to FloatSubclass and stays as type str:"
   ]
  },
  {
   "cell_type": "code",
   "execution_count": 3,
   "id": "25ed3346",
   "metadata": {},
   "outputs": [
    {
     "ename": "NameError",
     "evalue": "name 'Transform' is not defined",
     "output_type": "error",
     "traceback": [
      "\u001b[0;31m---------------------------------------------------------------------------\u001b[0m",
      "\u001b[0;31mNameError\u001b[0m                                 Traceback (most recent call last)",
      "Cell \u001b[0;32mIn[3], line 1\u001b[0m\n\u001b[0;32m----> 1\u001b[0m \u001b[38;5;129m@Transform\u001b[39m\n\u001b[1;32m      2\u001b[0m \u001b[38;5;28;01mdef\u001b[39;00m\u001b[38;5;250m \u001b[39m\u001b[38;5;21mf\u001b[39m(x): \u001b[38;5;28;01mreturn\u001b[39;00m \u001b[38;5;28mstr\u001b[39m(x)\n\u001b[1;32m      4\u001b[0m test_eq_type(f(Float(\u001b[38;5;241m2.\u001b[39m)), \u001b[38;5;124m'\u001b[39m\u001b[38;5;124m2.0\u001b[39m\u001b[38;5;124m'\u001b[39m)\n",
      "\u001b[0;31mNameError\u001b[0m: name 'Transform' is not defined"
     ]
    }
   ],
   "source": [
    "@Transform\n",
    "def f(x): return str(x)\n",
    "    \n",
    "test_eq_type(f(Float(2.)), '2.0')"
   ]
  },
  {
   "cell_type": "markdown",
   "id": "f3ebfd68",
   "metadata": {},
   "source": [
    "Transform will attempt to convert the function output to the return type annotation."
   ]
  },
  {
   "cell_type": "markdown",
   "id": "24bdbca3",
   "metadata": {},
   "source": [
    "### Specific return types"
   ]
  },
  {
   "cell_type": "markdown",
   "id": "2c9f7e3f",
   "metadata": {},
   "source": [
    "If a return type annotation is given, Transform will convert it to that type:"
   ]
  },
  {
   "cell_type": "code",
   "execution_count": null,
   "id": "88c3ef56",
   "metadata": {},
   "outputs": [],
   "source": [
    "@Transform\n",
    "def f(x)->FloatSubclass: return float(x)\n",
    "\n",
    "# Output is converted to FloatSubclass because its a subtype of float\n",
    "test_eq(f(1.), FloatSubclass(1.))"
   ]
  },
  {
   "cell_type": "markdown",
   "id": "44facb67",
   "metadata": {},
   "source": [
    "If the function returns a subclass of the annotated return type, that more specific type will be preserved since it's already compatible with the annotation:"
   ]
  },
  {
   "cell_type": "code",
   "execution_count": null,
   "id": "cc843a22",
   "metadata": {},
   "outputs": [],
   "source": [
    "@Transform\n",
    "def f(x)->float: return FloatSubclass(x)\n",
    "\n",
    "# FloatSubclass output is kept because more specific than float\n",
    "test_eq(f(1.), FloatSubclass(1.))"
   ]
  },
  {
   "cell_type": "markdown",
   "id": "d3eedfeb",
   "metadata": {},
   "source": [
    "When return types are given, the conversion will even happen if the output type is not a subclass of the return type annotation:"
   ]
  },
  {
   "cell_type": "code",
   "execution_count": null,
   "id": "4b91a062",
   "metadata": {},
   "outputs": [],
   "source": [
    "@Transform\n",
    "def f(x)->str: return FloatSubclass(x)\n",
    "\n",
    "test_eq(f(1.), \"FloatSubclass(1.0)\")"
   ]
  },
  {
   "cell_type": "markdown",
   "id": "a51f8c3b",
   "metadata": {},
   "source": [
    "And here we get an expected error because it's not possible to match the explicit return type:"
   ]
  },
  {
   "cell_type": "code",
   "execution_count": null,
   "id": "a6067086",
   "metadata": {},
   "outputs": [],
   "source": [
    "@Transform\n",
    "def f(x)->int: return str(x)\n",
    "\n",
    "try: f(\"foo\")\n",
    "except Exception as e: print(f\"Caught Exception: {e=}\")"
   ]
  },
  {
   "cell_type": "markdown",
   "id": "a7db8726",
   "metadata": {},
   "source": [
    "### Type annotation with Decode"
   ]
  },
  {
   "cell_type": "markdown",
   "id": "e4622a77",
   "metadata": {},
   "source": [
    "Just like encodes, the decodes method will cast outputs to match the input type in the same way. In the below example, the output of decodes remains of type IntSubclass:"
   ]
  },
  {
   "cell_type": "code",
   "execution_count": null,
   "id": "4d59e3c5",
   "metadata": {},
   "outputs": [],
   "source": [
    "def enc(x): return FloatSubclass(x+1)\n",
    "def dec(x): return x-1\n",
    "\n",
    "f = Transform(enc,dec)\n",
    "t = f(1.0)  # t will be FloatSubclass\n",
    "test_eq_type(f.decode(t), FloatSubclass(1.0))"
   ]
  },
  {
   "cell_type": "markdown",
   "id": "bd448edc",
   "metadata": {},
   "source": [
    "### Transforms on Lists"
   ]
  },
  {
   "cell_type": "markdown",
   "id": "9f2f1c57",
   "metadata": {},
   "source": [
    "Transform operates on lists as a whole, **not element-wise:**\n",
    "\n"
   ]
  },
  {
   "cell_type": "code",
   "execution_count": null,
   "id": "c1dc29bc",
   "metadata": {},
   "outputs": [],
   "source": [
    "def enc(x): return dict(x)\n",
    "def dec(x): return list(x.items())\n",
    "    \n",
    "f = Transform(enc,dec)\n",
    "_inp = [(1,2), (3,4)]\n",
    "t = f(_inp)\n",
    "\n",
    "test_eq(t, dict(_inp))\n",
    "test_eq(f.decodes(t), _inp)"
   ]
  },
  {
   "cell_type": "code",
   "execution_count": null,
   "id": "d940f30d",
   "metadata": {},
   "outputs": [],
   "source": [
    "#|hide\n",
    "f.split_idx = 1\n",
    "test_eq(f(_inp, split_idx=1), dict(_inp))\n",
    "test_eq(f(_inp, split_idx=0), _inp)"
   ]
  },
  {
   "cell_type": "markdown",
   "id": "5be2115c",
   "metadata": {},
   "source": [
    "If you want a transform to operate on a list elementwise, you must implement this appropriately in the encodes and decodes methods:"
   ]
  },
  {
   "cell_type": "code",
   "execution_count": null,
   "id": "5a7a3bad",
   "metadata": {},
   "outputs": [],
   "source": [
    "def enc(x): return [x_+1 for x_ in x]\n",
    "def dec(x): return [x_-1 for x_ in x]\n",
    "\n",
    "f = Transform(enc,dec)\n",
    "t = f([1,2])\n",
    "\n",
    "test_eq(t, [2,3])\n",
    "test_eq(f.decode(t), [1,2])\n",
    "     "
   ]
  },
  {
   "cell_type": "markdown",
   "id": "57a548c4",
   "metadata": {},
   "source": [
    "### Transforms on Tuples"
   ]
  },
  {
   "cell_type": "markdown",
   "id": "da3749d8",
   "metadata": {},
   "source": [
    "Unlike lists, Transform operates on tuples element-wise."
   ]
  },
  {
   "cell_type": "code",
   "execution_count": null,
   "id": "1a14ec5c",
   "metadata": {},
   "outputs": [],
   "source": [
    "def neg_int(x): return -x\n",
    "f = Transform(neg_int)\n",
    "\n",
    "test_eq(f((1,2,3)), (-1,-2,-3))"
   ]
  },
  {
   "cell_type": "markdown",
   "id": "17b44c27",
   "metadata": {},
   "source": [
    "Transforms will also apply TypedDispatch element-wise on tuples when an input type annotation is specified. In the below example, the values 1.0 and 3.0 are ignored because they are of type float, not int:"
   ]
  },
  {
   "cell_type": "code",
   "execution_count": null,
   "id": "98aefbfa",
   "metadata": {},
   "outputs": [],
   "source": [
    "def neg_int(x:int): return -x\n",
    "f = Transform(neg_int)\n",
    "\n",
    "test_eq(f((1.0, 2, 3.0)), (1.0, -2, 3.0))"
   ]
  },
  {
   "cell_type": "code",
   "execution_count": null,
   "id": "cd93a5b7",
   "metadata": {},
   "outputs": [],
   "source": [
    "#|hide\n",
    "test_eq(f((1,)), (-1,))\n",
    "test_eq(f((1.,)), (1.,))\n",
    "test_eq(f.decode((1,2)), (1,2))\n",
    "# test_eq(f.input_types, int) no idea where input_types is defined; this is from fastcore.Transform"
   ]
  },
  {
   "cell_type": "markdown",
   "id": "93219a85",
   "metadata": {},
   "source": [
    "Another example of how Transform can use TypedDispatch with tuples is shown below:"
   ]
  },
  {
   "cell_type": "code",
   "execution_count": null,
   "id": "547c6a5f",
   "metadata": {},
   "outputs": [],
   "source": [
    "def enc1(x: int): return x+1\n",
    "def enc2(x: str): return x+'hello'\n",
    "def enc3(x): return str(x)+'!'\n",
    "f = Transform(enc=[enc1, enc2, enc3])"
   ]
  },
  {
   "cell_type": "markdown",
   "id": "f2bfae25",
   "metadata": {},
   "source": [
    "If the input is not an int or str, the third encodes method will apply:\n",
    "\n"
   ]
  },
  {
   "cell_type": "code",
   "execution_count": null,
   "id": "ae2b6dd1",
   "metadata": {},
   "outputs": [],
   "source": [
    "test_eq(f([1]), '[1]!')\n",
    "test_eq(f([1.0]), '[1.0]!')"
   ]
  },
  {
   "cell_type": "markdown",
   "id": "3fac1c54",
   "metadata": {},
   "source": [
    "However, if the input is a tuple, then the appropriate method will apply according to the type of each element in the tuple:"
   ]
  },
  {
   "cell_type": "code",
   "execution_count": null,
   "id": "12e9688d",
   "metadata": {},
   "outputs": [],
   "source": [
    "test_eq(f(('1',)), ('1hello',))\n",
    "test_eq(f((1,2)), (2,3))\n",
    "test_eq(f(('a',1.0)), ('ahello','1.0!'))"
   ]
  },
  {
   "cell_type": "code",
   "execution_count": null,
   "id": "a46e53b1",
   "metadata": {},
   "outputs": [],
   "source": [
    "#|hide\n",
    "def dec(x: int): return x-1\n",
    "f = Transform(dec=dec)\n",
    "test_eq(f.decode((2,)), (1,))\n",
    "test_eq(f.decode(('2',)), ('2',))\n",
    "assert pickle.loads(pickle.dumps(f))"
   ]
  },
  {
   "cell_type": "markdown",
   "id": "c4269d08",
   "metadata": {},
   "source": [
    "Dispatching over tuples works recursively, by the way:"
   ]
  },
  {
   "cell_type": "code",
   "execution_count": null,
   "id": "6bfbde4e",
   "metadata": {},
   "outputs": [],
   "source": [
    "def enc1(x:int): return x+1\n",
    "def enc2(x:str): return x+'_hello'\n",
    "def dec1(x:int): return x-1\n",
    "def dec2(x:str): return x.replace('_hello', '')\n",
    "\n",
    "f = Transform(enc=[enc1, enc2], dec=[dec1, dec2])\n",
    "start = (1.,(2,'3'))\n",
    "t = f(start)\n",
    "test_eq_type(t, (1.,(3,'3_hello')))\n",
    "test_eq(f.decode(t), start)"
   ]
  },
  {
   "cell_type": "markdown",
   "id": "7998059a",
   "metadata": {},
   "source": [
    "Dispatching also works with typing module type classes, like numbers.integral:\n",
    "\n"
   ]
  },
  {
   "cell_type": "code",
   "execution_count": null,
   "id": "bfb8d2dd",
   "metadata": {},
   "outputs": [],
   "source": [
    "@Transform\n",
    "def f(x:numbers.Integral): return x+1\n",
    "\n",
    "t = f((1,'1',1))\n",
    "test_eq(t, (2, '1', 2))"
   ]
  },
  {
   "cell_type": "markdown",
   "id": "2671ee5a",
   "metadata": {},
   "source": [
    "### Apply Transforms on subsets with `split_idx`"
   ]
  },
  {
   "cell_type": "code",
   "execution_count": null,
   "id": "056e64c2",
   "metadata": {},
   "outputs": [],
   "source": [
    "def enc(x): return x+1\n",
    "def dec(x): return x-1\n",
    "f = Transform(enc,dec)\n",
    "f.split_idx = 1"
   ]
  },
  {
   "cell_type": "markdown",
   "id": "6b3d9342",
   "metadata": {},
   "source": [
    "The transformations are applied when a matching split_idx parameter is passed:"
   ]
  },
  {
   "cell_type": "code",
   "execution_count": null,
   "id": "a30dc7d6",
   "metadata": {},
   "outputs": [],
   "source": [
    "test_eq(f(1, split_idx=1),2)\n",
    "test_eq(f.decode(2, split_idx=1),1)"
   ]
  },
  {
   "cell_type": "markdown",
   "id": "bd724352",
   "metadata": {},
   "source": [
    "     \n",
    "On the other hand, transformations are ignored when the split_idx parameter does not match:"
   ]
  },
  {
   "cell_type": "code",
   "execution_count": null,
   "id": "2cbc5ab1",
   "metadata": {},
   "outputs": [],
   "source": [
    "test_eq(f(1, split_idx=0), 1)\n",
    "test_eq(f.decode(2, split_idx=0), 2)"
   ]
  },
  {
   "cell_type": "markdown",
   "id": "9e9c206a",
   "metadata": {},
   "source": [
    "## Extending Transform"
   ]
  },
  {
   "cell_type": "markdown",
   "id": "f62142c2",
   "metadata": {},
   "source": [
    "### Limitation of calling Transform directly"
   ]
  },
  {
   "cell_type": "markdown",
   "id": "ddde4412",
   "metadata": {},
   "source": [
    "However in this case it is not extendible, the previous implementation gets overwritten:"
   ]
  },
  {
   "cell_type": "code",
   "execution_count": null,
   "id": "418f81f5",
   "metadata": {},
   "outputs": [],
   "source": [
    "@Transform\n",
    "def g(x:int): return x*3\n",
    "\n",
    "test_eq(g(2), 6)\n",
    "test_eq(g('a'), 'a')  # <- resorts to returning self\n",
    "test_eq(len(g.encodes.methods), 1)"
   ]
  },
  {
   "cell_type": "markdown",
   "id": "e8abbdc7",
   "metadata": {},
   "source": [
    "For extendible Transforms take a look at the \"Extending the Transform class\" section below\n"
   ]
  },
  {
   "cell_type": "markdown",
   "id": "9b637ec8",
   "metadata": {},
   "source": [
    "### Subclassing Transform"
   ]
  },
  {
   "cell_type": "markdown",
   "id": "f066c9f3",
   "metadata": {},
   "source": [
    "When you subclass Transform you can define multiple encodes as methods directly."
   ]
  },
  {
   "cell_type": "code",
   "execution_count": null,
   "id": "8b092194",
   "metadata": {},
   "outputs": [],
   "source": [
    "class A(Transform):\n",
    "    def encodes(self, x:int): return x*2\n",
    "    def encodes(self, x:str): return f'hello {x}!'\n",
    "test_eq(len(A.encodes.methods), 2)"
   ]
  },
  {
   "cell_type": "code",
   "execution_count": null,
   "id": "2b0d1c4c",
   "metadata": {},
   "outputs": [],
   "source": [
    "a = A()\n",
    "test_eq(a(2), 4)\n",
    "test_eq(a('Alex'), \"hello Alex!\")"
   ]
  },
  {
   "cell_type": "markdown",
   "id": "29cd53fc",
   "metadata": {},
   "source": [
    "Continued inheritance is supported"
   ]
  },
  {
   "cell_type": "code",
   "execution_count": null,
   "id": "f9c42b10",
   "metadata": {},
   "outputs": [],
   "source": [
    "class B(A):\n",
    "    def encodes(self, x:int): return x*4\n",
    "    def encodes(self, x:float): return x/2\n",
    "test_eq(len(B.encodes.methods), 3)"
   ]
  },
  {
   "cell_type": "code",
   "execution_count": null,
   "id": "129e8f58",
   "metadata": {},
   "outputs": [],
   "source": [
    "b = B()\n",
    "test_eq(b(2), 8)\n",
    "test_eq(b('Alex'), 'hello Alex!')\n",
    "test_eq(b(5.), 2.5)"
   ]
  },
  {
   "cell_type": "markdown",
   "id": "ea4e0812",
   "metadata": {},
   "source": [
    "As is multiple inheritance:"
   ]
  },
  {
   "cell_type": "code",
   "execution_count": null,
   "id": "4a285209",
   "metadata": {},
   "outputs": [],
   "source": [
    "class A(Transform):\n",
    "    def encodes(self, x:int): return x*2\n",
    "    def encodes(self, x:str): return f'hello {x}!'\n",
    "\n",
    "class B(Transform):\n",
    "    def encodes(self, x:int): return x*4\n",
    "    def encodes(self, x:float): return x/2\n",
    "\n",
    "class C(B,A):  # C is preferred of B is preferred over A\n",
    "    def encodes(self, x:float): return x/4\n",
    "\n",
    "test_eq(len(A.encodes.methods), 2)\n",
    "test_eq(len(B.encodes.methods), 2)\n",
    "test_eq(len(C.encodes.methods), 3)"
   ]
  },
  {
   "cell_type": "code",
   "execution_count": null,
   "id": "69dbc5f8",
   "metadata": {},
   "outputs": [],
   "source": [
    "c = C()\n",
    "test_eq(c('Alex'), 'hello Alex!')  # A's str method\n",
    "test_eq(c(5), 20)  # B's int method\n",
    "test_eq(c(10.), 2.5)  # C's float method"
   ]
  },
  {
   "cell_type": "markdown",
   "id": "2ba2e673",
   "metadata": {},
   "source": [
    "### Extensions with decorators"
   ]
  },
  {
   "cell_type": "markdown",
   "id": "16094e34",
   "metadata": {},
   "source": [
    "Another way to define a Transform is to extend the `Transform` class:"
   ]
  },
  {
   "cell_type": "code",
   "execution_count": null,
   "id": "9f659a7e",
   "metadata": {},
   "outputs": [],
   "source": [
    "class A(Transform): pass"
   ]
  },
  {
   "cell_type": "markdown",
   "id": "eb257022",
   "metadata": {},
   "source": [
    "And then use decorators:"
   ]
  },
  {
   "cell_type": "code",
   "execution_count": null,
   "id": "02277981",
   "metadata": {},
   "outputs": [],
   "source": [
    "@A\n",
    "def encodes(self, x:int): return x*2"
   ]
  },
  {
   "cell_type": "code",
   "execution_count": null,
   "id": "f761bdc5",
   "metadata": {},
   "outputs": [],
   "source": [
    "@A\n",
    "def decodes(self,x:int): return x//2"
   ]
  },
  {
   "cell_type": "code",
   "execution_count": null,
   "id": "f1aca141",
   "metadata": {},
   "outputs": [],
   "source": [
    "test_eq(len(A.encodes.methods),1)\n",
    "test_eq(len(A.decodes.methods),1)"
   ]
  },
  {
   "cell_type": "code",
   "execution_count": null,
   "id": "841a6fb1",
   "metadata": {},
   "outputs": [],
   "source": [
    "a = A()"
   ]
  },
  {
   "cell_type": "code",
   "execution_count": null,
   "id": "47f95948",
   "metadata": {},
   "outputs": [],
   "source": [
    "test_eq(a(5),10)\n",
    "test_eq(a.decode(a(5)),5)"
   ]
  },
  {
   "cell_type": "markdown",
   "id": "d8c46364",
   "metadata": {},
   "source": [
    "Note that adding a method to a class (A) after instantiating the object (a):"
   ]
  },
  {
   "cell_type": "code",
   "execution_count": null,
   "id": "b9cd8415",
   "metadata": {},
   "outputs": [],
   "source": [
    "@A\n",
    "def encodes(self, x:str): return f'hello {x}!'"
   ]
  },
  {
   "cell_type": "markdown",
   "id": "61223da0",
   "metadata": {},
   "source": [
    "Will result in the method being accessible in both:"
   ]
  },
  {
   "cell_type": "code",
   "execution_count": null,
   "id": "a38607f1",
   "metadata": {},
   "outputs": [],
   "source": [
    "test_eq(len(A.encodes.methods),2)\n",
    "test_eq(len(a.encodes.methods),2)"
   ]
  },
  {
   "cell_type": "code",
   "execution_count": null,
   "id": "f98c6a81",
   "metadata": {},
   "outputs": [],
   "source": [
    "#|hide\n",
    "test_is(A.encodes,a.encodes._f)"
   ]
  },
  {
   "cell_type": "markdown",
   "id": "d1512d8d",
   "metadata": {},
   "source": [
    "## Predefined Transform extensions\n",
    "\n",
    "Below are some Transforms that may be useful as reusable components"
   ]
  },
  {
   "cell_type": "markdown",
   "id": "30dbfb87",
   "metadata": {},
   "source": [
    "### InplaceTransform "
   ]
  },
  {
   "cell_type": "code",
   "execution_count": null,
   "id": "a494d4a5",
   "metadata": {},
   "outputs": [],
   "source": [
    "#|export\n",
    "class InplaceTransform(Transform):\n",
    "    \"A `Transform` that modifies in-place and just returns whatever it's passed\"\n",
    "    def _call(self, fn, *args, split_idx=None, **kwargs):\n",
    "        super()._call(fn,*args, split_idx=split_idx, **kwargs)\n",
    "        return args[0]"
   ]
  },
  {
   "cell_type": "code",
   "execution_count": null,
   "id": "eeae092b",
   "metadata": {},
   "outputs": [],
   "source": [
    "#|hide\n",
    "import pandas as pd"
   ]
  },
  {
   "cell_type": "code",
   "execution_count": null,
   "id": "3f948b19",
   "metadata": {},
   "outputs": [],
   "source": [
    "class A(InplaceTransform): pass\n",
    "\n",
    "@A\n",
    "def encodes(self, x:pd.Series): x.fillna(10, inplace=True)\n",
    "    \n",
    "f = A()\n",
    "\n",
    "test_eq_type(f(pd.Series([1,2,None])),pd.Series([1,2,10],dtype=np.float64)) #fillna fills with floats."
   ]
  },
  {
   "cell_type": "markdown",
   "id": "9dff9ecb",
   "metadata": {},
   "source": [
    "### DisplayedTransform"
   ]
  },
  {
   "cell_type": "code",
   "execution_count": null,
   "id": "d92cfd60",
   "metadata": {},
   "outputs": [],
   "source": [
    "#|export\n",
    "class DisplayedTransform(Transform):\n",
    "    \"A transform with a `__repr__` that shows its attrs\"\n",
    "\n",
    "    @property\n",
    "    def name(self): return f\"{super().name} -- {getattr(self,'__stored_args__',{})}\\n\""
   ]
  },
  {
   "cell_type": "markdown",
   "id": "900afeb6",
   "metadata": {},
   "source": [
    "Transforms normally are represented by just their class name and a number of encodes and decodes implementations:\n",
    "\n"
   ]
  },
  {
   "cell_type": "code",
   "execution_count": null,
   "id": "125068de",
   "metadata": {},
   "outputs": [],
   "source": [
    "class A(Transform): encodes,decodes = noop,noop\n",
    "f = A()\n",
    "f"
   ]
  },
  {
   "cell_type": "markdown",
   "id": "6c51327b",
   "metadata": {},
   "source": [
    "A DisplayedTransform will in addition show the contents of all attributes listed in the comma-delimited string self.store_attrs:"
   ]
  },
  {
   "cell_type": "code",
   "execution_count": null,
   "id": "990bf306",
   "metadata": {},
   "outputs": [],
   "source": [
    "class A(DisplayedTransform):\n",
    "    encodes = noop\n",
    "    def __init__(self, a, b=2):\n",
    "        super().__init__()\n",
    "        store_attr()\n",
    "    \n",
    "A(a=1,b=2)"
   ]
  },
  {
   "cell_type": "markdown",
   "id": "698e4479",
   "metadata": {},
   "source": [
    "### ItemTransform"
   ]
  },
  {
   "cell_type": "code",
   "execution_count": null,
   "id": "09e4c9ce",
   "metadata": {},
   "outputs": [],
   "source": [
    "#|export\n",
    "class ItemTransform(Transform):\n",
    "    \"A transform that always take tuples as items\"\n",
    "    _retain = True\n",
    "    def __call__(self, x, **kwargs): return self._call1(x, '__call__', **kwargs)\n",
    "    def decode(self, x, **kwargs):   return self._call1(x, 'decode', **kwargs)\n",
    "    def _call1(self, x, name, **kwargs):\n",
    "        if not is_tuple(x): return getattr(super(), name)(x, **kwargs)\n",
    "        y = getattr(super(), name)(list(x), **kwargs)\n",
    "        if not self._retain: return y\n",
    "        if is_listy(y) and not isinstance(y, tuple): y = tuple(y)\n",
    "        return retain_type(y, x, Any)\n",
    "     "
   ]
  },
  {
   "cell_type": "markdown",
   "id": "edaab74b",
   "metadata": {},
   "source": [
    "ItemTransform is the class to use to opt out of the default behavior of Transform."
   ]
  },
  {
   "cell_type": "code",
   "execution_count": null,
   "id": "28e7d498",
   "metadata": {},
   "outputs": [],
   "source": [
    "class AIT(ItemTransform): \n",
    "    def encodes(self, xy): x,y=xy; return (x+y,y)\n",
    "    def decodes(self, xy): x,y=xy; return (x-y,y)\n",
    "    \n",
    "f = AIT()\n",
    "test_eq(f((1,2)), (3,2))\n",
    "test_eq(f.decode((3,2)), (1,2))   "
   ]
  },
  {
   "cell_type": "markdown",
   "id": "dea51daf",
   "metadata": {},
   "source": [
    "If you pass a special tuple subclass, the usual retain type behavior of Transform will keep it:"
   ]
  },
  {
   "cell_type": "code",
   "execution_count": null,
   "id": "e5d85017",
   "metadata": {},
   "outputs": [],
   "source": [
    "class _T(tuple): pass\n",
    "x = _T((1,2))\n",
    "test_eq_type(f(x), _T((3,2)))     "
   ]
  },
  {
   "cell_type": "code",
   "execution_count": null,
   "id": "6c1c19b7",
   "metadata": {},
   "outputs": [],
   "source": [
    "#|hide\n",
    "f.split_idx = 0\n",
    "test_eq_type(f((1,2)), (1,2))\n",
    "test_eq_type(f((1,2), split_idx=0), (3,2))\n",
    "test_eq_type(f.decode((1,2)), (1,2))\n",
    "test_eq_type(f.decode((3,2), split_idx=0), (1,2))"
   ]
  },
  {
   "cell_type": "code",
   "execution_count": null,
   "id": "26a60ea5",
   "metadata": {},
   "outputs": [],
   "source": [
    "#|hide\n",
    "class Get(ItemTransform):\n",
    "    _retain = False\n",
    "    def encodes(self, x): return x[0]\n",
    "    \n",
    "g = Get()\n",
    "test_eq(g([1,2,3]), 1)\n",
    "test_eq(g(L(1,2,3)), 1)\n",
    "test_eq(g(np.array([1,2,3])), 1)\n",
    "test_eq_type(g((['a'], ['b', 'c'])), ['a'])    "
   ]
  },
  {
   "cell_type": "code",
   "execution_count": null,
   "id": "7efdc294",
   "metadata": {},
   "outputs": [],
   "source": [
    "#|hide\n",
    "class A(ItemTransform): \n",
    "    def encodes(self, x): return _T((x,x))\n",
    "    def decodes(self, x): return _T(x)\n",
    "    \n",
    "f = A()\n",
    "test_eq(type(f.decode((1,1))), _T)"
   ]
  },
  {
   "cell_type": "markdown",
   "id": "a1694554",
   "metadata": {},
   "source": [
    "### Func"
   ]
  },
  {
   "cell_type": "code",
   "execution_count": null,
   "id": "2bce2ab9",
   "metadata": {},
   "outputs": [],
   "source": [
    "#|export\n",
    "def get_func(t, name, *args, **kwargs):\n",
    "    \"Get the `t.name` (potentially partial-ized with `args` and `kwargs`) or `noop` if not defined\"\n",
    "    f = nested_callable(t, name)\n",
    "    return f if not (args or kwargs) else partial(f, *args, **kwargs)"
   ]
  },
  {
   "cell_type": "markdown",
   "id": "b0d1bdcd",
   "metadata": {},
   "source": [
    "This works for any kind of t supporting getattr, so a class or a module.\n",
    "\n"
   ]
  },
  {
   "cell_type": "code",
   "execution_count": null,
   "id": "4ac9e0a2",
   "metadata": {},
   "outputs": [],
   "source": [
    "test_eq(get_func(operator, 'neg', 2)(), -2)\n",
    "test_eq(get_func(operator.neg, '__call__')(2), -2)\n",
    "test_eq(get_func(list, 'foobar')([2]), [2])\n",
    "a = [2,1]\n",
    "get_func(list, 'sort')(a)\n",
    "test_eq(a, [1,2])"
   ]
  },
  {
   "cell_type": "markdown",
   "id": "db22af05",
   "metadata": {},
   "source": [
    "Transforms are built with multiple-dispatch: a given function can have several methods depending on the type of the object received. This is done with the Plum module and type-annotation in Transform, but you can also use the following class."
   ]
  },
  {
   "cell_type": "code",
   "execution_count": null,
   "id": "c7704028",
   "metadata": {},
   "outputs": [],
   "source": [
    "#|export\n",
    "class Func():\n",
    "    \"Basic wrapper around a `name` with `args` and `kwargs` to call on a given type\"\n",
    "    def __init__(self, name, *args, **kwargs): self.name,self.args,self.kwargs = name,args,kwargs\n",
    "    def __repr__(self): return f'sig: {self.name}({self.args}, {self.kwargs})'\n",
    "    def _get(self, t): return get_func(t, self.name, *self.args, **self.kwargs)\n",
    "    def __call__(self,t): return mapped(self._get, t)"
   ]
  },
  {
   "cell_type": "markdown",
   "id": "0418511d",
   "metadata": {},
   "source": [
    "You can call the Func object on any module name or type, even a list of types. It will return the corresponding function (with a default to noop if nothing is found) or list of functions.\n",
    "\n"
   ]
  },
  {
   "cell_type": "code",
   "execution_count": null,
   "id": "b3e42ecb",
   "metadata": {},
   "outputs": [],
   "source": [
    "test_eq(Func('sqrt')(math), math.sqrt)"
   ]
  },
  {
   "cell_type": "code",
   "execution_count": null,
   "id": "cc174bb3",
   "metadata": {},
   "outputs": [],
   "source": [
    "#|export\n",
    "class _Sig():\n",
    "    def __getattr__(self,k):\n",
    "        def _inner(*args, **kwargs): return Func(k, *args, **kwargs)\n",
    "        return _inner\n",
    "\n",
    "Sig = _Sig()\n",
    "     "
   ]
  },
  {
   "cell_type": "code",
   "execution_count": null,
   "id": "128e7e02",
   "metadata": {},
   "outputs": [],
   "source": [
    "show_doc(Sig, name=\"Sig\")\n"
   ]
  },
  {
   "cell_type": "markdown",
   "id": "29ee25ba",
   "metadata": {},
   "source": [
    "### Sig\n",
    "\n",
    "Sig is just sugar-syntax to create a Func object more easily with the syntax Sig.name(*args, **kwargs)."
   ]
  },
  {
   "cell_type": "code",
   "execution_count": null,
   "id": "ca599701",
   "metadata": {},
   "outputs": [],
   "source": [
    "f = Sig.sqrt()\n",
    "test_eq(f(math), math.sqrt)"
   ]
  },
  {
   "cell_type": "markdown",
   "id": "b712c700",
   "metadata": {},
   "source": [
    "## Export -"
   ]
  },
  {
   "cell_type": "code",
   "execution_count": null,
   "id": "404d0d86",
   "metadata": {},
   "outputs": [],
   "source": [
    "#|hide\n",
    "#|eval: false\n",
    "from nbdev import nbdev_export\n",
    "nbdev_export()"
   ]
  }
 ],
 "metadata": {
  "kernelspec": {
   "display_name": "Python 3 (ipykernel)",
   "language": "python",
   "name": "python3"
  },
  "language_info": {
   "codemirror_mode": {
    "name": "ipython",
    "version": 3
   },
   "file_extension": ".py",
   "mimetype": "text/x-python",
   "name": "python",
   "nbconvert_exporter": "python",
   "pygments_lexer": "ipython3",
   "version": "3.12.6"
  }
 },
 "nbformat": 4,
 "nbformat_minor": 5
}
