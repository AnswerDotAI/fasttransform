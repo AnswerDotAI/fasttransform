{
 "cells": [
  {
   "cell_type": "code",
   "execution_count": null,
   "id": "30295a1d",
   "metadata": {},
   "outputs": [],
   "source": [
    "#|default_exp monkeydispatch"
   ]
  },
  {
   "cell_type": "markdown",
   "id": "586061e6-feb3-43f3-b8b8-e9b0bd5d98d1",
   "metadata": {},
   "source": [
    "# Monkey Dispatch\n",
    "\n",
    "Plum's a powerful typedispatching library that brings multipledispatch to python.\n",
    "\n",
    "Sadly, it doesn't allow for monkeydispatching, combining multiple dispatch with monkeypatch."
   ]
  },
  {
   "cell_type": "code",
   "execution_count": null,
   "id": "3a57903c-2278-467c-a829-05c584d6d808",
   "metadata": {},
   "outputs": [],
   "source": [
    "#|export\n",
    "import typing\n",
    "from plum.function import Function\n",
    "from plum.dispatcher import Dispatcher\n",
    "from plum.util import get_class"
   ]
  },
  {
   "cell_type": "code",
   "execution_count": null,
   "id": "2a2973c0-d52b-4f9d-a5ae-ac37abf68c1d",
   "metadata": {},
   "outputs": [],
   "source": [
    "from plum import dispatch"
   ]
  },
  {
   "cell_type": "markdown",
   "id": "7e8d43b4-2234-497b-b712-7a437e803fc3",
   "metadata": {},
   "source": [
    "## Intro to Plum\n",
    "\n",
    "Plum brings a global `dispatch` that lets you perform multiple dispatch wherever you want."
   ]
  },
  {
   "cell_type": "markdown",
   "id": "a170c5e7-c93f-4389-89d5-05ff398fed0e",
   "metadata": {},
   "source": [
    "For example, Plum lets you dispatch methods in classes:"
   ]
  },
  {
   "cell_type": "code",
   "execution_count": null,
   "id": "b280c8bb",
   "metadata": {},
   "outputs": [
    {
     "data": {
      "text/plain": [
       "(10, 'h_a')"
      ]
     },
     "execution_count": null,
     "metadata": {},
     "output_type": "execute_result"
    }
   ],
   "source": [
    "class A:\n",
    "    @dispatch\n",
    "    def encodes(self,x:int): return x*2\n",
    "    @dispatch\n",
    "    def encodes(self,x:str): return \"h_\"+x\n",
    "\n",
    "a = A()\n",
    "a.encodes(5), a.encodes('a')  # Expected"
   ]
  },
  {
   "cell_type": "code",
   "execution_count": null,
   "id": "f2c49985-c2c0-4b77-b087-6c7619b065ef",
   "metadata": {},
   "outputs": [
    {
     "data": {
      "text/plain": [
       "Dispatcher(warn_redefinition=False, functions={}, classes={'__main__.A': {'encodes': <multiple-dispatch function A.encodes (with 2 registered and 0 pending method(s))>}})"
      ]
     },
     "execution_count": null,
     "metadata": {},
     "output_type": "execute_result"
    }
   ],
   "source": [
    "dispatch"
   ]
  },
  {
   "cell_type": "markdown",
   "id": "084a9b17-dcc4-4e0e-aad9-5c14a803c066",
   "metadata": {},
   "source": [
    "So far so good.  But there are two issues."
   ]
  },
  {
   "cell_type": "markdown",
   "id": "e7c97626-f08c-47a1-92da-181cdd3e9605",
   "metadata": {},
   "source": [
    "### Issue 1: monkeydispatching is not allowed"
   ]
  },
  {
   "cell_type": "markdown",
   "id": "b7ee732b-110f-4f0e-80d0-52935a6b166e",
   "metadata": {},
   "source": [
    "**Note:** Under the hood dispatch is defined as an instance of plum's own Dispatcher class. We'll use that in this nb to make our example self-contained.\n",
    "\n",
    "```python\n",
    "# file: plum.dispatcher.py\n",
    "dispatch = Dispatcher()\n",
    "```"
   ]
  },
  {
   "cell_type": "code",
   "execution_count": null,
   "id": "7c632b95",
   "metadata": {},
   "outputs": [
    {
     "data": {
      "text/plain": [
       "1"
      ]
     },
     "execution_count": null,
     "metadata": {},
     "output_type": "execute_result"
    }
   ],
   "source": [
    "dispatch = Dispatcher()\n",
    "class A:\n",
    "    @dispatch\n",
    "    def encodes(self,x:int): return x*2\n",
    "\n",
    "@dispatch\n",
    "def encodes(self:A,x:str): return \"h_\"+x\n",
    "    \n",
    "len(A.encodes.methods)  # 🚨 Expected 2 b/c our second patch"
   ]
  },
  {
   "cell_type": "code",
   "execution_count": null,
   "id": "d571bbd8-a6b1-417d-861f-a041c0d3d668",
   "metadata": {},
   "outputs": [
    {
     "data": {
      "text/plain": [
       "Dispatcher(warn_redefinition=False, functions={'encodes': <multiple-dispatch function encodes (with 0 registered and 1 pending method(s))>}, classes={'__main__.A': {'encodes': <multiple-dispatch function A.encodes (with 1 registered and 0 pending method(s))>}})"
      ]
     },
     "execution_count": null,
     "metadata": {},
     "output_type": "execute_result"
    }
   ],
   "source": [
    "dispatch"
   ]
  },
  {
   "cell_type": "markdown",
   "id": "d37ec621-125d-48f4-a77c-d202b99959c5",
   "metadata": {},
   "source": [
    "See: one time encodes is stored inside class `__main__.A` and on time as a function."
   ]
  },
  {
   "cell_type": "markdown",
   "id": "181ea11b-b3ae-4b4f-9976-a3edde2dc5d5",
   "metadata": {},
   "source": [
    "### Issue 2: class redefinitions don't clear dispatch cache."
   ]
  },
  {
   "cell_type": "code",
   "execution_count": null,
   "id": "9aa64570",
   "metadata": {},
   "outputs": [
    {
     "data": {
      "text/plain": [
       "2"
      ]
     },
     "execution_count": null,
     "metadata": {},
     "output_type": "execute_result"
    }
   ],
   "source": [
    "dispatch = Dispatcher()\n",
    "class A:\n",
    "    @dispatch\n",
    "    def encodes(self,x:int): return x*2\n",
    "class A:\n",
    "    @dispatch\n",
    "    def encodes(self,x:str): return \"h_\"+x\n",
    "    \n",
    "len(A.encodes.methods)  # 🚨 Expected 1 b/c class redefinition"
   ]
  },
  {
   "cell_type": "code",
   "execution_count": null,
   "id": "aa9c43a7-048a-4697-b05d-09e66a060377",
   "metadata": {},
   "outputs": [
    {
     "data": {
      "text/plain": [
       "Dispatcher(warn_redefinition=False, functions={}, classes={'__main__.A': {'encodes': <multiple-dispatch function A.encodes (with 2 registered and 0 pending method(s))>}})"
      ]
     },
     "execution_count": null,
     "metadata": {},
     "output_type": "execute_result"
    }
   ],
   "source": [
    "dispatch"
   ]
  },
  {
   "cell_type": "markdown",
   "id": "ea6abc67",
   "metadata": {},
   "source": [
    "## Attempt at solution"
   ]
  },
  {
   "cell_type": "markdown",
   "id": "44e3205f-810b-4498-b826-21e9258cfbfd",
   "metadata": {},
   "source": [
    "Below I try to address this issue by extending Dispatcher."
   ]
  },
  {
   "cell_type": "code",
   "execution_count": null,
   "id": "6724dbb6-9634-4c8f-acb6-07c9742c150f",
   "metadata": {},
   "outputs": [],
   "source": [
    "#|export\n",
    "def _has_self_arg(f) -> bool:\n",
    "    try: return f.__code__.co_varnames[0] == 'self'\n",
    "    except (AttributeError, IndexError): return False"
   ]
  },
  {
   "cell_type": "code",
   "execution_count": null,
   "id": "7476e549",
   "metadata": {},
   "outputs": [],
   "source": [
    "#|export\n",
    "class MonkeyDispatcher(Dispatcher):    \n",
    "    def __call__(self, f):\n",
    "        nm = f.__name__\n",
    "        if not _has_self_arg(f): return super().__call__(f)\n",
    "        if cls:= typing.get_type_hints(f).get('self'):\n",
    "            if cm := getattr(cls,nm,None):\n",
    "                if type(cm) is Function: cm.dispatch(f)\n",
    "                else: setattr(cls,nm, Function(cm).dispatch(cm).dispatch(f))\n",
    "            else: setattr(cls,nm,Function(f).dispatch(f))\n",
    "            return cls\n",
    "        else:\n",
    "            gc = get_class(f)  # __main__.A\n",
    "            nc, nm = f.__qualname__.split(\".\") #A, encodes\n",
    "            if nc in globals(): \n",
    "                _ = globals().pop(nc)  # being redefined anyway so can be deleted\n",
    "                self.classes.get(gc,{}).pop(nm,None)\n",
    "            return super().__call__(f)    "
   ]
  },
  {
   "cell_type": "markdown",
   "id": "4f6da3f3-f231-4bc4-9f50-ecbc99260ec0",
   "metadata": {},
   "source": [
    "**Note:** we do some potentially brittle things with `globals()` I haven't really used it before so I'd love feedback on this."
   ]
  },
  {
   "cell_type": "markdown",
   "id": "b83f98e5-3be5-4748-beaa-d48c9ce6df02",
   "metadata": {},
   "source": [
    "### The original features still work"
   ]
  },
  {
   "cell_type": "code",
   "execution_count": null,
   "id": "0dda85fa-6f9b-45fc-8ad4-05b72b75d759",
   "metadata": {},
   "outputs": [],
   "source": [
    "dispatch = MonkeyDispatcher()"
   ]
  },
  {
   "cell_type": "code",
   "execution_count": null,
   "id": "ce470de6-9275-4500-add1-965205056d68",
   "metadata": {},
   "outputs": [],
   "source": [
    "class A:\n",
    "    @dispatch\n",
    "    def encodes(self,x:int): return x*2\n",
    "    @dispatch\n",
    "    def encodes(self,x:str): return \"h_\"+x\n",
    "\n",
    "a = A()\n",
    "assert a.encodes(5) == 10\n",
    "assert a.encodes('a') == 'h_a'  # Expected"
   ]
  },
  {
   "cell_type": "markdown",
   "id": "f10622c1-3fda-4156-a922-41aa4d71665a",
   "metadata": {},
   "source": [
    "### Benefit 1: Monkeydispatching now works"
   ]
  },
  {
   "cell_type": "code",
   "execution_count": null,
   "id": "c4f43320-65ab-4c9b-ada3-b2baca95ad41",
   "metadata": {},
   "outputs": [],
   "source": [
    "class A:\n",
    "    @dispatch\n",
    "    def encodes(self,x:int): return x*2\n",
    "\n",
    "@dispatch\n",
    "def encodes(self:A,x:str): return \"h_\"+x\n",
    "    \n",
    "assert len(A.encodes.methods) == 2  # 🎉 Expected 2 b/c our second patch"
   ]
  },
  {
   "cell_type": "markdown",
   "id": "bc6aff44-5485-4831-99a5-3035c2e92ca2",
   "metadata": {},
   "source": [
    "Even if the original method was not decorated"
   ]
  },
  {
   "cell_type": "code",
   "execution_count": null,
   "id": "e2636694-de9a-4bf6-b871-27b5e7cfd10a",
   "metadata": {},
   "outputs": [],
   "source": [
    "class A:\n",
    "    def encodes(self,x:int): return x*2\n",
    "\n",
    "@dispatch\n",
    "def encodes(self:A,x:str): return \"h_\"+x\n",
    "    \n",
    "assert len(A.encodes.methods) == 2 # 🎉 Expected 2 b/c our second patch"
   ]
  },
  {
   "cell_type": "markdown",
   "id": "9a0cf2b3-b029-4ce6-9532-d656f6b9c630",
   "metadata": {},
   "source": [
    "### Benefit 2: Redefinitions of the class now clear the cache"
   ]
  },
  {
   "cell_type": "code",
   "execution_count": null,
   "id": "07a89b11-ee2c-44ee-ad8e-ff4c741f4c6a",
   "metadata": {},
   "outputs": [],
   "source": [
    "class A:\n",
    "    @dispatch\n",
    "    def encodes(self,x:int): return x*2\n",
    "    @dispatch\n",
    "    def encodes(self,x:list): return x*3\n",
    "\n",
    "class A:\n",
    "    @dispatch\n",
    "    def encodes(self,x:str): return \"h_\"+x\n",
    "    \n",
    "assert len(A.encodes.methods)  == 1 # 🎉 Expected 1 b/c class redefinition"
   ]
  },
  {
   "cell_type": "markdown",
   "id": "b1efa8c8-e21a-4d2b-94c7-5e6fa54e4769",
   "metadata": {},
   "source": [
    "But you might have noticed that already...because now we never redefined dispatch 😎"
   ]
  },
  {
   "cell_type": "code",
   "execution_count": null,
   "id": "f6f3a155-f632-47ad-82a4-8035a96d0db7",
   "metadata": {},
   "outputs": [],
   "source": [
    "#|hide\n",
    "#|eval: false\n",
    "from nbdev import nbdev_export\n",
    "nbdev_export()"
   ]
  }
 ],
 "metadata": {
  "kernelspec": {
   "display_name": "python3",
   "language": "python",
   "name": "python3"
  }
 },
 "nbformat": 4,
 "nbformat_minor": 5
}
