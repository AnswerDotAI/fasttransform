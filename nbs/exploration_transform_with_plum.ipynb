{
 "cells": [
  {
   "cell_type": "markdown",
   "id": "a93f1dc8",
   "metadata": {},
   "source": [
    "# Transform with Plum"
   ]
  },
  {
   "cell_type": "markdown",
   "id": "6a2cd37e",
   "metadata": {},
   "source": [
    "**⚠️ Context for Jeremy:**\n",
    "\n",
    "My previous implementation of fastcore.Transform was done by reimplementing\n",
    "`fastcore.typedispatch.TypeDispatch` with an implementation based on Plum.\n",
    "\n",
    "In this notebook I re-build Transform from scratch directly using Plum.\n",
    "The benefit will be that fastcore/fasttransform will be even simpler.\n",
    "Users will know to use plum directly for typedispatch and see Transform as a tool that uses it.\n",
    "\n",
    "I start with focusing on the `encode(s)` method.\n",
    "Right now I have two implementations. \n",
    "\n",
    "One simpler implementation, which ran into some complications with global state if classes get redefined.\n",
    "\n",
    "\n",
    "One more complicated implementation, using metaclasses. Which addresses those issues.\n",
    "\n",
    "I think now's a good time to get some input again.\n",
    "Do you think I'm on the right track If so I'll continue by adding more of the features mentioned in Transform, i.e.:\n",
    "\n",
    "- decodes and setups support\n",
    "- implement return type casting (see note at the bottom of this notebook about that)"
   ]
  },
  {
   "cell_type": "code",
   "execution_count": null,
   "id": "a9348620",
   "metadata": {},
   "outputs": [],
   "source": [
    "from types import MethodType\n",
    "\n",
    "from plum import NotFoundLookupError, AmbiguousLookupError\n",
    "from plum.dispatcher import dispatch, Dispatcher\n",
    "from plum.function import Function\n",
    "\n",
    "from fastcore.test import *"
   ]
  },
  {
   "cell_type": "code",
   "execution_count": null,
   "id": "a49e1495",
   "metadata": {},
   "outputs": [],
   "source": [
    "# This should work in plum\n",
    "from plum.dispatcher import dispatch\n",
    "\n",
    "class MyClass(int): pass\n",
    "\n",
    "@dispatch\n",
    "def plum_func(x:MyClass|float): return x/2\n",
    "\n",
    "@dispatch\n",
    "def plum_func(x:str|list): return str(x)+'_1'\n",
    "\n",
    "assert plum_func(MyClass(5)) == 2.5"
   ]
  },
  {
   "cell_type": "markdown",
   "id": "694d7dd0",
   "metadata": {},
   "source": [
    "# Transforms\n",
    "\n",
    "> Definition of `Transform` and `Pipeline`"
   ]
  },
  {
   "cell_type": "markdown",
   "id": "cbb09502",
   "metadata": {},
   "source": [
    "The classes here provide functionality for creating a composition of *partially reversible functions*. By \"partially reversible\" we mean that a transform can be `decode`d, creating a form suitable for display. This is not necessarily identical to the original form (e.g. a transform that changes a byte tensor to a float tensor does not recreate a byte tensor when decoded, since that may lose precision, and a float tensor can be displayed already).\n",
    "\n",
    "Classes are also provided and for composing transforms, and mapping them over collections. `Pipeline` is a transform which composes several `Transform`, knowing how to decode them or show an encoded item."
   ]
  },
  {
   "cell_type": "markdown",
   "id": "e44e9d5e",
   "metadata": {},
   "source": [
    "## Transform -"
   ]
  },
  {
   "cell_type": "markdown",
   "id": "d46a8086",
   "metadata": {},
   "source": [
    "### The main `Transform` features:"
   ]
  },
  {
   "cell_type": "markdown",
   "id": "e8fca11d",
   "metadata": {},
   "source": [
    "- **Type dispatch** - Type annotations are used to determine if a transform should be applied to the given argument. It also gives an option to provide several implementations and it choses the one to run based on the type. This is useful for example when running both independent and dependent variables through the pipeline where some transforms only make sense for one and not the other. Another usecase is designing a transform that handles different data formats. Note that if a transform takes multiple arguments only the type of the first one is used for dispatch. \n",
    "- **Handling of tuples** - When a tuple (or a subclass of tuple) of data is passed to a transform it will get applied to each element separately. You can opt out of this behavior by passing a list or an `L`, as only tuples gets this specific behavior. An alternative is to use `ItemTransform` defined below, which will always take the input as a whole.\n",
    "- **Reversability** - A transform can be made reversible by implementing the <code>decodes</code> method. This is mainly used to turn something like a category which is encoded as a number back into a label understandable by humans for showing purposes. Like the regular call method, the `decode` method that is used to decode will be applied over each element of a tuple separately.\n",
    "- **Type propagation** - Whenever possible a transform tries to return data of the same type it received. Mainly used to maintain semantics of things like `ArrayImage` which is a thin wrapper of pytorch's `Tensor`. You can opt out of this behavior by adding `->None` return type annotation.\n",
    "- **Preprocessing** - The `setup` method can be used to perform any one-time calculations to be later used by the transform, for example generating a vocabulary to encode categorical data.\n",
    "- **Filtering based on the dataset type** - By setting the `split_idx` flag you can make the transform be used only in a specific `DataSource` subset like in training, but not validation.\n",
    "- **Ordering** - You can set the `order` attribute which the `Pipeline` uses when it needs to merge two lists of transforms.\n",
    "- **Appending new behavior with decorators** - You can easily extend an existing `Transform` by creating <code>encodes</code> or <code>decodes</code> methods for new data types. You can put those new methods outside the original transform definition and decorate them with the class you wish them patched into. This can be used by the fastai library users to add their own behavior, or multiple modules contributing to the same transform."
   ]
  },
  {
   "cell_type": "markdown",
   "id": "b9174688",
   "metadata": {},
   "source": [
    "### Defining a `Transform`"
   ]
  },
  {
   "cell_type": "markdown",
   "id": "dd3c3769",
   "metadata": {},
   "source": [
    "There are a few ways to create a transform with different ratios of simplicity to flexibility.\n",
    "- **Extending the `Transform` class** - Use inheritence to implement the methods you want.\n",
    "- **Passing methods to the constructor** - Instantiate the `Transform` class and pass your functions as `enc` and `dec` arguments. \n",
    "- **@Transform decorator** - Turn any function into a `Transform` by just adding a decorator - very straightforward if all you need is a single <code>encodes</code> implementation.\n",
    "- **Passing a function to fastai APIs** - Same as above, but when passing a function to other transform aware classes like `Pipeline` or `TfmdDS` you don't even need a decorator. Your function will get converted to a `Transform` automatically."
   ]
  },
  {
   "cell_type": "markdown",
   "id": "cea48290",
   "metadata": {},
   "source": [
    "**⚠️ Question to Jeremy:** The second type of instantion, and then specifically with multiple (enc=,dec=) functions. I haven't seen used in the docs or in fastai. Should it be kept?"
   ]
  },
  {
   "cell_type": "markdown",
   "id": "834cf93b",
   "metadata": {},
   "source": [
    "## Simpler implementation"
   ]
  },
  {
   "cell_type": "markdown",
   "id": "609e5f17",
   "metadata": {},
   "source": [
    "Here's an implementation which does not rely on `fastcore.dispatch`.\n",
    "I show some tests and edge cases below."
   ]
  },
  {
   "cell_type": "code",
   "execution_count": null,
   "id": "dc25db20",
   "metadata": {},
   "outputs": [],
   "source": [
    "class Transform:\n",
    "    _instances = {}\n",
    "    def __init_subclass__(cls):\n",
    "        if hasattr(cls,'encodes') and not isinstance(cls.encodes, Function):\n",
    "            cls.encodes = dispatch(cls.encodes)\n",
    "    \n",
    "    @staticmethod\n",
    "    def _new_transform(f):\n",
    "        fname = f.__name__\n",
    "        inst = Transform._instances.get(fname)\n",
    "        if not inst:\n",
    "            inst = Transform.__new__(Transform)\n",
    "            inst.encodes = Function(f)\n",
    "            if fname !=\"<lambda>\":\n",
    "                Transform._instances[fname] = inst\n",
    "        inst.encodes = inst.encodes.dispatch(f)\n",
    "        return inst\n",
    "    \n",
    "    @staticmethod\n",
    "    def _new_transform_subclass(cls, f):\n",
    "        # Update qualname to make it appear as a class method\n",
    "        # Plum needs this to register it correctly\n",
    "        f.__qualname__ = f\"{cls.__name__}.{f.__name__}\"\n",
    "        if not hasattr(cls, \"encodes\"):\n",
    "            cls.encodes = f\n",
    "            cls.encodes = dispatch(cls.encodes)\n",
    "        else:\n",
    "            cls.encodes = cls.encodes.dispatch(f)\n",
    "        return cls\n",
    "\n",
    "    def __new__(cls, f=None, *args, **kwargs):\n",
    "        if callable(f) and not isinstance(f, type) and len(args) == len(kwargs) == 0:\n",
    "            if cls is Transform: return cls._new_transform(f)\n",
    "            else: return cls._new_transform_subclass(cls, f)\n",
    "        return super().__new__(cls)        \n",
    "    \n",
    "    def __call__(self, *args, **kwargs): \n",
    "        if not hasattr(self, \"encodes\"): return args[0]\n",
    "        try:\n",
    "            return self.encodes(*args, **kwargs) \n",
    "        except NotFoundLookupError: \n",
    "            return args[0]\n",
    "    \n",
    "    "
   ]
  },
  {
   "cell_type": "markdown",
   "id": "1c2b68d7",
   "metadata": {},
   "source": [
    "A simple way to create a `Transform` is to pass a function to the constructor.  In the below example, we pass an anonymous function that does integer division by 2:"
   ]
  },
  {
   "cell_type": "markdown",
   "id": "1fcbb888",
   "metadata": {},
   "source": [
    "### Lambda usage"
   ]
  },
  {
   "cell_type": "code",
   "execution_count": null,
   "id": "90c4a132",
   "metadata": {},
   "outputs": [],
   "source": [
    "f = Transform(lambda o: f\"f OBJ {o=}!\")"
   ]
  },
  {
   "cell_type": "markdown",
   "id": "4e519949",
   "metadata": {},
   "source": [
    "If you call this transform, it will apply the transformation:"
   ]
  },
  {
   "cell_type": "code",
   "execution_count": null,
   "id": "ff648787",
   "metadata": {},
   "outputs": [],
   "source": [
    "test_eq_type(f(2), \"f OBJ o=2!\")"
   ]
  },
  {
   "cell_type": "markdown",
   "id": "5ddd3e33",
   "metadata": {},
   "source": [
    "All dispatching information is stored inside the `.encodes` attribute where it's used"
   ]
  },
  {
   "cell_type": "code",
   "execution_count": null,
   "id": "194075c5",
   "metadata": {},
   "outputs": [
    {
     "data": {
      "text/plain": [
       "<multiple-dispatch function <lambda> (with 1 registered and 0 pending method(s))>"
      ]
     },
     "execution_count": null,
     "metadata": {},
     "output_type": "execute_result"
    }
   ],
   "source": [
    "f.encodes"
   ]
  },
  {
   "cell_type": "markdown",
   "id": "22793dc3",
   "metadata": {},
   "source": [
    "Another way to define a Transform is to extend the `Transform` class:"
   ]
  },
  {
   "cell_type": "markdown",
   "id": "61d40e22",
   "metadata": {},
   "source": [
    "### Subclass decorator usage"
   ]
  },
  {
   "cell_type": "code",
   "execution_count": null,
   "id": "35b94545",
   "metadata": {},
   "outputs": [],
   "source": [
    "class A(Transform): pass"
   ]
  },
  {
   "cell_type": "markdown",
   "id": "cb512b39",
   "metadata": {},
   "source": [
    "However, to enable your transform to do something, you have to define an <code>encodes</code> method.  Note that we can use the class name as a decorator to add this method to the original class."
   ]
  },
  {
   "cell_type": "code",
   "execution_count": null,
   "id": "e5e8d310",
   "metadata": {},
   "outputs": [],
   "source": [
    "@A\n",
    "def encodes(self, x:int): return f\"A INT {x=}!\""
   ]
  },
  {
   "cell_type": "code",
   "execution_count": null,
   "id": "ee5d2bd3",
   "metadata": {},
   "outputs": [],
   "source": [
    "@A\n",
    "def encodes(self, x:str): return f\"A STR {x=}!\""
   ]
  },
  {
   "cell_type": "code",
   "execution_count": null,
   "id": "8663811c",
   "metadata": {},
   "outputs": [],
   "source": [
    "a1 = A()\n",
    "test_eq(a1(1), \"A INT x=1!\")\n",
    "test_eq(a1('a'), \"A STR x='a'!\")"
   ]
  },
  {
   "cell_type": "markdown",
   "id": "378cf8fa",
   "metadata": {},
   "source": [
    "Note how the dispatch is stored globally in a class namespace"
   ]
  },
  {
   "cell_type": "code",
   "execution_count": null,
   "id": "33198ce2",
   "metadata": {},
   "outputs": [
    {
     "data": {
      "text/plain": [
       "2"
      ]
     },
     "execution_count": null,
     "metadata": {},
     "output_type": "execute_result"
    }
   ],
   "source": [
    "len(a1.encodes.methods)"
   ]
  },
  {
   "cell_type": "markdown",
   "id": "d5329099",
   "metadata": {},
   "source": [
    "### Class decorator usage"
   ]
  },
  {
   "cell_type": "code",
   "execution_count": null,
   "id": "9f9c1a5f",
   "metadata": {},
   "outputs": [],
   "source": [
    "@Transform\n",
    "def g(x:str): return f\"g OBJ {x=}!\"\n",
    "\n",
    "\n",
    "@Transform\n",
    "def g(x:int): return f\"g INT {x=}!\"\n",
    "\n",
    "test_eq(g(\"a\"), \"g OBJ x='a'!\")\n",
    "test_eq(g(5), \"g INT x=5!\")"
   ]
  },
  {
   "cell_type": "markdown",
   "id": "8f015cb5",
   "metadata": {},
   "source": [
    "Note how the instances directly created from `Transform` are tracked in in `Transform._instances` so we know where to add it if the `@Transform` decorator is called again."
   ]
  },
  {
   "cell_type": "code",
   "execution_count": null,
   "id": "78a93ecb",
   "metadata": {},
   "outputs": [
    {
     "data": {
      "text/plain": [
       "{'g': <__main__.Transform>}"
      ]
     },
     "execution_count": null,
     "metadata": {},
     "output_type": "execute_result"
    }
   ],
   "source": [
    "Transform._instances"
   ]
  },
  {
   "cell_type": "markdown",
   "id": "4a4f8686",
   "metadata": {},
   "source": [
    "**⚠️ Question for Jeremy:** \n",
    "\n",
    "I'm not tracking `Transform(<lambda>)` functions because re-use there would probably be unexpected by the user. Do you agree?"
   ]
  },
  {
   "cell_type": "markdown",
   "id": "0b913a46",
   "metadata": {},
   "source": [
    "### Classmethod usage"
   ]
  },
  {
   "cell_type": "code",
   "execution_count": null,
   "id": "75ecada4",
   "metadata": {},
   "outputs": [],
   "source": [
    "class B:\n",
    "    @classmethod\n",
    "    def create(cls, x:int): return x+1\n",
    "test_eq(Transform(B.create)(1), 2)"
   ]
  },
  {
   "cell_type": "markdown",
   "id": "08d008d3",
   "metadata": {},
   "source": [
    "### Extending method defined in the class"
   ]
  },
  {
   "cell_type": "code",
   "execution_count": null,
   "id": "ca3855b6",
   "metadata": {},
   "outputs": [],
   "source": [
    "class C(Transform):\n",
    "    def encodes(self, x): return 'obj'\n",
    "\n",
    "@C\n",
    "def encodes(self, x:int): return 'int'\n",
    "\n",
    "c = C()\n",
    "test_eq(c.encodes(0), 'int')\n",
    "test_eq(c.encodes(0.0), 'obj')"
   ]
  },
  {
   "cell_type": "markdown",
   "id": "ac52726a",
   "metadata": {},
   "source": [
    "### Initiating with multiple methods\n",
    "\n",
    "**⚠️ Question for Jeremy:** Do you agree with the trade-off below?\n",
    "\n",
    "In fastcore.Transform you could do this:\n",
    "\n",
    "```\n",
    "class D(Transform):\n",
    "    def encodes(self, x): return 'obj'\n",
    "    def encodes(self, x:int): return 'int'\n",
    "```\n",
    "\n",
    "To get this working it required the use of metaclasses.\n",
    "\n",
    "With Plum we could do the following:\n",
    "\n",
    "```\n",
    "class D(Transform):\n",
    "    @dispatch\n",
    "    def encodes(self, x): return 'obj'\n",
    "    @dispatch\n",
    "    def encodes(self, x:int): return 'int'\n",
    "```\n",
    "\n",
    "But for this to work we do need to store all multiple dispatch information in the global `dispatch` object. Which we'll see have a nasty downstream effect further in the notebook.\n",
    "\n",
    "...But in return we get a simpler Transform class without metaclasses. I also dont mind that we're more explicit about dispatch happening here."
   ]
  },
  {
   "cell_type": "code",
   "execution_count": null,
   "id": "fb3f387d",
   "metadata": {},
   "outputs": [],
   "source": [
    "class D(Transform):\n",
    "    @dispatch\n",
    "    def encodes(self, x): return 'obj'\n",
    "    @dispatch\n",
    "    def encodes(self, x:int): return 'int'\n",
    "\n",
    "d = D()\n",
    "test_eq(d.encodes(0), 'int')\n",
    "test_eq(d.encodes(0.0), 'obj')"
   ]
  },
  {
   "cell_type": "markdown",
   "id": "20201244",
   "metadata": {},
   "source": [
    "### Ambiguous vs NoFound lookups"
   ]
  },
  {
   "cell_type": "code",
   "execution_count": null,
   "id": "29997b03",
   "metadata": {},
   "outputs": [
    {
     "name": "stdout",
     "output_type": "stream",
     "text": [
      "Caught an expected AmbiguousLookupError\n"
     ]
    }
   ],
   "source": [
    "class E(Transform): pass\n",
    "\n",
    "@E\n",
    "def encodes(self, x:int|str): return f\"E INT|STR {x=}!\"\n",
    "\n",
    "@E\n",
    "def encodes(self, x:float|str): return f\"E FLOAT|STR {x=}!\"\n",
    "\n",
    "e = E()\n",
    "\n",
    "test_eq(e(5), \"E INT|STR x=5!\")\n",
    "test_eq(e(.5), \"E FLOAT|STR x=0.5!\")\n",
    "test_eq(e([1]), [1])  # NoFoundLookups returns self\n",
    "\n",
    "try:\n",
    "    e(\"hi there\")  # could be either encodes function\n",
    "except AmbiguousLookupError:\n",
    "    print(\"Caught an expected AmbiguousLookupError\")"
   ]
  },
  {
   "cell_type": "markdown",
   "id": "1e4f301d",
   "metadata": {},
   "source": [
    "**⚠️ Question for Jeremy:** \n",
    "I think this makes sense. The original intended behavior from Transforms to return self when not defined is kept. But if the encodes are internally inconsistent then we raise an error."
   ]
  },
  {
   "cell_type": "markdown",
   "id": "141ec234",
   "metadata": {},
   "source": [
    "### Further Tests"
   ]
  },
  {
   "cell_type": "code",
   "execution_count": null,
   "id": "9c7ed5db",
   "metadata": {},
   "outputs": [],
   "source": [
    "# inherited transforms\n",
    "class F(Transform): pass\n",
    "@F\n",
    "def encodes(self, x:int): return \"INT\"\n",
    "\n",
    "class G(F): pass\n",
    "@G\n",
    "def encodes(self, x:str): return \"STR\"\n",
    "\n",
    "g = G()\n",
    "\n",
    "test_eq(len(g.encodes.methods), 2)"
   ]
  },
  {
   "cell_type": "code",
   "execution_count": null,
   "id": "101ad2a3",
   "metadata": {},
   "outputs": [],
   "source": [
    "# return arg[0] if no encodes has been defined\n",
    "class _Tst(Transform): pass \n",
    "f3 = _Tst() \n",
    "test_eq(f3(2), 2)"
   ]
  },
  {
   "cell_type": "code",
   "execution_count": null,
   "id": "e06a67fa",
   "metadata": {},
   "outputs": [],
   "source": [
    "# Type inheritance\n",
    "# class MyClass(int): pass\n",
    "\n",
    "class H(Transform):\n",
    "    def encodes(self, x:MyClass|float): return x/2\n",
    "\n",
    "@H\n",
    "def encodes(self, x:str|list): return str(x)+'_1'\n",
    "\n",
    "h = H()\n",
    "\n",
    "test_eq(h(MyClass(5)), 2.5)"
   ]
  },
  {
   "cell_type": "code",
   "execution_count": null,
   "id": "156771cc",
   "metadata": {},
   "outputs": [],
   "source": [
    "assert len(h.encodes.methods) == 2"
   ]
  },
  {
   "cell_type": "markdown",
   "id": "7ca5bec8",
   "metadata": {},
   "source": [
    "### Breaking case"
   ]
  },
  {
   "cell_type": "code",
   "execution_count": null,
   "id": "8b69e632",
   "metadata": {},
   "outputs": [],
   "source": [
    "class Q(Transform):\n",
    "    def encodes(self, x:float): return x/2\n",
    "@Q\n",
    "def encodes(self, x:str): return str(x)+'_1'\n",
    "\n",
    "q = Q()\n",
    "\n",
    "assert len(q.encodes.methods) == 2\n",
    "\n",
    "class Q(Transform):\n",
    "        def encodes(self, x:int): return x/2\n",
    "@Q\n",
    "def encodes(self, x:str): return str(x)+'_1'\n",
    "\n",
    "q = Q()\n",
    "\n",
    "assert len(q.encodes.methods) > 2   # 🚨 Expected fail but it shouldnt of course."
   ]
  },
  {
   "cell_type": "markdown",
   "id": "3f3dab2a",
   "metadata": {},
   "source": [
    "**⚠️ Note for Jeremy:**  We keep adding methods to Q even when the class is redefined. \n",
    "This happens because we use the global dispatch registry to enable this pattern:\n",
    "\n",
    "```\n",
    "class D(Transform):\n",
    "    @dispatch\n",
    "    def encodes(self, x): return 'obj'\n",
    "    @dispatch\n",
    "    def encodes(self, x:int): return 'int'\n",
    "```\n",
    "\n",
    "I think the best way to go ahead is to use metaclasses and to bring back the scope of encodes to a dispatch object inside the class (D in this case). \n",
    "\n",
    "This unexpected behavior would not be pleasant for the user I think.\n"
   ]
  },
  {
   "cell_type": "markdown",
   "id": "5037ce20",
   "metadata": {},
   "source": [
    "## Metaclass approach\n",
    "\n",
    "Attempt at implementing Transform that both:\n",
    "\n",
    "1. Lets you define multiple encodes during class definition\n",
    "2. Does not overload the global dispatch when classes are redefined"
   ]
  },
  {
   "cell_type": "code",
   "execution_count": null,
   "id": "3aacf50e",
   "metadata": {},
   "outputs": [],
   "source": [
    "# clear global dispatch\n",
    "from plum.dispatcher import Dispatcher\n",
    "dispatch = Dispatcher()"
   ]
  },
  {
   "cell_type": "code",
   "execution_count": null,
   "id": "82b2fbdf",
   "metadata": {},
   "outputs": [],
   "source": [
    "class _TfmMeta(type):\n",
    "    def __new__(cls, name, bases, dict):\n",
    "        res = super().__new__(cls, name, bases, dict)\n",
    "        for nm in _tfm_methods:\n",
    "            base_td = [getattr(b,nm,None) for b in bases]\n",
    "            if nm in res.__dict__: getattr(res,nm).bases = base_td\n",
    "        return res\n",
    "\n",
    "    @classmethod\n",
    "    def __prepare__(cls, name, bases): \n",
    "        return _TfmDict()\n",
    "     "
   ]
  },
  {
   "cell_type": "code",
   "execution_count": null,
   "id": "296bd9fc",
   "metadata": {},
   "outputs": [],
   "source": [
    "_tfm_methods = 'encodes','decodes','setups'\n",
    "\n",
    "def _is_tfm_method(n, f): return n in _tfm_methods and callable(f)\n",
    "\n",
    "class _TfmDict(dict):\n",
    "    def __setitem__(self, k, v):\n",
    "        if not _is_tfm_method(k, v): return super().__setitem__(k,v)\n",
    "        if k not in self: super().__setitem__(k,Function(v).dispatch(v))\n",
    "        self[k].dispatch(v)\n",
    "     "
   ]
  },
  {
   "cell_type": "code",
   "execution_count": null,
   "id": "a656a9f8",
   "metadata": {},
   "outputs": [],
   "source": [
    "class Transform(metaclass=_TfmMeta):\n",
    "    _instances = {}\n",
    "    def __init_subclass__(cls):\n",
    "        if hasattr(cls,'encodes') and not isinstance(cls.encodes, Function):\n",
    "            cls.encodes = dispatch(cls.encodes)\n",
    "    \n",
    "    @staticmethod\n",
    "    def _new_transform(f):\n",
    "        fname = f.__name__\n",
    "        inst = Transform._instances.get(fname)\n",
    "        if not inst:\n",
    "            inst = Transform.__new__(Transform)\n",
    "            inst.encodes = Function(f)\n",
    "            # don't register lambda's they're intended to be single use\n",
    "            if fname !=\"<lambda>\":\n",
    "                Transform._instances[fname] = inst\n",
    "        inst.encodes = inst.encodes.dispatch(f)\n",
    "        return inst\n",
    "    \n",
    "    @staticmethod\n",
    "    def _new_transform_subclass(cls, f):\n",
    "        # Update qualname to make it appear as a class method\n",
    "        # Plum needs this to register it correctly\n",
    "        f.__qualname__ = f\"{cls.__name__}.{f.__name__}\"\n",
    "        if not hasattr(cls, \"encodes\"):\n",
    "            cls.encodes = f\n",
    "            cls.encodes = Function(cls.encodes).dispatch(cls.encodes)\n",
    "        else:\n",
    "            cls.encodes = cls.encodes.dispatch(f)\n",
    "        return cls\n",
    "\n",
    "    def __new__(cls, f=None, *args, **kwargs):\n",
    "        if callable(f) and not isinstance(f, type) and len(args) == len(kwargs) == 0:\n",
    "            if cls is Transform: return cls._new_transform(f)\n",
    "            else: return cls._new_transform_subclass(cls, f)\n",
    "        return super().__new__(cls)        \n",
    "    \n",
    "    def __call__(self, *args, **kwargs): \n",
    "        if not hasattr(self, \"encodes\"): return args[0]\n",
    "        try:\n",
    "            return self.encodes(*args, **kwargs) \n",
    "        except NotFoundLookupError: \n",
    "            return args[0]\n",
    "    \n",
    "    "
   ]
  },
  {
   "cell_type": "markdown",
   "id": "0ab17c37",
   "metadata": {},
   "source": [
    "### Try with previously failing test"
   ]
  },
  {
   "cell_type": "code",
   "execution_count": null,
   "id": "37bf9b91",
   "metadata": {},
   "outputs": [],
   "source": [
    "class Q(Transform):\n",
    "    def encodes(self, x:float): return x/2\n",
    "@Q\n",
    "def encodes(self, x:str): return str(x)+'_1'\n",
    "\n",
    "q = Q()\n",
    "\n",
    "assert len(q.encodes.methods) == 2\n",
    "\n",
    "class Q(Transform):\n",
    "        def encodes(self, x:int): return x/2\n",
    "@Q\n",
    "def encodes(self, x:str): return str(x)+'_1'\n",
    "\n",
    "q = Q()\n",
    "\n",
    "assert len(q.encodes.methods) == 2   # 🎉 Now it has the expected number of methods"
   ]
  },
  {
   "cell_type": "markdown",
   "id": "0d741273",
   "metadata": {},
   "source": [
    "### Old tests that did pass"
   ]
  },
  {
   "cell_type": "code",
   "execution_count": null,
   "id": "bdc4dfc7",
   "metadata": {},
   "outputs": [],
   "source": [
    "# overwrite lambda's\n",
    "f = Transform(lambda o:o//2)\n",
    "f = Transform(lambda o:o//5)\n",
    "\n",
    "test_eq(len(f.encodes.methods), 1)"
   ]
  },
  {
   "cell_type": "code",
   "execution_count": null,
   "id": "21787334",
   "metadata": {},
   "outputs": [],
   "source": [
    "@Transform\n",
    "def g(x): return \"obj\"\n",
    "\n",
    "@Transform\n",
    "def g(x:int): return \"int\"\n",
    "\n",
    "test_eq(len(g.encodes.methods), 2)"
   ]
  },
  {
   "cell_type": "code",
   "execution_count": null,
   "id": "e6e326ec",
   "metadata": {},
   "outputs": [],
   "source": [
    "class A(Transform):\n",
    "    def encodes(self, x:int): return \"BOO!\"\n",
    "@A\n",
    "def encodes(self, x): return x+1\n",
    "\n",
    "f1 = A()\n",
    "assert len(f1.encodes.methods) == 2"
   ]
  },
  {
   "cell_type": "code",
   "execution_count": null,
   "id": "9dabd929",
   "metadata": {},
   "outputs": [],
   "source": [
    "class A(Transform): pass\n",
    "\n",
    "@A\n",
    "def encodes(self, x): return x+1\n",
    "\n",
    "f1 = A()\n",
    "test_eq(len(f1.encodes.methods), 1)"
   ]
  },
  {
   "cell_type": "code",
   "execution_count": null,
   "id": "47c95dfe",
   "metadata": {},
   "outputs": [],
   "source": [
    "class _Tst(Transform): pass \n",
    "\n",
    "f3 = _Tst() # no encodes method have been defined\n",
    "test_eq_type(f3(2), 2)"
   ]
  },
  {
   "cell_type": "code",
   "execution_count": null,
   "id": "75115c3a",
   "metadata": {},
   "outputs": [],
   "source": [
    "class A:\n",
    "    @classmethod\n",
    "    def create(cls, x:int): return x+1\n",
    "test_eq(Transform(A.create)(1), 2)"
   ]
  },
  {
   "cell_type": "code",
   "execution_count": null,
   "id": "962bb447",
   "metadata": {},
   "outputs": [],
   "source": [
    "class A(Transform):\n",
    "    def encodes(self, x): return 'obj'\n",
    "\n",
    "@A\n",
    "def encodes(self, x:int): return 'int'\n",
    "\n",
    "a = A()\n",
    "test_eq(a.encodes(0), 'int')\n",
    "test_eq(a.encodes(0.0), 'obj')"
   ]
  },
  {
   "cell_type": "code",
   "execution_count": null,
   "id": "77534c9c",
   "metadata": {},
   "outputs": [],
   "source": [
    "@Transform\n",
    "def f(x:int): return x//2\n",
    "test_eq_type(f(2), 1)\n",
    "\n",
    "@Transform\n",
    "def f(x:float): return x*2\n",
    "test_eq_type(f(2), 1)\n",
    "test_eq_type(f(2.), 4.)"
   ]
  },
  {
   "cell_type": "code",
   "execution_count": null,
   "id": "03d9bc0e",
   "metadata": {},
   "outputs": [],
   "source": [
    "class A(Transform): pass\n",
    "\n",
    "@A\n",
    "def encodes(self, x:int): return \"INT!\"\n",
    "\n",
    "@A\n",
    "def encodes(self, x:float): return \"FLOAT!\"\n",
    "\n",
    "a= A()\n",
    "\n",
    "test_eq(a(5), \"INT!\")\n",
    "test_eq(a(5.), \"FLOAT!\")"
   ]
  },
  {
   "cell_type": "code",
   "execution_count": null,
   "id": "852cc2ce",
   "metadata": {},
   "outputs": [],
   "source": [
    "class A(Transform):\n",
    "    def encodes(self, x:MyClass|float): return x/2\n",
    "    def encodes(self, x:str|list): return str(x)+'_1'\n",
    "\n",
    "f = A()\n",
    "\n",
    "test_eq(len(f.encodes.methods), 2)\n",
    "test_eq(f(MyClass(2)), 1.) # input is of type MyClass \n",
    "test_eq(f(6.0), 3.0) # input is of type float\n",
    "test_eq(f('a'), 'a_1') # input is of type str\n",
    "test_eq(f(['a','b','c']), \"['a', 'b', 'c']_1\") # input is of type list"
   ]
  },
  {
   "cell_type": "markdown",
   "id": "83ef6698",
   "metadata": {},
   "source": [
    "## Return type casting\n",
    "\n",
    "From fastcore.transform:\n",
    "\n",
    "> Without any intervention it is easy for operations to change types in Python. For example, `FloatSubclass` (defined below) becomes a `float` after performing multiplication:\n",
    "\n",
    "```python\n",
    "class FloatSubclass(float): pass\n",
    "test_eq_type(FloatSubclass(3.0) * 2, 6.0)\n",
    "```\n",
    "\n",
    "> This behavior is often not desirable when performing transformations on data.  Therefore, `Transform` will attempt to cast the output to be of the same type as the input by default.  In the below example, the output will be cast to a `FloatSubclass` type to match the type of the input:\n",
    "\n",
    "```python\n",
    "@Transform\n",
    "def f(x): return x*2\n",
    "\n",
    "test_eq_type(f(FloatSubclass(3.0)), FloatSubclass(6.0))\n",
    "```\n",
    "\n",
    "> We can optionally turn off casting by annotating the transform function with a return type of `None`:  \n",
    "\n",
    "```python\n",
    "@Transform\n",
    "def f(x)-> None: return x*2 # Same transform as above, but with a -> None annotation\n",
    "\n",
    "test_eq_type(f(FloatSubclass(3.0)), 6.0)  # Casting is turned off because of -> None annotation\n",
    "```"
   ]
  },
  {
   "cell_type": "markdown",
   "id": "5ddd2e1d",
   "metadata": {},
   "source": [
    "**⚠️ Question to Jeremy:**\n",
    "\n",
    "Plum does things differently. It tries to cast the output to the return type annotation of the function.\n",
    "I haven't thought yet about how to address this but I'm curious what your input is on this matter.\n",
    "\n",
    "My current thinking:\n",
    "\n",
    "1. Check if we can turn off return type casting from Plum\n",
    "2. Check if we can leverage Plum's return type casting to actually cast to the first arg type"
   ]
  },
  {
   "cell_type": "code",
   "execution_count": null,
   "id": "efba4c32",
   "metadata": {},
   "outputs": [],
   "source": [
    "@dispatch\n",
    "def foo(x)->None: return x*2"
   ]
  },
  {
   "cell_type": "code",
   "execution_count": null,
   "id": "2d43de3d",
   "metadata": {},
   "outputs": [],
   "source": [
    "try:\n",
    "    foo(5)\n",
    "except TypeError:\n",
    "    pass\n",
    "# Returns: TypeError: Cannot convert `10` to `NoneType`."
   ]
  }
 ],
 "metadata": {
  "kernelspec": {
   "display_name": "python3",
   "language": "python",
   "name": "python3"
  }
 },
 "nbformat": 4,
 "nbformat_minor": 5
}
