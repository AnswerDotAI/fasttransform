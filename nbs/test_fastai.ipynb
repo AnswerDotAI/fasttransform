{
 "cells": [
  {
   "cell_type": "markdown",
   "id": "29a5015c",
   "metadata": {},
   "source": [
    "# Test Fastai\n",
    "\n",
    "Goal is that `nbdev_test` on fastai passes.\n",
    "Here I capture some things that gave me trouble so we can be sure they pass and test faster rather than rerunning all of fastai's tests every time.\n",
    "\n",
    "#Test setup:\n",
    "1. Install fastcore in editable mode\n",
    "2. Go to `fastcore.all.py` and prepend `fasttransform` to `.dispatch` and `.transform`\n",
    "3. Install nbdev in editable mode\n",
    "4. Got to `nbs/08_showdoc.ipynb` and replace `fastcore.dispatch` with `fasttransform.dispatch` dont forget to `nbdev_export`\n",
    "5. Run fastai's tests with nbdev_test"
   ]
  },
  {
   "cell_type": "markdown",
   "id": "3199dc3e",
   "metadata": {},
   "source": [
    "## Show Batch\n",
    "\n",
    "My initial implementation didnt work w fastai because fastai tries to find it. by doing `show_batch[object]` but the function takes 3 arguments. Hence strictly speaking there's no match.\n",
    "\n",
    "To get around this I've implemented a check: if the function is called `show_batch` and input is of len 1 then append object twice and try again. This isn't a pretty fix but I'll check w Jeremy if this is better something to address in fastai rather than fasttransform."
   ]
  },
  {
   "cell_type": "code",
   "execution_count": 1,
   "id": "33447029",
   "metadata": {},
   "outputs": [],
   "source": [
    "from fastai.data.core import show_batch"
   ]
  },
  {
   "cell_type": "markdown",
   "id": "c9990e7d",
   "metadata": {},
   "source": [
    "`show_batch.methods`\n",
    "\n",
    "```\n",
    "List of 3 method(s):\n",
    "    [0] show_batch(x: Any, y: Any, samples: Any, ctxs: Any, max_n: Any, *, **kwargs)                               \n",
    "        <function show_batch at 0x13cc97c40> @ ~/git/fastai/fastai/data/core.py:15                                 \n",
    "    [1] show_batch(x: Any, y: Any, samples: Any, ctxs: Any, *, **kwargs)                                           \n",
    "        <function show_batch at 0x13cc97c40> @ ~/git/fastai/fastai/data/core.py:15                                 \n",
    "    [2] show_batch(x: Any, y: Any, samples: Any, *, **kwargs)                                                      \n",
    "        <function show_batch at 0x13cc97c40> @ ~/git/fastai/fastai/data/core.py:15     \n",
    "```"
   ]
  },
  {
   "cell_type": "code",
   "execution_count": 2,
   "id": "e06dc24e",
   "metadata": {},
   "outputs": [],
   "source": [
    "# This should pass if compatible w fastai-way\n",
    "assert show_batch[object]"
   ]
  },
  {
   "cell_type": "code",
   "execution_count": 3,
   "id": "f45666dc",
   "metadata": {},
   "outputs": [],
   "source": [
    "# This should always pass\n",
    "assert show_batch[object, object, object]"
   ]
  },
  {
   "cell_type": "code",
   "execution_count": 4,
   "id": "1b590a15",
   "metadata": {},
   "outputs": [],
   "source": [
    "from fastai.text.data import TensorText"
   ]
  },
  {
   "cell_type": "code",
   "execution_count": 5,
   "id": "fbfec43f",
   "metadata": {},
   "outputs": [],
   "source": [
    "# This should pass if compatible w fastai-way\n",
    "assert show_batch[TensorText]"
   ]
  },
  {
   "cell_type": "code",
   "execution_count": 6,
   "id": "c6f2e47a",
   "metadata": {},
   "outputs": [],
   "source": [
    "# this should always pass\n",
    "assert show_batch[TensorText, object, object]"
   ]
  },
  {
   "cell_type": "markdown",
   "id": "c8ee3576",
   "metadata": {},
   "source": [
    "## EncodedMultiCategorize\n",
    "\n",
    "```\n",
    "While Executing Cell #14:\n",
    "['Traceback (most recent call last):\\n', '  File \"/Users/rensdimmendaal/git/nbdev/nbdev/test.py\", line 52, in test_nb\\n    k.run_all(nb, exc_stop=True, preproc=_no_eval)\\n', '  File \"/Users/rensdimmendaal/git/.venv/lib/python3.12/site-packages/execnb/shell.py\", line 245, in run_all\\n    if self.exc and exc_stop: raise self.exc from None\\n                              ^^^^^^^^^^^^^^^^^^^^^^^^\\n', '  File \"/Users/rensdimmendaal/git/.venv/lib/python3.12/site-packages/IPython/core/interactiveshell.py\", line 3577, in run_code\\n    exec(code_obj, self.user_global_ns, self.user_ns)\\n', '  File \"<ipython-input-1-1ed05e3b85ee>\", line 1, in <module>\\n    dls = TabularDataLoaders.from_df(df, path, procs=procs, cat_names=cat_names, cont_names=cont_names,\\n         ^^^^^^^^^^^^^^^^^^^^^^^^^^^^^^^^^^^^^^^^^^^^^^^^^^^^^^^^^^^^^^^^^^^^^^^^^^^^^^^^^^^^^^^^^^^^^\\n', '  File \"<ipython-input-1-04cdb822bf02>\", line 20, in from_df\\n    to = TabularPandas(df, procs, cat_names, cont_names, y_names, splits=splits, y_block=y_block)\\n         ^^^^^^^^^^^^^^^^^^^^^^^^^^^^^^^^^^^^^^^^^^^^^^^^^^^^^^^^^^^^^^^^^^^^^^^^^^^^^^^^^^^^^^^^\\n', '  File \"/Users/rensdimmendaal/git/fastai/fastai/tabular/core.py\", line 170, in __init__\\n    if do_setup: self.setup()\\n                 ^^^^^^^^^^^^\\n', '  File \"/Users/rensdimmendaal/git/fastai/fastai/tabular/core.py\", line 181, in setup\\n    def setup(self): self.procs.setup(self)\\n                     ^^^^^^^^^^^^^^^^^^^^^^\\n', '  File \"/Users/rensdimmendaal/git/fasttransform/fasttransform/transform.py\", line 203, in setup\\n    for t in tfms: self.add(t,items, train_setup)\\n                   ^^^^^^^^^^^^^^^^^^^^^^^^^^^^^^\\n', '  File \"/Users/rensdimmendaal/git/fasttransform/fasttransform/transform.py\", line 207, in add\\n    for t in ts: t.setup(items, train_setup)\\n                 ^^^^^^^^^^^^^^^^^^^^^^^^^^^\\n', '  File \"/Users/rensdimmendaal/git/fasttransform/fasttransform/transform.py\", line 89, in setup\\n    return self.setups(getattr(items, \\'train\\', items) if train_setup else items)\\n           ^^^^^^^^^^^^^^^^^^^^^^^^^^^^^^^^^^^^^^^^^^^^^^^^^^^^^^^^^^^^^^^^^^^^^\\n', '  File \"/Users/rensdimmendaal/git/fasttransform/fasttransform/dispatch.py\", line 75, in __call__\\n    return f(*args, **kwargs)\\n           ^^^^^^^^^^^^^^^^^^\\n', '  File \"/Users/rensdimmendaal/git/fastai/fastai/tabular/core.py\", line 382, in setups\\n    self.c = len(self.vocab)\\n             ^^^^^^^^^^^^^^^\\n', \"TypeError: object of type 'NoneType' has no len()\\n\"]\n",
    "\n",
    "TypeError in /Users/rensdimmendaal/git/fastai/nbs/43_tabular.learner.ipynb:\n",
    "===========================================================================\n",
    "\n",
    "While Executing Cell #13:\n",
    "['Traceback (most recent call last):\\n', '  File \"/Users/rensdimmendaal/git/nbdev/nbdev/test.py\", line 52, in test_nb\\n    k.run_all(nb, exc_stop=True, preproc=_no_eval)\\n', '  File \"/Users/rensdimmendaal/git/.venv/lib/python3.12/site-packages/execnb/shell.py\", line 245, in run_all\\n    if self.exc and exc_stop: raise self.exc from None\\n                              ^^^^^^^^^^^^^^^^^^^^^^^^\\n', '  File \"/Users/rensdimmendaal/git/.venv/lib/python3.12/site-packages/IPython/core/interactiveshell.py\", line 3577, in run_code\\n    exec(code_obj, self.user_global_ns, self.user_ns)\\n', '  File \"<ipython-input-1-4ac00820c353>\", line 6, in <module>\\n    dls = TabularDataLoaders.from_df(df, path, procs=procs, cat_names=cat_names, cont_names=cont_names,\\n         ^^^^^^^^^^^^^^^^^^^^^^^^^^^^^^^^^^^^^^^^^^^^^^^^^^^^^^^^^^^^^^^^^^^^^^^^^^^^^^^^^^^^^^^^^^^^^\\n', '  File \"/Users/rensdimmendaal/git/fastai/fastai/tabular/data.py\", line 34, in from_df\\n    to = TabularPandas(df, procs, cat_names, cont_names, y_names, splits=splits, y_block=y_block)\\n         ^^^^^^^^^^^^^^^^^^^^^^^^^^^^^^^^^^^^^^^^^^^^^^^^^^^^^^^^^^^^^^^^^^^^^^^^^^^^^^^^^^^^^^^^\\n', '  File \"/Users/rensdimmendaal/git/fastai/fastai/tabular/core.py\", line 170, in __init__\\n    if do_setup: self.setup()\\n                 ^^^^^^^^^^^^\\n', '  File \"/Users/rensdimmendaal/git/fastai/fastai/tabular/core.py\", line 181, in setup\\n    def setup(self): self.procs.setup(self)\\n                     ^^^^^^^^^^^^^^^^^^^^^^\\n', '  File \"/Users/rensdimmendaal/git/fasttransform/fasttransform/transform.py\", line 203, in setup\\n    for t in tfms: self.add(t,items, train_setup)\\n                   ^^^^^^^^^^^^^^^^^^^^^^^^^^^^^^\\n', '  File \"/Users/rensdimmendaal/git/fasttransform/fasttransform/transform.py\", line 207, in add\\n    for t in ts: t.setup(items, train_setup)\\n                 ^^^^^^^^^^^^^^^^^^^^^^^^^^^\\n', '  File \"/Users/rensdimmendaal/git/fasttransform/fasttransform/transform.py\", line 89, in setup\\n    return self.setups(getattr(items, \\'train\\', items) if train_setup else items)\\n           ^^^^^^^^^^^^^^^^^^^^^^^^^^^^^^^^^^^^^^^^^^^^^^^^^^^^^^^^^^^^^^^^^^^^^\\n', '  File \"/Users/rensdimmendaal/git/fasttransform/fasttransform/dispatch.py\", line 75, in __call__\\n    return f(*args, **kwargs)\\n           ^^^^^^^^^^^^^^^^^^\\n', '  File \"/Users/rensdimmendaal/git/fastai/fastai/tabular/core.py\", line 382, in setups\\n    self.c = len(self.vocab)\\n             ^^^^^^^^^^^^^^^\\n', \"TypeError: object of type 'NoneType' has no len()\\n\"]\n",
    "\n",
    "TypeError in /Users/rensdimmendaal/git/fastai/nbs/44_tutorial.tabular.ipynb:\n",
    "===========================================================================\n",
    "\n",
    "While Executing Cell #10:\n",
    "['Traceback (most recent call last):\\n', '  File \"/Users/rensdimmendaal/git/nbdev/nbdev/test.py\", line 52, in test_nb\\n    k.run_all(nb, exc_stop=True, preproc=_no_eval)\\n', '  File \"/Users/rensdimmendaal/git/.venv/lib/python3.12/site-packages/execnb/shell.py\", line 245, in run_all\\n    if self.exc and exc_stop: raise self.exc from None\\n                              ^^^^^^^^^^^^^^^^^^^^^^^^\\n', '  File \"/Users/rensdimmendaal/git/.venv/lib/python3.12/site-packages/IPython/core/interactiveshell.py\", line 3577, in run_code\\n    exec(code_obj, self.user_global_ns, self.user_ns)\\n', '  File \"<ipython-input-1-6bbed75b46ca>\", line 1, in <module>\\n    dls = TabularDataLoaders.from_csv(path/\\'adult.csv\\', path=path, y_names=\"salary\",\\n          ^^^^^^^^^^^^^^^^^^^^^^^^^^^^^^^^^^^^^^^^^^^^^^^^^^^^^^^^^^^^^^^^^^^^^^^^^^\\n', '  File \"/Users/rensdimmendaal/git/fastai/fastai/tabular/data.py\", line 44, in from_csv\\n    return cls.from_df(pd.read_csv(csv, skipinitialspace=skipinitialspace), **kwargs)\\n           ^^^^^^^^^^^^^^^^^^^^^^^^^^^^^^^^^^^^^^^^^^^^^^^^^^^^^^^^^^^^^^^^^^^^^^^^^^\\n', '  File \"/Users/rensdimmendaal/git/fastai/fastai/tabular/data.py\", line 34, in from_df\\n    to = TabularPandas(df, procs, cat_names, cont_names, y_names, splits=splits, y_block=y_block)\\n         ^^^^^^^^^^^^^^^^^^^^^^^^^^^^^^^^^^^^^^^^^^^^^^^^^^^^^^^^^^^^^^^^^^^^^^^^^^^^^^^^^^^^^^^^\\n', '  File \"/Users/rensdimmendaal/git/fastai/fastai/tabular/core.py\", line 170, in __init__\\n    if do_setup: self.setup()\\n                 ^^^^^^^^^^^^\\n', '  File \"/Users/rensdimmendaal/git/fastai/fastai/tabular/core.py\", line 181, in setup\\n    def setup(self): self.procs.setup(self)\\n                     ^^^^^^^^^^^^^^^^^^^^^^\\n', '  File \"/Users/rensdimmendaal/git/fasttransform/fasttransform/transform.py\", line 203, in setup\\n    for t in tfms: self.add(t,items, train_setup)\\n                   ^^^^^^^^^^^^^^^^^^^^^^^^^^^^^^\\n', '  File \"/Users/rensdimmendaal/git/fasttransform/fasttransform/transform.py\", line 207, in add\\n    for t in ts: t.setup(items, train_setup)\\n                 ^^^^^^^^^^^^^^^^^^^^^^^^^^^\\n', '  File \"/Users/rensdimmendaal/git/fasttransform/fasttransform/transform.py\", line 89, in setup\\n    return self.setups(getattr(items, \\'train\\', items) if train_setup else items)\\n           ^^^^^^^^^^^^^^^^^^^^^^^^^^^^^^^^^^^^^^^^^^^^^^^^^^^^^^^^^^^^^^^^^^^^^\\n', '  File \"/Users/rensdimmendaal/git/fasttransform/fasttransform/dispatch.py\", line 75, in __call__\\n    return f(*args, **kwargs)\\n           ^^^^^^^^^^^^^^^^^^\\n', '  File \"/Users/rensdimmendaal/git/fastai/fastai/tabular/core.py\", line 382, in setups\\n    self.c = len(self.vocab)\\n             ^^^^^^^^^^^^^^^\\n', \"TypeError: object of type 'NoneType' has no len()\\n\"]\n",
    "```"
   ]
  },
  {
   "cell_type": "code",
   "execution_count": null,
   "id": "f51528ef",
   "metadata": {},
   "outputs": [],
   "source": []
  }
 ],
 "metadata": {
  "kernelspec": {
   "display_name": "Python 3 (ipykernel)",
   "language": "python",
   "name": "python3"
  },
  "language_info": {
   "codemirror_mode": {
    "name": "ipython",
    "version": 3
   },
   "file_extension": ".py",
   "mimetype": "text/x-python",
   "name": "python",
   "nbconvert_exporter": "python",
   "pygments_lexer": "ipython3",
   "version": "3.12.6"
  }
 },
 "nbformat": 4,
 "nbformat_minor": 5
}
