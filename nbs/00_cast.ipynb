{
 "cells": [
  {
   "cell_type": "code",
   "execution_count": null,
   "id": "30295a1d",
   "metadata": {},
   "outputs": [],
   "source": [
    "#|default_exp cast"
   ]
  },
  {
   "cell_type": "code",
   "execution_count": null,
   "id": "4af968d5",
   "metadata": {},
   "outputs": [],
   "source": [
    "#|export\n",
    "from typing import Any\n",
    "\n",
    "from plum import dispatch, Function\n",
    "from numpy import ndarray\n",
    "\n",
    "from fastcore.imports import *\n",
    "from fastcore.foundation import *\n",
    "from fastcore.utils import *"
   ]
  },
  {
   "cell_type": "code",
   "execution_count": null,
   "id": "917adab5",
   "metadata": {},
   "outputs": [],
   "source": [
    "from __future__ import annotations\n",
    "from nbdev.showdoc import *\n",
    "from fastcore.test import *\n",
    "from fastcore.nb_imports import *"
   ]
  },
  {
   "cell_type": "markdown",
   "id": "2d7a4772",
   "metadata": {},
   "source": [
    "# Cast\n",
    "\n",
    "> Type casting utility functions"
   ]
  },
  {
   "cell_type": "markdown",
   "id": "0dfe3c2d",
   "metadata": {},
   "source": [
    "This module contains some of `fastcore.dispatch`'s utility functions for type casting.\n",
    "We copy them over here as with `fasttransform`'s release those modules may be removed from fastcore.\n",
    "\n",
    "The functions here have not been changed, except for `retain_type`, which has the same functionality but now accepts the type hints as Plum dispatch provides them instead of `fastcore.dispatch`'s convention."
   ]
  },
  {
   "cell_type": "markdown",
   "id": "21f73172",
   "metadata": {},
   "source": [
    "## Type casting\n",
    "\n",
    "Some objects may have a `set_meta` method, such as [`fastai.torch_core.Tensor`](https://docs.fast.ai/torch_core.html#tensor.set_meta). When casting these to another type we want to preserve metadata."
   ]
  },
  {
   "cell_type": "code",
   "execution_count": null,
   "id": "8fc704ac",
   "metadata": {},
   "outputs": [],
   "source": [
    "#|export\n",
    "def retain_meta(x, res, as_copy=False):\n",
    "    \"Call `res.set_meta(x)`, if it exists\"\n",
    "    if hasattr(res,'set_meta'): res.set_meta(x, as_copy=as_copy)\n",
    "    return res\n",
    "     "
   ]
  },
  {
   "cell_type": "code",
   "execution_count": null,
   "id": "5a973173",
   "metadata": {},
   "outputs": [],
   "source": [
    "#|export\n",
    "def default_set_meta(self, x, as_copy=False):\n",
    "    \"Copy over `_meta` from `x` to `res`, if it's missing\"\n",
    "    if hasattr(x, '_meta') and not hasattr(self, '_meta'):\n",
    "        meta = x._meta\n",
    "        if as_copy: meta = copy(meta)\n",
    "        self._meta = meta\n",
    "    return self\n",
    "     "
   ]
  },
  {
   "cell_type": "code",
   "execution_count": null,
   "id": "05108cf6",
   "metadata": {},
   "outputs": [],
   "source": [
    "#|export\n",
    "def cast(x, typ):\n",
    "    \"cast `x` to type `typ` (may also change `x` inplace)\"\n",
    "    res = typ._before_cast(x) if hasattr(typ, '_before_cast') else x\n",
    "    if risinstance('ndarray', res): res = res.view(typ)\n",
    "    elif hasattr(res, 'as_subclass'): res = res.as_subclass(typ)\n",
    "    else:\n",
    "        try: res.__class__ = typ\n",
    "        except: res = typ(res)\n",
    "    return retain_meta(x, res)"
   ]
  },
  {
   "cell_type": "markdown",
   "id": "6fb6d4c8",
   "metadata": {},
   "source": [
    "This works both for plain python classes...\n",
    "\n"
   ]
  },
  {
   "cell_type": "code",
   "execution_count": null,
   "id": "84a90d6f",
   "metadata": {},
   "outputs": [],
   "source": [
    "\n",
    "mk_class('_T1', 'a')   # mk_class is a fastai utility that constructs a class.\n",
    "class _T2(_T1): pass\n",
    "\n",
    "t = _T1(a=1)\n",
    "t2 = cast(t, _T2)        \n",
    "assert t2 is t            # t2 refers to the same object as t\n",
    "assert isinstance(t, _T2) # t also changed in-place\n",
    "assert isinstance(t2, _T2)\n",
    "\n",
    "test_eq_type(_T2(a=1), t2) \n"
   ]
  },
  {
   "cell_type": "markdown",
   "id": "420ada9e",
   "metadata": {},
   "source": [
    "...as well as for arrays and tensors.\n"
   ]
  },
  {
   "cell_type": "code",
   "execution_count": null,
   "id": "4e6c9519",
   "metadata": {},
   "outputs": [],
   "source": [
    "class _T1(ndarray): pass\n",
    "\n",
    "t = array([1])\n",
    "t2 = cast(t, _T1)\n",
    "test_eq(array([1]), t2)\n",
    "test_eq(_T1, type(t2))"
   ]
  },
  {
   "cell_type": "markdown",
   "id": "56ac3adb",
   "metadata": {},
   "source": [
    "## Retain type\n"
   ]
  },
  {
   "cell_type": "markdown",
   "id": "48ec6e48-b5b0-49bf-9241-3156d93bc6e0",
   "metadata": {},
   "source": [
    "Retain type is a function that's useful for postprocessing function outputs.\n",
    "They are used in the `Transform` class.\n",
    "\n",
    "The conversion priorities are as follows:\n",
    "\n",
    "1. the function's return type annotation `ret_type`\n",
    "2. if there's no return type annotation (i.e. `ret_type=Any`) then it will convert back to the input's (`old`) type, but only if if it was a subtype of the return value.\n",
    "3. if the function has return type annotation of None (`ret_type=None`) then no conversion will be done.\n"
   ]
  },
  {
   "cell_type": "code",
   "execution_count": null,
   "id": "1364fbd1",
   "metadata": {},
   "outputs": [],
   "source": [
    "#|export\n",
    "def retain_type(new, old, ret_type=Any,as_copy=False):\n",
    "    \"Cast `new` to `ret_type` if given, or `old`'s type if `new` is a superclass of `old`. No conversion is done if `ret_type=None`\"\n",
    "    if new is None: return new\n",
    "    if ret_type is NoneType: return new\n",
    "    if ret_type is Any:\n",
    "        if not isinstance(old, type(new)): return new\n",
    "        ret_type = old if isinstance(old,type) else type(old)\n",
    "    if ret_type is NoneType or isinstance(new,ret_type): return new\n",
    "    return retain_meta(old, cast(new, ret_type), as_copy=as_copy)   "
   ]
  },
  {
   "cell_type": "markdown",
   "id": "df2bb98d-cad8-4f2a-99c2-5adb87ab6dcf",
   "metadata": {},
   "source": [
    "### Return type annotation conversion"
   ]
  },
  {
   "cell_type": "markdown",
   "id": "a34eb440",
   "metadata": {},
   "source": [
    "We try and convert new to the return type if it's given."
   ]
  },
  {
   "cell_type": "code",
   "execution_count": null,
   "id": "f06a6648",
   "metadata": {},
   "outputs": [],
   "source": [
    "class FS(float):\n",
    "    def __repr__(self): return f'FS({float(self)})'\n",
    "    "
   ]
  },
  {
   "cell_type": "code",
   "execution_count": null,
   "id": "c095a7cb",
   "metadata": {},
   "outputs": [],
   "source": [
    "test_eq(retain_type(1., 2., FS), FS(1.))"
   ]
  },
  {
   "cell_type": "markdown",
   "id": "88ddd01d",
   "metadata": {},
   "source": [
    "Even if it won't work, we'll let the exception be raised:"
   ]
  },
  {
   "cell_type": "code",
   "execution_count": null,
   "id": "e980ab40",
   "metadata": {},
   "outputs": [
    {
     "name": "stdout",
     "output_type": "stream",
     "text": [
      "Expected error: could not convert string to float: 'a'\n"
     ]
    }
   ],
   "source": [
    "# Raise error if return type is not compatible with new\n",
    "try: retain_type(\"a\", 2., FS)\n",
    "except ValueError as e: print(f\"Expected error: {e}\")"
   ]
  },
  {
   "cell_type": "markdown",
   "id": "619a7a83",
   "metadata": {},
   "source": [
    "### Old type conversion\n",
    "\n",
    "If the return type is `Any` then new looks at old for conversion guidance."
   ]
  },
  {
   "cell_type": "code",
   "execution_count": null,
   "id": "08505aef",
   "metadata": {},
   "outputs": [],
   "source": [
    "test_eq(retain_type(1., FS(2.), Any), FS(1.))"
   ]
  },
  {
   "cell_type": "markdown",
   "id": "43f5de4d",
   "metadata": {},
   "source": [
    "But if new isn't subclass of old, keep new:"
   ]
  },
  {
   "cell_type": "code",
   "execution_count": null,
   "id": "26e935de",
   "metadata": {},
   "outputs": [],
   "source": [
    "test_eq(retain_type(FS(1.), 2.0, Any), FS(1.))\n",
    "test_eq(retain_type(\"a\", 2.0, Any), \"a\")"
   ]
  },
  {
   "cell_type": "markdown",
   "id": "c41e8230",
   "metadata": {},
   "source": [
    "No casting needed if new is already of type old.\n",
    "Then we return the original object."
   ]
  },
  {
   "cell_type": "code",
   "execution_count": null,
   "id": "e4a2be43",
   "metadata": {},
   "outputs": [],
   "source": [
    "x = FS(1.)\n",
    "test_is(retain_type(x, FS(2.), Any), x) "
   ]
  },
  {
   "cell_type": "markdown",
   "id": "bf3e5a23",
   "metadata": {},
   "source": [
    "### Edge cases with None"
   ]
  },
  {
   "cell_type": "markdown",
   "id": "b361ec05",
   "metadata": {},
   "source": [
    "We dont convert at all if None is return type annotation:"
   ]
  },
  {
   "cell_type": "code",
   "execution_count": null,
   "id": "0266e322",
   "metadata": {},
   "outputs": [],
   "source": [
    "test_eq(retain_type(1., FS(2.), NoneType), 1.)  "
   ]
  },
  {
   "cell_type": "markdown",
   "id": "f1415ae7",
   "metadata": {},
   "source": [
    "None stays None:"
   ]
  },
  {
   "cell_type": "code",
   "execution_count": null,
   "id": "dc1711f7",
   "metadata": {},
   "outputs": [],
   "source": [
    "test_eq(retain_type(None,FS(2.), Any), None)  "
   ]
  },
  {
   "cell_type": "markdown",
   "id": "1e6ba6f8",
   "metadata": {},
   "source": [
    "If old was None then we just return new."
   ]
  },
  {
   "cell_type": "code",
   "execution_count": null,
   "id": "d93d404c",
   "metadata": {},
   "outputs": [],
   "source": [
    "test_eq(retain_type(FS(1.), None, Any), FS(1.))"
   ]
  },
  {
   "cell_type": "markdown",
   "id": "51d56185-1097-4fbc-b71a-e05dc0fa5edf",
   "metadata": {},
   "source": [
    "### Metadata retention"
   ]
  },
  {
   "cell_type": "markdown",
   "id": "850849c3-9263-4dc1-aa26-8fb8f2de1147",
   "metadata": {},
   "source": [
    "If old has a _meta attribute, its content is passed when casting new to the type of old. In the below example, only the attribute a, but not other_attr is kept, because other_attr is not in _meta:"
   ]
  },
  {
   "cell_type": "code",
   "execution_count": null,
   "id": "e6727c05-de7b-4e2c-8396-987e1c367d64",
   "metadata": {},
   "outputs": [],
   "source": [
    "class _A():\n",
    "    set_meta = default_set_meta\n",
    "    def __init__(self, t): self.t=t\n",
    "\n",
    "class _B1(_A):\n",
    "    def __init__(self, t, a=1):\n",
    "        super().__init__(t)\n",
    "        self._meta = {'a':a}\n",
    "        self.other_attr = 'Hello' # will not be kept after casting.\n",
    "        \n",
    "x = _B1(1, a=2)\n",
    "b = _A(1)\n",
    "c = retain_type(b, old=x)\n",
    "test_eq(c._meta, {'a': 2})\n",
    "assert not getattr(c, 'other_attr', None)"
   ]
  },
  {
   "cell_type": "markdown",
   "id": "fe4ee917",
   "metadata": {},
   "source": [
    "## Retain types"
   ]
  },
  {
   "cell_type": "markdown",
   "id": "17849108",
   "metadata": {},
   "source": [
    "Cast each item of `new` to type of matching item in `old` if it’s a superclass."
   ]
  },
  {
   "cell_type": "code",
   "execution_count": null,
   "id": "f3cd995c",
   "metadata": {},
   "outputs": [],
   "source": [
    "#|export\n",
    "def retain_types(new, old=None, typs=None):\n",
    "    \"Cast each item of `new` to type of matching item in `old` if it's a superclass\"\n",
    "    if not is_listy(new): \n",
    "        typs = Any if typs is None else typs  # make fasttransform.utils.retain_type compatible\n",
    "        return retain_type(new, old,typs)\n",
    "    if typs is not None:\n",
    "        if isinstance(typs, dict):\n",
    "            t = first(typs.keys())\n",
    "            typs = typs[t]\n",
    "        else: t,typs = typs,None\n",
    "    else: t = type(old) if old is not None and isinstance(old,type(new)) else type(new)\n",
    "    return t(L(new, old, typs).map_zip(retain_types, cycled=True))\n",
    "     "
   ]
  },
  {
   "cell_type": "code",
   "execution_count": null,
   "id": "37c1d02c",
   "metadata": {},
   "outputs": [],
   "source": [
    "class T(tuple): pass\n",
    "\n",
    "t1,t2 = retain_types((1,(1,(1,1))), (2,T((2,T((3,4))))))\n",
    "test_eq_type(t1, 1)\n",
    "test_eq_type(t2, T((1,T((1,1)))))\n",
    "\n",
    "t1,t2 = retain_types((1,(1,(1,1))), typs = {tuple: [int, {T: [int, {T: [int,int]}]}]})\n",
    "test_eq_type(t1, 1)\n",
    "test_eq_type(t2, T((1,T((1,1)))))"
   ]
  },
  {
   "cell_type": "code",
   "execution_count": null,
   "id": "c6f1ec26",
   "metadata": {},
   "outputs": [],
   "source": [
    "#|export\n",
    "def explode_types(o):\n",
    "    \"Return the type of `o`, potentially in nested dictionaries for thing that are listy\"\n",
    "    if not is_listy(o): return type(o)\n",
    "    return {type(o): [explode_types(o_) for o_ in o]}"
   ]
  },
  {
   "cell_type": "code",
   "execution_count": null,
   "id": "70b585ea",
   "metadata": {},
   "outputs": [],
   "source": [
    "test_eq(explode_types((2,T((2,T((3,4)))))), {tuple: [int, {T: [int, {T: [int,int]}]}]})"
   ]
  },
  {
   "cell_type": "markdown",
   "id": "b712c700",
   "metadata": {},
   "source": [
    "## Export -"
   ]
  },
  {
   "cell_type": "code",
   "execution_count": null,
   "id": "404d0d86",
   "metadata": {},
   "outputs": [],
   "source": [
    "#|hide\n",
    "#|eval: false\n",
    "from nbdev import nbdev_export\n",
    "nbdev_export()"
   ]
  }
 ],
 "metadata": {
  "kernelspec": {
   "display_name": "python3",
   "language": "python",
   "name": "python3"
  }
 },
 "nbformat": 4,
 "nbformat_minor": 5
}
