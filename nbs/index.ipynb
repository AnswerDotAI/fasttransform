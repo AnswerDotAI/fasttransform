{
 "cells": [
  {
   "cell_type": "markdown",
   "metadata": {},
   "source": [
    "# Welcome to fasttransform\n",
    "\n",
    "> The main building block of data pipelines in fastai. And elsewhere if you like."
   ]
  },
  {
   "cell_type": "markdown",
   "metadata": {},
   "source": [
    "## Installation"
   ]
  },
  {
   "cell_type": "markdown",
   "metadata": {},
   "source": [
    "Install latest from the GitHub [repository](https://github.com/AnswerDotAI/fasttransform):\n",
    "\n",
    "```sh\n",
    "$ pip install git+https://github.com/AnswerDotAI/fasttransform.git\n",
    "```\n",
    "\n",
    "or from [pypi](https://pypi.org/project/fasttransform/):\n",
    "\n",
    "```sh\n",
    "$ pip install fasttransform\n",
    "```"
   ]
  },
  {
   "cell_type": "markdown",
   "metadata": {},
   "source": [
    "## Quick start"
   ]
  },
  {
   "cell_type": "markdown",
   "metadata": {},
   "source": [
    "### Transform\n",
    "\n",
    "Transform is a class that lets you create reusable data transformations. You initialize a Transform by passing in or decorating a raw function. The Transform then provides an enhanced version of that function via `Transform.encodes`, which can be used in your data pipeline.\n",
    "\n",
    "It provides various conveniences:\n",
    "\n",
    "- **Reversibility**. You can collect the raw function and its inverse into one transform object.\n",
    "- **Customized initialization** You can customize the exact behavior of a transform function on initialization.\n",
    "- **Type-based mulitiple dispatch**. Transforms can specialize their behavior based on the runtime types of their arguments.\n",
    "- **Type conversion/preservation**. Transforms help you maintain desired return types.\n",
    "\n",
    "The simplest way to create a Transform is by decorating a function:"
   ]
  },
  {
   "cell_type": "code",
   "execution_count": null,
   "metadata": {},
   "outputs": [],
   "source": [
    "from fasttransform import Transform, Pipeline"
   ]
  },
  {
   "cell_type": "code",
   "execution_count": null,
   "metadata": {},
   "outputs": [
    {
     "data": {
      "text/plain": [
       "3"
      ]
     },
     "execution_count": null,
     "metadata": {},
     "output_type": "execute_result"
    }
   ],
   "source": [
    "@Transform\n",
    "def add_one(x): \n",
    "    return x + 1\n",
    "\n",
    "# Usage\n",
    "add_one(2)"
   ]
  },
  {
   "cell_type": "markdown",
   "metadata": {},
   "source": [
    "### Reversibility\n",
    "\n",
    "To make a transform reversible, you provide the raw function and its inverse. This is useful in data pipelines where, for instance, you might want to normalize and then de-normalize numerical values, or encode to category indexes and then decode back to categories."
   ]
  },
  {
   "cell_type": "code",
   "execution_count": null,
   "metadata": {},
   "outputs": [
    {
     "data": {
      "text/plain": [
       "(4, 1, 2)"
      ]
     },
     "execution_count": null,
     "metadata": {},
     "output_type": "execute_result"
    }
   ],
   "source": [
    "def enc(x): return x*2\n",
    "def dec(x): return x//2\n",
    "\n",
    "t = Transform(enc,dec)\n",
    "\n",
    "t(2), t.decode(2), t.decode(t(2))"
   ]
  },
  {
   "cell_type": "markdown",
   "metadata": {},
   "source": [
    "### Customized initialization\n",
    "\n",
    "You can customize an individual Transform instance at initialization time, so that it can depend on aggregate properties of the data set.\n",
    "\n",
    "Here we define a z-score normalization Transform by defining `encodes` and `decodes` methods directly:\n"
   ]
  },
  {
   "cell_type": "code",
   "execution_count": null,
   "metadata": {},
   "outputs": [
    {
     "data": {
      "text/plain": [
       "3"
      ]
     },
     "execution_count": null,
     "metadata": {},
     "output_type": "execute_result"
    }
   ],
   "source": [
    "import statistics\n",
    "\n",
    "class NormalizeMean(Transform):\n",
    "    def setups(self, items): \n",
    "        self.mean = statistics.mean(items)\n",
    "        self.std  = statistics.stdev(items)\n",
    "    \n",
    "    def encodes(self, x): \n",
    "        return (x - self.mean) / self.std\n",
    "    \n",
    "    def decodes(self, x): \n",
    "        return x * self.std + self.mean\n",
    "\n",
    "normalize = NormalizeMean()\n",
    "normalize.setup([1, 2, 3, 4, 5])\n",
    "normalize.mean"
   ]
  },
  {
   "cell_type": "markdown",
   "metadata": {},
   "source": [
    "### Type-based multiple dispatch\n",
    "\n",
    "Instead of providing one raw functions, you can provide multiple raw functions which differ in their parameter types. Tranform will use type-based dispatch to automatically execute the correct function.\n",
    "\n",
    "This is handy when your inputs come in different types (eg., different image formats, different numerical types)."
   ]
  },
  {
   "cell_type": "code",
   "execution_count": null,
   "metadata": {},
   "outputs": [
    {
     "data": {
      "text/plain": [
       "(6, 'ba')"
      ]
     },
     "execution_count": null,
     "metadata": {},
     "output_type": "execute_result"
    }
   ],
   "source": [
    "def inc1(x:int): return x+1\n",
    "def inc2(x:str): return x+\"a\"\n",
    "\n",
    "t = Transform(enc=(inc1,inc2))\n",
    "\n",
    "t(5), t('b')"
   ]
  },
  {
   "cell_type": "markdown",
   "metadata": {},
   "source": [
    "If an input type does not match any of the type annotations then the original input is returned."
   ]
  },
  {
   "cell_type": "code",
   "execution_count": null,
   "metadata": {},
   "outputs": [
    {
     "data": {
      "text/plain": [
       "3.0"
      ]
     },
     "execution_count": null,
     "metadata": {},
     "output_type": "execute_result"
    }
   ],
   "source": [
    "add_one(2.0)"
   ]
  },
  {
   "cell_type": "code",
   "execution_count": null,
   "metadata": {},
   "outputs": [
    {
     "data": {
      "text/plain": [
       "0.0"
      ]
     },
     "execution_count": null,
     "metadata": {},
     "output_type": "execute_result"
    }
   ],
   "source": [
    "normalize(3.0)"
   ]
  },
  {
   "cell_type": "markdown",
   "metadata": {},
   "source": [
    "### Type conversion/preservation\n",
    "\n",
    "You initialize a Transform by passing in or decorating a raw function.\n",
    "\n",
    "A Transform `encodes` or `decodes` will note the return type of its raw function, which may be defined explicitly or implicitly, and enhance type-handling behavior in three ways:\n",
    "\n",
    "1. **Guaranteed return type**. It will always return the return type of the raw function, promoting values if necessary.\n",
    "\n",
    "2. **Type Preservation**. It will return the runtime type of its argument, whenever that is a subtype of the return type.\n",
    "\n",
    "3. **Opt-out conversion**. If you explicitly mark the raw function's return type as `None`, then it will not perform any type conversion or preservation."
   ]
  },
  {
   "cell_type": "markdown",
   "metadata": {},
   "source": [
    "Examples help make this clear:\n",
    "\n",
    "#### Guaranteed return type\n",
    "\n",
    "Say you define `FS`, a subclass of `float`. The usual Python type promotion behavior means that an `FS` times a `float` is still a `float`:"
   ]
  },
  {
   "cell_type": "code",
   "execution_count": null,
   "metadata": {},
   "outputs": [
    {
     "data": {
      "text/plain": [
       "float"
      ]
     },
     "execution_count": null,
     "metadata": {},
     "output_type": "execute_result"
    }
   ],
   "source": [
    "class FS(float):\n",
    "  def __repr__(self): return f'FS({float(self)})'\n",
    " \n",
    "f1 = float(1)\n",
    "FS2 = FS(2)\n",
    "\n",
    "val = f1 * FS2\n",
    "type(val) # => float"
   ]
  },
  {
   "cell_type": "markdown",
   "metadata": {},
   "source": [
    "With Transform, you can define a new multiplication operation which will be guaranteed to return a `FS`, because Transform reads the required raw function's annotated return type:"
   ]
  },
  {
   "cell_type": "code",
   "execution_count": null,
   "metadata": {},
   "outputs": [
    {
     "data": {
      "text/plain": [
       "FS(2.0)"
      ]
     },
     "execution_count": null,
     "metadata": {},
     "output_type": "execute_result"
    }
   ],
   "source": [
    "def double_FS(x)->FS: return FS(2)*x\n",
    "t = Transform(double_FS)\n",
    "val = t(1) \n",
    "assert isinstance(val,FS)\n",
    "val"
   ]
  },
  {
   "cell_type": "markdown",
   "metadata": {},
   "source": [
    "#### Type preservation\n",
    "\n",
    "Let us say that we define a transform _without_ any return type annotation, so that the raw function is defined only by the behavior of multiplying its argument by the float 2.0.\n",
    "\n",
    "Multiplying the subtype `FS` with the float value 2 would normally return a `float`. However, Transform's `encodes` will _preserve the runtime type of its argument_, so that it returns `FS`:"
   ]
  },
  {
   "cell_type": "code",
   "execution_count": null,
   "metadata": {},
   "outputs": [
    {
     "data": {
      "text/plain": [
       "FS(2.0)"
      ]
     },
     "execution_count": null,
     "metadata": {},
     "output_type": "execute_result"
    }
   ],
   "source": [
    "def double(x): return x*2.0  # no type annotation\n",
    "t = Transform(double)\n",
    "fs1 = FS(1)\n",
    "val = t(fs1)\n",
    "assert isinstance(val,FS)\n",
    "val # => FS(2), an FS value of 2"
   ]
  },
  {
   "cell_type": "markdown",
   "metadata": {},
   "source": [
    "#### Opt-out conversion\n",
    "\n",
    "Sometimes you don't want Transform to do any type-based logic. You can opt-out of this system by declaring that your raw function's return type is `None`:"
   ]
  },
  {
   "cell_type": "code",
   "execution_count": null,
   "metadata": {},
   "outputs": [
    {
     "data": {
      "text/plain": [
       "2.0"
      ]
     },
     "execution_count": null,
     "metadata": {},
     "output_type": "execute_result"
    }
   ],
   "source": [
    "def double_none(x) -> None: return x*2.0  # \"None\" returnt type means \"no conversion\"\n",
    "t = Transform(double_none)\n",
    "fs1 = FS(1)\n",
    "val = t(fs1)\n",
    "assert isinstance(val,float)\n",
    "val # => 2.0, a float of 2, because of fallback to standard Python type logic"
   ]
  },
  {
   "cell_type": "markdown",
   "metadata": {},
   "source": [
    "### Pipelines"
   ]
  },
  {
   "cell_type": "markdown",
   "metadata": {},
   "source": [
    "Transforms can be combined into larger **Pipelines**:"
   ]
  },
  {
   "cell_type": "code",
   "execution_count": null,
   "metadata": {},
   "outputs": [
    {
     "data": {
      "text/plain": [
       "4.427188724235731"
      ]
     },
     "execution_count": null,
     "metadata": {},
     "output_type": "execute_result"
    }
   ],
   "source": [
    "def double(x): return x*2.0 \n",
    "def halve(x): return x/2.0\n",
    "dt = Transform(double,halve)\n",
    "\n",
    "class NormalizeMean(Transform):\n",
    "    def setups(self, items): \n",
    "        self.mean = statistics.mean(items)\n",
    "        self.std  = statistics.stdev(items)\n",
    "    \n",
    "    def encodes(self, x):\n",
    "        return (x - self.mean) / self.std\n",
    "    \n",
    "    def decodes(self, x):\n",
    "        return x * self.std + self.mean\n",
    "\n",
    "\n",
    "p = Pipeline((dt, normalize))\n",
    "\n",
    "v = p(5)\n",
    "v"
   ]
  },
  {
   "cell_type": "code",
   "execution_count": null,
   "metadata": {},
   "outputs": [
    {
     "data": {
      "text/plain": [
       "5.0"
      ]
     },
     "execution_count": null,
     "metadata": {},
     "output_type": "execute_result"
    }
   ],
   "source": [
    "p.decode(v)"
   ]
  },
  {
   "cell_type": "markdown",
   "metadata": {},
   "source": [
    "### Documentation\n",
    "\n",
    "This was just a quickstart. Learn more by reading the [documentation](https://answerdotai.github.io/fasttransform/)."
   ]
  }
 ],
 "metadata": {
  "kernelspec": {
   "display_name": "python3",
   "language": "python",
   "name": "python3"
  }
 },
 "nbformat": 4,
 "nbformat_minor": 4
}
