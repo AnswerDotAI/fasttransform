{
 "cells": [
  {
   "cell_type": "markdown",
   "metadata": {},
   "source": [
    "# fasttransform\n",
    "\n",
    "> Transform is the main building block of data pipelines in fastai. And elsewhere if you want."
   ]
  },
  {
   "cell_type": "markdown",
   "metadata": {},
   "source": [
    "## Development Notes"
   ]
  },
  {
   "cell_type": "markdown",
   "metadata": {},
   "source": [
    "**⚠️  Work in Progress notes:**\n",
    "\n",
    "**Context:**\n",
    "\n",
    "My previous implementation of fastcore.Transform was done by reimplementing\n",
    "`fastcore.typedispatch.TypeDispatch` with an implementation based on Plum.\n",
    "\n",
    "It worked, with some minor breaking changes in fastai. But it wasn't simple enough.\n",
    "\n",
    "In this notebook I re-build Transform from scratch directly using Plum.\n",
    "The benefit will be that `fastcore.dispatch` can be removed.\n",
    "Users will know to use Plum directly for typedispatch and see Transform as a tool that builds on top of it.\n",
    "But at the cost of some more breaking changes.\n",
    "\n",
    "\n",
    "**Plan in this notebook:**\n",
    "\n",
    "I start with focusing on the `encode(s)` method.\n",
    "Right now I have two implementations. \n",
    "\n",
    "One simpler implementation, which ran into some complications with global state if classes get redefined.\n",
    "\n",
    "\n",
    "One more complicated implementation, using metaclasses. Which addresses those issues.\n",
    "\n",
    "I think now's a good time to get some input again. Do you think I'm on the right track?\n",
    "If so I'll continue by adding more of the features mentioned in Transform, i.e.:\n",
    "\n",
    "- decodes and setups support\n",
    "- implement return type casting (see note at the bottom of this notebook about that)\n",
    "- transforms on tuples\n",
    "- the classes in fastcore.transform that inherit from Transform\n",
    "- Pipeline\n",
    "\n",
    "**Open questions:**\n",
    "\n",
    "- keep the initialization with enc=(f1,f2,f3) ...?) etc.\n"
   ]
  },
  {
   "cell_type": "markdown",
   "metadata": {},
   "source": [
    "## Pre-Release checklist\n",
    "\n",
    "- [x] Init repo\n",
    "- [x] Copy existing Transform implementation\n",
    "- [x] Add Quantum tests\n",
    "- [ ] Implement new Transform\n",
    "- [ ] Implement new Pipeline\n",
    "- [ ] Decide to remove pandas dev dependency (desired)\n",
    "- [ ] See if can remove fastcore dependency (not desired per se)\n",
    "- [ ] Add docs re plum and autoreload (see plum docs)\n",
    "- [ ] pin plum to some greater than version"
   ]
  },
  {
   "cell_type": "markdown",
   "metadata": {},
   "source": [
    "## Developer Guide"
   ]
  },
  {
   "cell_type": "markdown",
   "metadata": {},
   "source": [
    "If you are new to using `nbdev` here are some useful pointers to get you started."
   ]
  },
  {
   "cell_type": "markdown",
   "metadata": {},
   "source": [
    "### Install fasttransform in Development mode"
   ]
  },
  {
   "cell_type": "markdown",
   "metadata": {},
   "source": [
    "```sh\n",
    "# make sure fasttransform package is installed in development mode\n",
    "$ pip install -e .\n",
    "\n",
    "# make changes under nbs/ directory\n",
    "# ...\n",
    "\n",
    "# compile to have changes apply to fasttransform\n",
    "$ nbdev_prepare\n",
    "```"
   ]
  },
  {
   "cell_type": "markdown",
   "metadata": {},
   "source": [
    "## Usage"
   ]
  },
  {
   "cell_type": "markdown",
   "metadata": {},
   "source": [
    "### Installation"
   ]
  },
  {
   "cell_type": "markdown",
   "metadata": {},
   "source": [
    "Install latest from the GitHub [repository][repo]:\n",
    "\n",
    "```sh\n",
    "$ pip install git+https://github.com/AnswerDotAI/fasttransform.git\n",
    "```\n",
    "\n",
    "or from [conda][conda]\n",
    "\n",
    "```sh\n",
    "$ conda install -c AnswerDotAI fasttransform\n",
    "```\n",
    "\n",
    "or from [pypi][pypi]\n",
    "\n",
    "\n",
    "```sh\n",
    "$ pip install fasttransform\n",
    "```\n",
    "\n",
    "\n",
    "[repo]: https://github.com/AnswerDotAI/fasttransform\n",
    "[docs]: https://AnswerDotAI.github.io/fasttransform/\n",
    "[pypi]: https://pypi.org/project/fasttransform/\n",
    "[conda]: https://anaconda.org/AnswerDotAI/fasttransform"
   ]
  },
  {
   "cell_type": "markdown",
   "metadata": {},
   "source": [
    "### Documentation"
   ]
  },
  {
   "cell_type": "markdown",
   "metadata": {},
   "source": [
    "Documentation can be found hosted on this GitHub [repository][repo]'s [pages][docs]. Additionally you can find package manager specific guidelines on [conda][conda] and [pypi][pypi] respectively.\n",
    "\n",
    "[repo]: https://github.com/AnswerDotAI/fasttransform\n",
    "[docs]: https://AnswerDotAI.github.io/fasttransform/\n",
    "[pypi]: https://pypi.org/project/fasttransform/\n",
    "[conda]: https://anaconda.org/AnswerDotAI/fasttransform"
   ]
  },
  {
   "cell_type": "markdown",
   "metadata": {},
   "source": [
    "## How to use"
   ]
  },
  {
   "cell_type": "markdown",
   "metadata": {},
   "source": [
    "Fill me in please! Don't forget code examples:"
   ]
  },
  {
   "cell_type": "code",
   "execution_count": null,
   "metadata": {},
   "outputs": [
    {
     "data": {
      "text/plain": [
       "2"
      ]
     },
     "execution_count": null,
     "metadata": {},
     "output_type": "execute_result"
    }
   ],
   "source": [
    "1+1"
   ]
  },
  {
   "cell_type": "code",
   "execution_count": null,
   "metadata": {},
   "outputs": [],
   "source": []
  }
 ],
 "metadata": {
  "kernelspec": {
   "display_name": "python3",
   "language": "python",
   "name": "python3"
  }
 },
 "nbformat": 4,
 "nbformat_minor": 4
}
