{
 "cells": [
  {
   "cell_type": "markdown",
   "metadata": {},
   "source": [
    "# Welcome to fasttransform\n",
    "\n",
    "> The main building block of data pipelines in fastai. And elsewhere if you like."
   ]
  },
  {
   "cell_type": "markdown",
   "metadata": {},
   "source": [
    "## Installation"
   ]
  },
  {
   "cell_type": "markdown",
   "metadata": {},
   "source": [
    "Install latest from the GitHub [repository](https://github.com/AnswerDotAI/fasttransform):\n",
    "\n",
    "```sh\n",
    "$ pip install git+https://github.com/AnswerDotAI/fasttransform.git\n",
    "```\n",
    "\n",
    "or from [pypi](https://pypi.org/project/fasttransform/):\n",
    "\n",
    "```sh\n",
    "$ pip install fasttransform\n",
    "```"
   ]
  },
  {
   "cell_type": "markdown",
   "metadata": {},
   "source": [
    "## Quick start"
   ]
  },
  {
   "cell_type": "markdown",
   "metadata": {},
   "source": [
    "### Transform\n",
    "\n",
    "Transform is a class that lets you create reusable data transformations. It behaves like a function, you can call it to `encode` your data. In addition it has an optional `decode` method that will reverse the function. And an optional `setup` method that can initialize some inner state.\n",
    "\n",
    "The simplest way to create a Transform is by decorating a function:"
   ]
  },
  {
   "cell_type": "code",
   "execution_count": null,
   "metadata": {},
   "outputs": [],
   "source": [
    "from fasttransform import Transform, Pipeline"
   ]
  },
  {
   "cell_type": "code",
   "execution_count": null,
   "metadata": {},
   "outputs": [
    {
     "data": {
      "text/plain": [
       "3"
      ]
     },
     "execution_count": null,
     "metadata": {},
     "output_type": "execute_result"
    }
   ],
   "source": [
    "@Transform\n",
    "def add_one(x: int): \n",
    "    return x + 1\n",
    "\n",
    "# Usage\n",
    "add_one(2)"
   ]
  },
  {
   "cell_type": "markdown",
   "metadata": {},
   "source": [
    "Transforms are **flexible**. You can specify multiple transforms with different type annotations and it will automatically pick up the correct one."
   ]
  },
  {
   "cell_type": "code",
   "execution_count": null,
   "metadata": {},
   "outputs": [
    {
     "data": {
      "text/plain": [
       "(6, 'ba')"
      ]
     },
     "execution_count": null,
     "metadata": {},
     "output_type": "execute_result"
    }
   ],
   "source": [
    "def inc1(x:int): return x+1\n",
    "def inc2(x:str): return x+\"a\"\n",
    "\n",
    "t = Transform(enc=(inc1,inc2))\n",
    "\n",
    "t(5), t('b')"
   ]
  },
  {
   "cell_type": "markdown",
   "metadata": {},
   "source": [
    "If an input type does not match any of the type annotations then the original input is returned."
   ]
  },
  {
   "cell_type": "code",
   "execution_count": null,
   "metadata": {},
   "outputs": [
    {
     "data": {
      "text/plain": [
       "2.0"
      ]
     },
     "execution_count": null,
     "metadata": {},
     "output_type": "execute_result"
    }
   ],
   "source": [
    "add_one(2.0)"
   ]
  },
  {
   "cell_type": "markdown",
   "metadata": {},
   "source": [
    "Transforms are **reversible**, if you provide a `decode` function."
   ]
  },
  {
   "cell_type": "code",
   "execution_count": null,
   "metadata": {},
   "outputs": [
    {
     "data": {
      "text/plain": [
       "(4, 1, 2)"
      ]
     },
     "execution_count": null,
     "metadata": {},
     "output_type": "execute_result"
    }
   ],
   "source": [
    "def enc(x): return x*2\n",
    "def dec(x): return x//2\n",
    "\n",
    "t = Transform(enc,dec)\n",
    "\n",
    "t(2), t.decode(2), t.decode(t(2))"
   ]
  },
  {
   "cell_type": "markdown",
   "metadata": {},
   "source": [
    "Transforms can be **stateful**, you can initialize them with the `setup` method. This may be useful when you want to set scaling parameters based on your training split in your machine learning pipeline."
   ]
  },
  {
   "cell_type": "code",
   "execution_count": null,
   "metadata": {},
   "outputs": [
    {
     "data": {
      "text/plain": [
       "3.0"
      ]
     },
     "execution_count": null,
     "metadata": {},
     "output_type": "execute_result"
    }
   ],
   "source": [
    "class NormalizeMean(Transform):\n",
    "    def setups(self, items): \n",
    "        self.mean = sum(items) / len(items)\n",
    "    \n",
    "    def encodes(self, x): \n",
    "        return x - self.mean\n",
    "    \n",
    "    def decodes(self, x): \n",
    "        return x + self.mean\n",
    "\n",
    "normalize = NormalizeMean()\n",
    "normalize.setup([1, 2, 3, 4, 5])\n",
    "normalize.mean"
   ]
  },
  {
   "cell_type": "code",
   "execution_count": null,
   "metadata": {},
   "outputs": [
    {
     "data": {
      "text/plain": [
       "0.0"
      ]
     },
     "execution_count": null,
     "metadata": {},
     "output_type": "execute_result"
    }
   ],
   "source": [
    "normalize(3.0)"
   ]
  },
  {
   "cell_type": "markdown",
   "metadata": {},
   "source": [
    "Transforms are **extendedible**, this may be useful when you want to create one Transform that can handle different data types."
   ]
  },
  {
   "cell_type": "code",
   "execution_count": null,
   "metadata": {},
   "outputs": [
    {
     "data": {
      "text/plain": [
       "10.0"
      ]
     },
     "execution_count": null,
     "metadata": {},
     "output_type": "execute_result"
    }
   ],
   "source": [
    "@NormalizeMean\n",
    "def encodes(self, x:float): return x + self.mean + 5\n",
    "\n",
    "@NormalizeMean\n",
    "def decodes(self, x:float): return x + self.mean + 5\n",
    "\n",
    "normalize(2.0)"
   ]
  },
  {
   "cell_type": "markdown",
   "metadata": {},
   "source": [
    "Transforms try to be **type preserving** in the following order:\n",
    "\n",
    "1. your function's return type annotation\n",
    "2. your function's actual input type, if it was a subtype of the return value\n",
    "3. if None is the return type annotation then no conversion will be done"
   ]
  },
  {
   "cell_type": "markdown",
   "metadata": {},
   "source": [
    "Let's illustrate this with an example of a custom `float` subtype:"
   ]
  },
  {
   "cell_type": "code",
   "execution_count": null,
   "metadata": {},
   "outputs": [],
   "source": [
    "class FS(float):\n",
    "    def __repr__(self): return f'FS({float(self)})'"
   ]
  },
  {
   "cell_type": "markdown",
   "metadata": {},
   "source": [
    "By default multiplying such a subtype with a regular `float` returns a `float`."
   ]
  },
  {
   "cell_type": "code",
   "execution_count": null,
   "metadata": {},
   "outputs": [
    {
     "data": {
      "text/plain": [
       "25.0"
      ]
     },
     "execution_count": null,
     "metadata": {},
     "output_type": "execute_result"
    }
   ],
   "source": [
    "FS(5.0) * 5.0"
   ]
  },
  {
   "cell_type": "markdown",
   "metadata": {},
   "source": [
    "However, in Transform you can change this behavior with type annotations."
   ]
  },
  {
   "cell_type": "markdown",
   "metadata": {},
   "source": [
    "Illustration of case 1:"
   ]
  },
  {
   "cell_type": "code",
   "execution_count": null,
   "metadata": {},
   "outputs": [
    {
     "data": {
      "text/plain": [
       "FS(2.0)"
      ]
     },
     "execution_count": null,
     "metadata": {},
     "output_type": "execute_result"
    }
   ],
   "source": [
    "def enc(x)->FS: return x*2\n",
    "t = Transform(enc)\n",
    "t(1)"
   ]
  },
  {
   "cell_type": "markdown",
   "metadata": {},
   "source": [
    "Illustration of case 2:"
   ]
  },
  {
   "cell_type": "code",
   "execution_count": null,
   "metadata": {},
   "outputs": [
    {
     "data": {
      "text/plain": [
       "FS(2.0)"
      ]
     },
     "execution_count": null,
     "metadata": {},
     "output_type": "execute_result"
    }
   ],
   "source": [
    "def enc(x): return x*2\n",
    "t = Transform(enc)\n",
    "t(FS(1))"
   ]
  },
  {
   "cell_type": "markdown",
   "metadata": {},
   "source": [
    "Note that in the case below, where the input is a `float` and the return type is `FS` there's not conversion. The reason is: we can't make sure some special information about `FS` is lost when converting to its parent class `float`."
   ]
  },
  {
   "cell_type": "code",
   "execution_count": null,
   "metadata": {},
   "outputs": [
    {
     "data": {
      "text/plain": [
       "FS(2.0)"
      ]
     },
     "execution_count": null,
     "metadata": {},
     "output_type": "execute_result"
    }
   ],
   "source": [
    "def enc(x): return FS(x*2)\n",
    "t = Transform(enc)\n",
    "t(1.0)"
   ]
  },
  {
   "cell_type": "markdown",
   "metadata": {},
   "source": [
    "Illustration of case 3:"
   ]
  },
  {
   "cell_type": "code",
   "execution_count": null,
   "metadata": {},
   "outputs": [
    {
     "data": {
      "text/plain": [
       "2.0"
      ]
     },
     "execution_count": null,
     "metadata": {},
     "output_type": "execute_result"
    }
   ],
   "source": [
    "def enc(x)->None: return x*2\n",
    "t = Transform(enc)\n",
    "t(FS(1))"
   ]
  },
  {
   "cell_type": "markdown",
   "metadata": {},
   "source": [
    "In the last case we see a `float` because a mutiplication of `FS` with a `float` returns a `float` and no additional type conversion is done."
   ]
  },
  {
   "cell_type": "markdown",
   "metadata": {},
   "source": [
    "### Pipelines"
   ]
  },
  {
   "cell_type": "markdown",
   "metadata": {},
   "source": [
    "Transforms can be combined into larger **Pipelines**:"
   ]
  },
  {
   "cell_type": "code",
   "execution_count": null,
   "metadata": {},
   "outputs": [
    {
     "data": {
      "text/plain": [
       "7.0"
      ]
     },
     "execution_count": null,
     "metadata": {},
     "output_type": "execute_result"
    }
   ],
   "source": [
    "p = Pipeline((t, normalize))\n",
    "\n",
    "p(5)  # 5 * 2 - 3"
   ]
  },
  {
   "cell_type": "code",
   "execution_count": null,
   "metadata": {},
   "outputs": [
    {
     "data": {
      "text/plain": [
       "10.0"
      ]
     },
     "execution_count": null,
     "metadata": {},
     "output_type": "execute_result"
    }
   ],
   "source": [
    "p.decode(7) # (7 + 3) / 2"
   ]
  },
  {
   "cell_type": "markdown",
   "metadata": {},
   "source": [
    "If you're wondering the types are changing from `int` to `float` in this case: \n",
    "\n",
    "`self.mean` in the `NormalizeMean` transform is a `float`. So the automatic type conversion does not trigger here, as `float` is not a subtype of `int`. And that's probably a good thing, because otherwise we might lose some information here whenever `self.mean` has some decimal value."
   ]
  },
  {
   "cell_type": "markdown",
   "metadata": {},
   "source": [
    "### Documentation\n",
    "\n",
    "This was just a quickstart. Learn more by reading the [documentation](https://github.io/AnswerDotAI/fasttransform)."
   ]
  }
 ],
 "metadata": {
  "kernelspec": {
   "display_name": "python3",
   "language": "python",
   "name": "python3"
  }
 },
 "nbformat": 4,
 "nbformat_minor": 4
}
