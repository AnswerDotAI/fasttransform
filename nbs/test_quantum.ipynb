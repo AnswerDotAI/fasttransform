{
 "cells": [
  {
   "cell_type": "markdown",
   "id": "91e0c45c",
   "metadata": {},
   "source": [
    "### Carlo.ai's Fastcore Quantom Blogpost"
   ]
  },
  {
   "cell_type": "markdown",
   "id": "838f468a",
   "metadata": {},
   "source": [
    "Jeremy shared this blogpost [fastcore-quantum](https://carlo.ai/posts/fastcore-quantum) and we should check they keep working.\n",
    "\n",
    "Below I've extracted the code from the blog and added assertions for automated checking. This will be useful when creating the new Transform implementation."
   ]
  },
  {
   "cell_type": "code",
   "execution_count": null,
   "id": "12697996",
   "metadata": {},
   "outputs": [],
   "source": [
    "import numpy as np\n",
    "from numpy.testing import assert_almost_equal\n",
    "\n",
    "from fasttransform.core import Transform, Pipeline\n",
    "\n",
    "class S(Transform):\n",
    "    def encodes(self, x): return x ** 2\n",
    "    def decodes(self, x): return x ** 0.5\n",
    "            \n",
    "assert S()(10) == 100\n",
    "assert S().decode(100) == 10\n",
    "assert S().decode(S()(10)) == 10"
   ]
  },
  {
   "cell_type": "code",
   "execution_count": null,
   "id": "352f8206",
   "metadata": {},
   "outputs": [],
   "source": [
    "square = Transform(lambda x: x ** 2)\n",
    "assert square(10) == 100\n",
    "assert square.decode(100) == 100"
   ]
  },
  {
   "cell_type": "code",
   "execution_count": null,
   "id": "9ec477e1",
   "metadata": {},
   "outputs": [
    {
     "data": {
      "text/plain": [
       "fasttransform.core.Transform"
      ]
     },
     "execution_count": null,
     "metadata": {},
     "output_type": "execute_result"
    }
   ],
   "source": [
    "@Transform\n",
    "def square(x): return x ** 2\n",
    "square(10) # 100\n",
    "type(square) # <class 'fastcore.transform.Transform'>"
   ]
  },
  {
   "cell_type": "code",
   "execution_count": null,
   "id": "96e98014",
   "metadata": {},
   "outputs": [
    {
     "data": {
      "text/plain": [
       "MultiS:\n",
       "encodes: (int,object) -> encodes\n",
       "(float,object) -> encodes\n",
       "(complex,object) -> encodes\n",
       "(tuple,object) -> encodes\n",
       "(list,object) -> encodes\n",
       "decodes: (int,object) -> decodes\n",
       "(float,object) -> decodes\n",
       "(complex,object) -> decodes\n",
       "(tuple,object) -> decodes\n",
       "(list,object) -> decodes"
      ]
     },
     "execution_count": null,
     "metadata": {},
     "output_type": "execute_result"
    }
   ],
   "source": [
    "class MultiS(Transform):\n",
    "    def encodes(self, x: int | float | complex | tuple): return x**2\n",
    "    def encodes(self, x: list): return [x**2 for x in x]\n",
    "    def decodes(self, x: int | float | complex | tuple): return x**0.5\n",
    "    def decodes(self, x: list): return [x**0.5 for x in x]\n",
    "\n",
    "ms = MultiS()\n",
    "ms"
   ]
  },
  {
   "cell_type": "code",
   "execution_count": null,
   "id": "5c756161",
   "metadata": {},
   "outputs": [],
   "source": [
    "# Lists\n",
    "# By default, Transform processes lists as a whole\n",
    "# 2nd encodes method is called\n",
    "assert ms([1, 2, 3]) == [1, 4, 9]"
   ]
  },
  {
   "cell_type": "code",
   "execution_count": null,
   "id": "7fdac3bb",
   "metadata": {},
   "outputs": [],
   "source": [
    "# 2nd decodes method is called\n",
    "assert ms.decode([1, 4, 9]) == [1.0, 2.0, 3.0]                     "
   ]
  },
  {
   "cell_type": "code",
   "execution_count": null,
   "id": "22042fef",
   "metadata": {},
   "outputs": [],
   "source": [
    "# Tuples\n",
    "# By default, Transform processes tuples elementwise\n",
    "# 1st decodes method is called\n",
    "assert ms((1, 2, 3)) == (1, 4, 9)"
   ]
  },
  {
   "cell_type": "code",
   "execution_count": null,
   "id": "b3a2b4cf",
   "metadata": {},
   "outputs": [],
   "source": [
    "# 1st decodes method is called\n",
    "assert ms.decode((1, 4, 9)) == (1.0, 2.0, 3.0)"
   ]
  },
  {
   "cell_type": "code",
   "execution_count": null,
   "id": "d9785fd2",
   "metadata": {},
   "outputs": [],
   "source": [
    "# Complex numbers\n",
    "# 1st encodes method is called on complex number\n",
    "assert ms(10.0j) == (-100+0j)"
   ]
  },
  {
   "cell_type": "code",
   "execution_count": null,
   "id": "a538e706",
   "metadata": {},
   "outputs": [],
   "source": [
    "# 1st decodes method is called on complex number\n",
    "assert ms.decode(ms(10.0j)) == (6.123233995736766e-16+10j)"
   ]
  },
  {
   "cell_type": "code",
   "execution_count": null,
   "id": "99cc2c49",
   "metadata": {},
   "outputs": [],
   "source": [
    "class S(Transform):\n",
    "    \"Square a number. Reverse is square root.\"\n",
    "    def encodes(self, x): return x ** 2\n",
    "    def decodes(self, x): return x ** 0.5\n",
    "    \n",
    "class A(Transform):\n",
    "    \"Add 1. Reverse is subtract 1.\"\n",
    "    def encodes(self, x): return x + 1\n",
    "    def decodes(self, x): return x - 1\n",
    "\n",
    "pipe = Pipeline([S(), A()])\n",
    "assert pipe(10) == 101 # 10**2 + 1 = 101\n",
    "assert pipe.decode(10) == 3.0 # (10 - 1)**0.5 = 3.0\n",
    "assert pipe.decode(pipe(10)) == 10 # (10**2 + 1 - 1)**0.5 = 10"
   ]
  },
  {
   "cell_type": "code",
   "execution_count": null,
   "id": "5f3a9c51",
   "metadata": {},
   "outputs": [],
   "source": [
    "class _Q(Transform):\n",
    "    \"Base transform for quantum gates\"\n",
    "    def encodes(self, x): return x @ self.gate\n",
    "    def decodes(self, x): return x @ self.gate.conj().T\n",
    "                     \n",
    "class I(_Q):\n",
    "    \"Identity gate. Does nothing.\"\n",
    "    gate = np.array([[1, 0], \n",
    "                     [0, 1]])\n",
    "    \n",
    "class X(_Q):\n",
    "    \"X (NOT) gate. Flips from |0> to |1> and vice versa.\"\n",
    "    gate = np.array([[0, 1], \n",
    "                     [1, 0]])\n",
    "    \n",
    "class H(_Q):\n",
    "    \"Hadamard (Superposition) gate. Turns a qubit into a superposition.\"\n",
    "    gate = np.array([[1, 1], \n",
    "                     [1, -1]]) / np.sqrt(2)"
   ]
  },
  {
   "cell_type": "code",
   "execution_count": null,
   "id": "4288bbef",
   "metadata": {},
   "outputs": [],
   "source": [
    "zero_state = [1+0j, 0+0j] # Basis state |0>\n",
    "superposition_state = np.array([0.5+0.5j, 0.5-0.5j])  # Complex superposition"
   ]
  },
  {
   "cell_type": "code",
   "execution_count": null,
   "id": "16b1582c",
   "metadata": {},
   "outputs": [],
   "source": [
    "# Identity operation\n",
    "i = I() \n",
    "assert_almost_equal(i(zero_state), np.array([1.+0.j, 0.+0.j])) # (|0>)\n",
    "assert_almost_equal(i.decode(zero_state), np.array([1.+0.j, 0.+0.j]))  # (|0>)                     "
   ]
  },
  {
   "cell_type": "code",
   "execution_count": null,
   "id": "0f5c7726",
   "metadata": {},
   "outputs": [],
   "source": [
    "# X (NOT) operation \n",
    "x = X()\n",
    "assert_almost_equal(x(zero_state), np.array([0+0j, 1+0j]))  # (|1>)\n",
    "assert_almost_equal(x.decode(x(zero_state)), np.array([1.+0.j, 0.+0.j]))  # (|0>)\n",
    "assert_almost_equal(x(superposition_state), np.array([0.5-0.5j, 0.5+0.5j]))  # (flips sign of complex part)"
   ]
  },
  {
   "cell_type": "code",
   "execution_count": null,
   "id": "d20f3b21",
   "metadata": {},
   "outputs": [],
   "source": [
    "# Hadamard gate tests\n",
    "h = H()\n",
    "assert_almost_equal(h(zero_state), np.array([0.707+0.j, 0.707+0.j]), decimal=3)  # (superposition)\n",
    "assert_almost_equal(h(superposition_state), np.array([0.707+0.j, 0.+0.707j]), decimal=3)  # (phase state)\n",
    "assert_almost_equal(h.decode(h(superposition_state)), np.array([0.5+0.5j, 0.5-0.5j]))  # (complex superposition)"
   ]
  },
  {
   "cell_type": "code",
   "execution_count": null,
   "id": "b46975e5",
   "metadata": {},
   "outputs": [],
   "source": [
    "class M(Transform):\n",
    "    \"Turn a quantum statevector into a probability distribution\"\n",
    "    def encodes(self, x): return np.abs(x)**2\n",
    "    def decodes(self, x): return NotImplementedError(\"No inverse exists for absolute value.\")\n",
    "\n",
    "class Samp(Transform):\n",
    "    \"Sample from a probability distribution\"\n",
    "    def encodes(self, x): return format(np.random.choice(len(x), p=x), f'0{int(np.log2(len(x)))}b')\n",
    "    def decodes(self, x): return NotImplementedError(\"Sampling is not reversible.\")\n",
    "\n",
    "m = M()\n",
    "samp = Samp()"
   ]
  },
  {
   "cell_type": "code",
   "execution_count": null,
   "id": "2f27b1f1",
   "metadata": {},
   "outputs": [],
   "source": [
    "# Sampling from zero state (|0>)\n",
    "zero_state = [1+0j, 0+0j]\n",
    "mzs = m(zero_state) # Transforms [1+0j, 0+0j] -> [1, 0]\n",
    "\n",
    "assert_almost_equal(mzs, np.array([1+0j,0+0j]))                     \n",
    "assert samp(mzs) == '0'"
   ]
  },
  {
   "cell_type": "code",
   "execution_count": null,
   "id": "27ad5aed",
   "metadata": {},
   "outputs": [
    {
     "data": {
      "text/plain": [
       "array([0.499849, 0.499849])"
      ]
     },
     "execution_count": null,
     "metadata": {},
     "output_type": "execute_result"
    }
   ],
   "source": [
    "# Sampling from equal superposition\n",
    "equal_superposition = [0.707, 0.707]\n",
    "mes = m(equal_superposition) # Transforms [0.707, 0.707] -> [0.5, 0.5] (A coin flip. i.e. Bernoulli distribution))\n",
    "mes"
   ]
  },
  {
   "cell_type": "code",
   "execution_count": null,
   "id": "0744e818",
   "metadata": {},
   "outputs": [],
   "source": [
    "mes = mes / mes.sum()  # not in original blog but needed as otherwises numers dont add to 1 because of rounding\n",
    "assert_almost_equal(mes, np.array([0.5,0.5]))\n",
    "assert samp(mes) in '01' # 0 or 1 with equal probability"
   ]
  },
  {
   "cell_type": "markdown",
   "id": "6db6fa3a",
   "metadata": {},
   "source": [
    "**⁉️ Question: Check if I'm missing something that I need this normalization**"
   ]
  },
  {
   "cell_type": "code",
   "execution_count": null,
   "id": "8ccb16c9",
   "metadata": {},
   "outputs": [],
   "source": [
    "# Sampling from complex superposition\n",
    "complex_superposition = [0.5+0.5j, 0.5-0.5j]\n",
    "mcs = m(complex_superposition) # Transforms [0.5+0.5j, 0.5-0.5j] -> [0.5, 0.5] (A coin flip. i.e. Bernoulli distribution)\n",
    "assert_almost_equal(mcs, np.array([0.5,0.5]))"
   ]
  },
  {
   "cell_type": "code",
   "execution_count": null,
   "id": "80abe0e7",
   "metadata": {},
   "outputs": [],
   "source": [
    "assert samp(mcs) in '01'  # Result is 0 or 1 with equal probability"
   ]
  },
  {
   "cell_type": "code",
   "execution_count": null,
   "id": "e0d51571",
   "metadata": {},
   "outputs": [],
   "source": [
    "qc = Pipeline([X(), H(), I(), M(), Samp()])\n",
    "# X transforms [1, 0] -> [0, 1]\n",
    "# H transforms [0, 1] -> [0.707+0j, -0.707+0j]\n",
    "# I transforms [0.707+0j, -0.707+0j] -> [0.707+0j, -0.707+0j]\n",
    "# M transforms [0.707+0j, -0.707+0j] -> [0.5, 0.5]\n",
    "# Samp samples from random distribution [0.5, 0.5]\n",
    "assert qc(zero_state) in '01' # 0 or 1 with equal probability"
   ]
  },
  {
   "cell_type": "code",
   "execution_count": null,
   "id": "6ce50ee5",
   "metadata": {},
   "outputs": [],
   "source": [
    "class Concat(Transform):\n",
    "    \"Combine single qubit gates into a multi-qubit gate\"\n",
    "    def __init__(self, gates): self.gates = gates\n",
    "    # Concatenate 2 or more gates\n",
    "    def encodes(self, x): return x @ np.kron(*[g.gate for g in self.gates])\n",
    "    # Reverse propagation for all gates\n",
    "    def decodes(self, x):\n",
    "        for g in reversed(self.gates): x = x @ np.kron(g.gate.conj().T, np.eye(len(x) // g.gate.shape[0]))\n",
    "        return x"
   ]
  },
  {
   "cell_type": "code",
   "execution_count": null,
   "id": "54f17853",
   "metadata": {},
   "outputs": [],
   "source": [
    "class CNOT(_Q):\n",
    "    \"Controlled NOT gate\"\n",
    "    def __init__(self): self.gate = np.array([[1, 0, 0, 0], \n",
    "                                              [0, 1, 0, 0], \n",
    "                                              [0, 0, 0, 1], \n",
    "                                              [0, 0, 1, 0]])\n",
    "                     \n",
    "two_qubit_zero_state = np.array([1+0j, 0+0j, 0+0j, 0+0j]) # |00>\n",
    "qc = Pipeline([Concat([H(), I()]), CNOT(), M(), Samp()])  # ADAPTATION, had a trailing comma, probably typo\n",
    "# Concat([H(), I()]) transforms [1, 0, 0, 0] -> [0.707, 0, 0.707, 0]\n",
    "# CNOT() transforms [0.707, 0, 0.707, 0] -> [0.707, 0, 0, 0.707]\n",
    "# M() transforms [0.707, 0, 0, 0.707] -> [0.5, 0, 0, 0.5]\n",
    "# Samp() samples from [0.5, 0, 0, 0.5] (50% chance at 00 and 50% chance at 3, which is 11 in binary)\n",
    "assert qc(two_qubit_zero_state) in ('00','11') # 00 or 11 with equal probability"
   ]
  }
 ],
 "metadata": {
  "kernelspec": {
   "display_name": "python3",
   "language": "python",
   "name": "python3"
  }
 },
 "nbformat": 4,
 "nbformat_minor": 5
}
