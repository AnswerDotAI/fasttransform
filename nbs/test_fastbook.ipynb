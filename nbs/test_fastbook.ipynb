{
 "cells": [
  {
   "cell_type": "markdown",
   "id": "e550fe2c",
   "metadata": {},
   "source": [
    "### FastAI Book Example"
   ]
  },
  {
   "cell_type": "code",
   "execution_count": null,
   "id": "0dbcce8a",
   "metadata": {},
   "outputs": [],
   "source": [
    "https://github.com/fastai/fastbook/blob/e8baa81d89f0b7be816e35f1cc813ac02038db54/15_arch_details.ipynb#L284"
   ]
  },
  {
   "cell_type": "code",
   "execution_count": null,
   "id": "32b04523",
   "metadata": {},
   "outputs": [],
   "source": [
    "from fasttransform.core import Transform, Pipeline"
   ]
  },
  {
   "cell_type": "markdown",
   "id": "132af95a",
   "metadata": {},
   "source": [
    "Writing Your Own Transform\n",
    "If you want to write a custom transform to apply to your data, the easiest way is to write a function. As you can see in this example, a Transform will only be applied to a matching type, if a type is provided (otherwise it will always be applied). In the following code, the :int in the function signature means that f only gets applied to ints. That's why tfm(2.0) returns 2.0, but tfm(2) returns 3 here:"
   ]
  },
  {
   "cell_type": "code",
   "execution_count": null,
   "id": "4da1ef14",
   "metadata": {},
   "outputs": [
    {
     "data": {
      "text/plain": [
       "(3, 2.0)"
      ]
     },
     "execution_count": null,
     "metadata": {},
     "output_type": "execute_result"
    }
   ],
   "source": [
    "def f(x:int): return x+1\n",
    "tfm = Transform(f)\n",
    "tfm(2),tfm(2.0)\n",
    "    "
   ]
  },
  {
   "cell_type": "markdown",
   "id": "aa45eb68",
   "metadata": {},
   "source": [
    "Here, f is converted to a Transform with no setup and no decode method.\n",
    "\n",
    "Python has a special syntax for passing a function (like f) to another function (or something that behaves like a function, known as a callable in Python), called a decorator. A decorator is used by prepending a callable with @ and placing it before a function definition (there are lots of good online tutorials about Python decorators, so take a look at one if this is a new concept for you). The following is identical to the previous code:"
   ]
  },
  {
   "cell_type": "code",
   "execution_count": null,
   "id": "37908b2c",
   "metadata": {},
   "outputs": [
    {
     "data": {
      "text/plain": [
       "(3, 2.0)"
      ]
     },
     "execution_count": null,
     "metadata": {},
     "output_type": "execute_result"
    }
   ],
   "source": [
    "@Transform\n",
    "def f(x:int): return x+1\n",
    "f(2),f(2.0)\n",
    "   "
   ]
  },
  {
   "cell_type": "markdown",
   "id": "66018e40",
   "metadata": {},
   "source": [
    "  \n",
    "If you need either setup or decode, you will need to subclass Transform to implement the actual encoding behavior in encodes, then (optionally), the setup behavior in setups and the decoding behavior in decodes:"
   ]
  },
  {
   "cell_type": "code",
   "execution_count": null,
   "id": "030d4caa",
   "metadata": {},
   "outputs": [],
   "source": [
    "class NormalizeMean(Transform):\n",
    "    def setups(self, items): self.mean = sum(items)/len(items)\n",
    "    def encodes(self, x): return x-self.mean\n",
    "    def decodes(self, x): return x+self.mean\n",
    "     "
   ]
  },
  {
   "cell_type": "markdown",
   "id": "dbb0652c",
   "metadata": {},
   "source": [
    "Here, NormalizeMean will initialize some state during the setup (the mean of all elements passed), then the transformation is to subtract that mean. For decoding purposes, we implement the reverse of that transformation by adding the mean. Here is an example of NormalizeMean in action:"
   ]
  },
  {
   "cell_type": "code",
   "execution_count": null,
   "id": "71f9ecb0",
   "metadata": {},
   "outputs": [
    {
     "ename": "NotImplementedError",
     "evalue": "",
     "output_type": "error",
     "traceback": [
      "\u001b[0;31m---------------------------------------------------------------------------\u001b[0m",
      "\u001b[0;31mNotImplementedError\u001b[0m                       Traceback (most recent call last)",
      "Cell \u001b[0;32mIn[5], line 2\u001b[0m\n\u001b[1;32m      1\u001b[0m tfm \u001b[38;5;241m=\u001b[39m NormalizeMean()\n\u001b[0;32m----> 2\u001b[0m \u001b[43mtfm\u001b[49m\u001b[38;5;241;43m.\u001b[39;49m\u001b[43msetup\u001b[49m\u001b[43m(\u001b[49m\u001b[43m[\u001b[49m\u001b[38;5;241;43m1\u001b[39;49m\u001b[43m,\u001b[49m\u001b[38;5;241;43m2\u001b[39;49m\u001b[43m,\u001b[49m\u001b[38;5;241;43m3\u001b[39;49m\u001b[43m,\u001b[49m\u001b[38;5;241;43m4\u001b[39;49m\u001b[43m,\u001b[49m\u001b[38;5;241;43m5\u001b[39;49m\u001b[43m]\u001b[49m\u001b[43m)\u001b[49m\n\u001b[1;32m      3\u001b[0m start \u001b[38;5;241m=\u001b[39m \u001b[38;5;241m2\u001b[39m\n\u001b[1;32m      4\u001b[0m y \u001b[38;5;241m=\u001b[39m tfm(start)\n",
      "File \u001b[0;32m~/git/fasttransform/fasttransform/core.py:123\u001b[0m, in \u001b[0;36mTransform.setup\u001b[0;34m(self, *args, **kwargs)\u001b[0m\n\u001b[1;32m    122\u001b[0m \u001b[38;5;28;01mdef\u001b[39;00m\u001b[38;5;250m \u001b[39m\u001b[38;5;21msetup\u001b[39m(\u001b[38;5;28mself\u001b[39m, \u001b[38;5;241m*\u001b[39margs, \u001b[38;5;241m*\u001b[39m\u001b[38;5;241m*\u001b[39mkwargs):\n\u001b[0;32m--> 123\u001b[0m     \u001b[38;5;28;01mraise\u001b[39;00m \u001b[38;5;167;01mNotImplementedError\u001b[39;00m()\n",
      "\u001b[0;31mNotImplementedError\u001b[0m: "
     ]
    }
   ],
   "source": [
    "tfm = NormalizeMean()\n",
    "tfm.setup([1,2,3,4,5])\n",
    "start = 2\n",
    "y = tfm(start)\n",
    "z = tfm.decode(y)\n",
    "tfm.mean,y,z"
   ]
  }
 ],
 "metadata": {
  "kernelspec": {
   "display_name": "python3",
   "language": "python",
   "name": "python3"
  }
 },
 "nbformat": 4,
 "nbformat_minor": 5
}
