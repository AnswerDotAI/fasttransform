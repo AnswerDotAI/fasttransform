{
 "cells": [
  {
   "cell_type": "markdown",
   "id": "e550fe2c",
   "metadata": {},
   "source": [
    "# Example: fastbook"
   ]
  },
  {
   "cell_type": "code",
   "execution_count": null,
   "id": "64694b73",
   "metadata": {},
   "outputs": [],
   "source": [
    "from fasttransform import Transform"
   ]
  },
  {
   "cell_type": "markdown",
   "id": "132af95a",
   "metadata": {},
   "source": [
    "## Writing Your Own Transform\n",
    "\n",
    "(source: [fastbook/11_midlevel_data.ipynb](https://github.com/fastai/fastbook/blob/master/11_midlevel_data.ipynb))\n",
    "\n",
    "If you want to write a custom transform to apply to your data, the easiest way is to write a function. As you can see in this example, a Transform will only be applied to a matching type, if a type is provided (otherwise it will always be applied). In the following code, the :int in the function signature means that f only gets applied to ints. That's why tfm(2.0) returns 2.0, but tfm(2) returns 3 here:"
   ]
  },
  {
   "cell_type": "code",
   "execution_count": null,
   "id": "4da1ef14",
   "metadata": {},
   "outputs": [
    {
     "data": {
      "text/plain": [
       "(3, 2.0)"
      ]
     },
     "execution_count": null,
     "metadata": {},
     "output_type": "execute_result"
    }
   ],
   "source": [
    "def f(x:int): return x+1\n",
    "tfm = Transform(f)\n",
    "tfm(2),tfm(2.0)\n",
    "    "
   ]
  },
  {
   "cell_type": "markdown",
   "id": "aa45eb68",
   "metadata": {},
   "source": [
    "Here, f is converted to a Transform with no setup and no decode method.\n",
    "\n",
    "Python has a special syntax for passing a function (like f) to another function (or something that behaves like a function, known as a callable in Python), called a decorator. A decorator is used by prepending a callable with @ and placing it before a function definition (there are lots of good online tutorials about Python decorators, so take a look at one if this is a new concept for you). The following is identical to the previous code:"
   ]
  },
  {
   "cell_type": "code",
   "execution_count": null,
   "id": "37908b2c",
   "metadata": {},
   "outputs": [
    {
     "data": {
      "text/plain": [
       "(3, 2.0)"
      ]
     },
     "execution_count": null,
     "metadata": {},
     "output_type": "execute_result"
    }
   ],
   "source": [
    "@Transform\n",
    "def f(x:int): return x+1\n",
    "f(2),f(2.0)\n",
    "   "
   ]
  },
  {
   "cell_type": "markdown",
   "id": "66018e40",
   "metadata": {},
   "source": [
    "  \n",
    "If you need either setup or decode, you will need to subclass Transform to implement the actual encoding behavior in encodes, then (optionally), the setup behavior in setups and the decoding behavior in decodes:"
   ]
  },
  {
   "cell_type": "code",
   "execution_count": null,
   "id": "030d4caa",
   "metadata": {},
   "outputs": [],
   "source": [
    "class NormalizeMean(Transform):\n",
    "    def setups(self, items): self.mean = sum(items)/len(items)\n",
    "    def encodes(self, x): return x-self.mean\n",
    "    def decodes(self, x): return x+self.mean\n",
    "     "
   ]
  },
  {
   "cell_type": "markdown",
   "id": "dbb0652c",
   "metadata": {},
   "source": [
    "Here, NormalizeMean will initialize some state during the setup (the mean of all elements passed), then the transformation is to subtract that mean. For decoding purposes, we implement the reverse of that transformation by adding the mean. Here is an example of NormalizeMean in action:"
   ]
  },
  {
   "cell_type": "code",
   "execution_count": null,
   "id": "71f9ecb0",
   "metadata": {},
   "outputs": [
    {
     "data": {
      "text/plain": [
       "(3.0, -1.0, 2.0)"
      ]
     },
     "execution_count": null,
     "metadata": {},
     "output_type": "execute_result"
    }
   ],
   "source": [
    "tfm = NormalizeMean()\n",
    "tfm.setup([1,2,3,4,5])\n",
    "start = 2\n",
    "y = tfm(start)\n",
    "z = tfm.decode(y)\n",
    "tfm.mean,y,z"
   ]
  }
 ],
 "metadata": {
  "kernelspec": {
   "display_name": "python3",
   "language": "python",
   "name": "python3"
  }
 },
 "nbformat": 4,
 "nbformat_minor": 5
}
