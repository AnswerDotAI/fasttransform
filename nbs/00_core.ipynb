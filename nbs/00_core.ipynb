{
 "cells": [
  {
   "cell_type": "code",
   "execution_count": null,
   "id": "30295a1d",
   "metadata": {},
   "outputs": [],
   "source": [
    "#|default_exp core"
   ]
  },
  {
   "cell_type": "code",
   "execution_count": null,
   "id": "4af968d5",
   "metadata": {},
   "outputs": [],
   "source": [
    "#|export\n",
    "from typing import Any\n",
    "\n",
    "from fastcore.imports import *\n",
    "from fastcore.foundation import *\n",
    "from fastcore.utils import *\n",
    "from fastcore.dispatch import retain_meta, cast  # move to fasttransform\n",
    "\n",
    "from plum.function import Function\n",
    "from plum import NotFoundLookupError\n",
    "from fastcore.dispatch import retain_type"
   ]
  },
  {
   "cell_type": "code",
   "execution_count": null,
   "id": "917adab5",
   "metadata": {},
   "outputs": [],
   "source": [
    "from __future__ import annotations\n",
    "from nbdev.showdoc import *\n",
    "from fastcore.test import *\n",
    "from fastcore.nb_imports import *\n",
    "\n",
    "from plum import AmbiguousLookupError"
   ]
  },
  {
   "cell_type": "markdown",
   "id": "694d7dd0",
   "metadata": {},
   "source": [
    "# Transforms\n",
    "\n",
    "> Definition of `Transform` and `Pipeline`"
   ]
  },
  {
   "cell_type": "markdown",
   "id": "cbb09502",
   "metadata": {},
   "source": [
    "The classes here provide functionality for creating a composition of *partially reversible functions*. By \"partially reversible\" we mean that a transform can be `decode`d, creating a form suitable for display. This is not necessarily identical to the original form (e.g. a transform that changes a byte tensor to a float tensor does not recreate a byte tensor when decoded, since that may lose precision, and a float tensor can be displayed already).\n",
    "\n",
    "Classes are also provided and for composing transforms, and mapping them over collections. `Pipeline` is a transform which composes several `Transform`, knowing how to decode them or show an encoded item."
   ]
  },
  {
   "cell_type": "markdown",
   "id": "2d7a4772",
   "metadata": {},
   "source": [
    "## Utils"
   ]
  },
  {
   "cell_type": "code",
   "execution_count": null,
   "id": "1364fbd1",
   "metadata": {},
   "outputs": [],
   "source": [
    "#|export\n",
    "def retain_type(new, old, ret_type,as_copy=False):\n",
    "    if new is None: return new\n",
    "    if ret_type is NoneType: return new\n",
    "    if ret_type is Any:\n",
    "        if not isinstance(old, type(new)): return new\n",
    "        ret_type = old if isinstance(old,type) else type(old)\n",
    "    if ret_type is NoneType or isinstance(new,ret_type): return new\n",
    "    # fastcore.retain_meta and cast are used because\n",
    "    # the retain_meta logic is embedded in fastai (and torch itself?)\n",
    "    # see 00_torch_core set_meta functions.\n",
    "    return retain_meta(old, cast(new, ret_type), as_copy=as_copy)\n",
    "    "
   ]
  },
  {
   "cell_type": "code",
   "execution_count": null,
   "id": "7ab66f9e",
   "metadata": {},
   "outputs": [],
   "source": [
    "class FS(float):\n",
    "    def __str__(self): return f'FS({float(self)})'\n",
    "    def __repr__(self): return f'FS({float(self)})'\n",
    "    \n",
    "# None stays none\n",
    "test_eq(retain_type(None,FS(2.), Any), None)  "
   ]
  },
  {
   "cell_type": "code",
   "execution_count": null,
   "id": "37f86187",
   "metadata": {},
   "outputs": [],
   "source": [
    "# Dont convert if None as return type annotation\n",
    "test_eq(retain_type(1., FS(2.), NoneType), 1.)  "
   ]
  },
  {
   "cell_type": "code",
   "execution_count": null,
   "id": "c095a7cb",
   "metadata": {},
   "outputs": [],
   "source": [
    "# Use return type annotation if given\n",
    "test_eq(retain_type(1., 2., FS), FS(1.))"
   ]
  },
  {
   "cell_type": "code",
   "execution_count": null,
   "id": "e980ab40",
   "metadata": {},
   "outputs": [
    {
     "name": "stdout",
     "output_type": "stream",
     "text": [
      "Caught expected e=ValueError(\"could not convert string to float: 'a'\")\n"
     ]
    }
   ],
   "source": [
    "# Raise error if return type is not compatible with new\n",
    "try: retain_type(\"a\", 2., FS)\n",
    "except ValueError as e: print(f\"Caught expected {e=}\")\n",
    "    \n",
    "# TODO: why doesnt test_fail catch this error?\n",
    "# test_fail(retain_type(\"a\", 2., FS))"
   ]
  },
  {
   "cell_type": "code",
   "execution_count": null,
   "id": "e4a2be43",
   "metadata": {},
   "outputs": [],
   "source": [
    "# When ret_type is Any: try convert to old type\n",
    "#   If new isn't subclass of old, keep new\n",
    "test_eq(retain_type(FS(1.), 2.0, Any), FS(1.))\n",
    "test_eq(retain_type(\"a\", 2.0, Any), \"a\")\n",
    "#   No cast needed if new is alreaedy of type old\n",
    "test_eq(retain_type(FS(1.), FS(2.), Any), FS(1.)) \n",
    "#   Return new if old type was None\n",
    "test_eq(retain_type(FS(1.), None, Any), FS(1.))\n",
    "#   Convert\n",
    "test_eq(retain_type(1., FS(2.), Any), FS(1.))"
   ]
  },
  {
   "cell_type": "markdown",
   "id": "e44e9d5e",
   "metadata": {},
   "source": [
    "## Transform -"
   ]
  },
  {
   "cell_type": "code",
   "execution_count": null,
   "id": "bab68a3a",
   "metadata": {},
   "outputs": [],
   "source": [
    "#|export\n",
    "_tfm_methods = 'encodes','decodes','setups'\n",
    "\n",
    "def _is_tfm_method(n, f): return n in _tfm_methods and callable(f)\n",
    "\n",
    "class _TfmDict(dict):\n",
    "    def __setitem__(self, k, v):\n",
    "        if not _is_tfm_method(k, v): return super().__setitem__(k,v)\n",
    "        if k not in self: super().__setitem__(k,Function(v).dispatch(v))\n",
    "        self[k].dispatch(v)\n",
    "     "
   ]
  },
  {
   "cell_type": "code",
   "execution_count": null,
   "id": "37e690d5",
   "metadata": {},
   "outputs": [],
   "source": [
    "#|export\n",
    "class _TfmMeta(type):\n",
    "    @classmethod\n",
    "    def __prepare__(cls, name, bases): \n",
    "        return _TfmDict()"
   ]
  },
  {
   "cell_type": "markdown",
   "id": "d46a8086",
   "metadata": {},
   "source": [
    "### The main `Transform` features:"
   ]
  },
  {
   "cell_type": "markdown",
   "id": "e8fca11d",
   "metadata": {},
   "source": [
    "- **Type dispatch** - Type annotations are used to determine if a transform should be applied to the given argument. It also gives an option to provide several implementations and it choses the one to run based on the type. This is useful for example when running both independent and dependent variables through the pipeline where some transforms only make sense for one and not the other. Another usecase is designing a transform that handles different data formats. Note that if a transform takes multiple arguments only the type of the first one is used for dispatch. \n",
    "- **Handling of tuples** - When a tuple (or a subclass of tuple) of data is passed to a transform it will get applied to each element separately. You can opt out of this behavior by passing a list or an `L`, as only tuples gets this specific behavior. An alternative is to use `ItemTransform` defined below, which will always take the input as a whole.\n",
    "- **Reversability** - A transform can be made reversible by implementing the <code>decodes</code> method. This is mainly used to turn something like a category which is encoded as a number back into a label understandable by humans for showing purposes. Like the regular call method, the `decode` method that is used to decode will be applied over each element of a tuple separately.\n",
    "- **Type propagation** - Whenever possible a transform tries to return data of the same type it received. Mainly used to maintain semantics of things like `ArrayImage` which is a thin wrapper of pytorch's `Tensor`. You can opt out of this behavior by adding `->None` return type annotation.\n",
    "- **Preprocessing** - The `setup` method can be used to perform any one-time calculations to be later used by the transform, for example generating a vocabulary to encode categorical data.\n",
    "- **Filtering based on the dataset type** - By setting the `split_idx` flag you can make the transform be used only in a specific `DataSource` subset like in training, but not validation.\n",
    "- **Ordering** - You can set the `order` attribute which the `Pipeline` uses when it needs to merge two lists of transforms.\n",
    "- **Appending new behavior with decorators** - You can easily extend an existing `Transform` by creating <code>encodes</code> or <code>decodes</code> methods for new data types. You can put those new methods outside the original transform definition and decorate them with the class you wish them patched into. This can be used by the fastai library users to add their own behavior, or multiple modules contributing to the same transform."
   ]
  },
  {
   "cell_type": "code",
   "execution_count": null,
   "id": "a39e8a6e",
   "metadata": {},
   "outputs": [],
   "source": [
    "#|export\n",
    "def _has_self_arg(f) -> bool:\n",
    "    \"Check if function `f` has 'self' as first parameter\"\n",
    "    try: return f.__code__.co_varnames[0] == 'self'\n",
    "    # Attribute error if not callable\n",
    "    # IndexError if no (kw)args\n",
    "    except (AttributeError, IndexError): return False"
   ]
  },
  {
   "cell_type": "code",
   "execution_count": null,
   "id": "d2f5d45b",
   "metadata": {},
   "outputs": [],
   "source": [
    "#|export\n",
    "def _subclass_decorator(cls, f):\n",
    "    nm = f.__name__\n",
    "    # needed for plum to register dispatch correctly\n",
    "    # f.__qualname__ = f\"{cls.__name__}.{nm}\"\n",
    "    if not hasattr(cls, nm): setattr(cls, nm, Function(f).dispatch(f))\n",
    "    else: getattr(cls,nm).dispatch(f)\n",
    "    return cls"
   ]
  },
  {
   "cell_type": "code",
   "execution_count": null,
   "id": "26e38f6d",
   "metadata": {},
   "outputs": [],
   "source": [
    "#|export\n",
    "class Transform(metaclass=_TfmMeta):\n",
    "    \"Delegates (`__call__`,`decode`,`setup`) to (<code>encodes</code>,<code>decodes</code>,<code>setups</code>) if `split_idx` matches\"\n",
    "    \n",
    "    def __init_subclass__(cls):\n",
    "        # convert _tfm_methods that aren't plum.Functions yet\n",
    "        for nm in _tfm_methods:\n",
    "            if hasattr(cls, nm) and not isinstance(getattr(cls, nm), Function):\n",
    "                f = getattr(cls, nm)\n",
    "                setattr(cls, nm, Function(f).dispatch(f))\n",
    "\n",
    "        # Add binding logic to subclass __init__\n",
    "        def __init__(self):\n",
    "            for nm in _tfm_methods:\n",
    "                if hasattr(self.__class__, nm):\n",
    "                    setattr(self, nm, MethodType(getattr(self.__class__, nm), self))\n",
    "    \n",
    "        cls.__init__ = __init__\n",
    "\n",
    "    def __new__(cls, enc=None, dec=None):\n",
    "        # subclass of Transform decorator usage\n",
    "        if (\n",
    "            issubclass(cls,Transform) and   \n",
    "            _has_self_arg(enc) and\n",
    "            enc.__name__ in _tfm_methods and\n",
    "            dec is None\n",
    "        ): return _subclass_decorator(cls, enc)\n",
    "        # default usecase\n",
    "        return super().__new__(cls)\n",
    "\n",
    "    def __init__(self,enc=None,dec=None):\n",
    "        enc = L(enc)\n",
    "        if enc: self.encodes = Function(enc[0])\n",
    "        for e in enc: self.encodes.dispatch(e)\n",
    "\n",
    "        dec = L(dec)\n",
    "        if dec: self.decodes = Function(dec[0])\n",
    "        for d in dec: self.decodes.dispatch(d)\n",
    "\n",
    "    def __call__(self,*args,**kwargs):\n",
    "        return self._do_call('encodes',*args,**kwargs)\n",
    "    \n",
    "    def decode(self, *args, **kwargs):\n",
    "        return self._do_call('decodes',*args, **kwargs)\n",
    "    \n",
    "    def setup(self, *args, **kwargs):\n",
    "        raise NotImplementedError()\n",
    "        \n",
    "    def _do_call(self, nm, *args, **kwargs): \n",
    "        if not hasattr(self, nm): return args[0]\n",
    "        f_args = args if type(self) is Transform else (self,)+args\n",
    "        try:\n",
    "            method, ret_type = getattr(self,nm)._resolve_method_with_cache(f_args)\n",
    "        except NotFoundLookupError: \n",
    "            return args[0]\n",
    "        res = method(*f_args,**kwargs)\n",
    "        return retain_type(res, args[0], ret_type)\n",
    "    \n",
    "add_docs(Transform, decode=\"Delegate to decodes to undo transform\", setup=\"Delegate to setups to set up transform\")"
   ]
  },
  {
   "cell_type": "markdown",
   "id": "cb7ade62",
   "metadata": {},
   "source": [
    "###  The purpose of transforms: encodes, decodes\n",
    "\n",
    "Transforms help with transforming data.\n",
    "They can always encode it, and optionally decode it."
   ]
  },
  {
   "cell_type": "code",
   "execution_count": null,
   "id": "6dc397d4",
   "metadata": {},
   "outputs": [],
   "source": [
    "def enc(x): return x*2\n",
    "def dec(x): return x/2\n",
    "\n",
    "f = Transform(enc=enc, dec=dec)"
   ]
  },
  {
   "cell_type": "code",
   "execution_count": null,
   "id": "730367ed",
   "metadata": {},
   "outputs": [
    {
     "data": {
      "text/plain": [
       "10.0"
      ]
     },
     "execution_count": null,
     "metadata": {},
     "output_type": "execute_result"
    }
   ],
   "source": [
    "f(5.0)"
   ]
  },
  {
   "cell_type": "code",
   "execution_count": null,
   "id": "17b93614",
   "metadata": {},
   "outputs": [
    {
     "data": {
      "text/plain": [
       "5.0"
      ]
     },
     "execution_count": null,
     "metadata": {},
     "output_type": "execute_result"
    }
   ],
   "source": [
    "f.decode(f(5.0))"
   ]
  },
  {
   "cell_type": "markdown",
   "id": "b9174688",
   "metadata": {},
   "source": [
    "### Defining a `Transform`"
   ]
  },
  {
   "cell_type": "markdown",
   "id": "dd3c3769",
   "metadata": {},
   "source": [
    "There are a few ways to create a transform with different ratios of simplicity to flexibility.\n",
    "- **Extending the `Transform` class** - Use inheritence to implement the methods you want.\n",
    "- **Passing methods to the constructor** - Instantiate the `Transform` class and pass your functions as `enc` and `dec` arguments.\n",
    "- **@Transform decorator** - Turn any function into a `Transform` by just adding a decorator - very straightforward if all you need is a single <code>encodes</code> implementation.\n",
    "- **Passing a function to fastai APIs** - Same as above, but when passing a function to other transform aware classes like `Pipeline` or `TfmdDS` you don't even need a decorator. Your function will get converted to a `Transform` automatically."
   ]
  },
  {
   "cell_type": "markdown",
   "id": "1fcbb888",
   "metadata": {},
   "source": [
    "#### Define with lambda function"
   ]
  },
  {
   "cell_type": "markdown",
   "id": "1a0e2ebf",
   "metadata": {},
   "source": [
    "A simple way to create a `Transform` is to pass a function to the constructor.  In the below example, we pass an anonymous function that does integer division by 2:"
   ]
  },
  {
   "cell_type": "code",
   "execution_count": null,
   "id": "90c4a132",
   "metadata": {},
   "outputs": [],
   "source": [
    "f = Transform(lambda o: f\"f OBJ {o=}!\")"
   ]
  },
  {
   "cell_type": "markdown",
   "id": "4e519949",
   "metadata": {},
   "source": [
    "If you call this transform, it will apply the transformation:"
   ]
  },
  {
   "cell_type": "code",
   "execution_count": null,
   "id": "ff648787",
   "metadata": {},
   "outputs": [],
   "source": [
    "test_eq_type(f(2), \"f OBJ o=2!\")"
   ]
  },
  {
   "cell_type": "markdown",
   "id": "61d40e22",
   "metadata": {},
   "source": [
    "#### Define with subclass decorator"
   ]
  },
  {
   "cell_type": "markdown",
   "id": "f22c37fd",
   "metadata": {},
   "source": [
    "Another way to define a Transform is to extend the `Transform` class:"
   ]
  },
  {
   "cell_type": "code",
   "execution_count": null,
   "id": "35b94545",
   "metadata": {},
   "outputs": [],
   "source": [
    "class A(Transform): pass"
   ]
  },
  {
   "cell_type": "markdown",
   "id": "cb512b39",
   "metadata": {},
   "source": [
    "However, to enable your transform to do something, you have to define an <code>encodes</code> method.  Note that we can use the class name as a decorator to add this method to the original class."
   ]
  },
  {
   "cell_type": "code",
   "execution_count": null,
   "id": "e5e8d310",
   "metadata": {},
   "outputs": [],
   "source": [
    "@A\n",
    "def encodes(self, x:int): return f\"A INT {x=}!\""
   ]
  },
  {
   "cell_type": "code",
   "execution_count": null,
   "id": "ee5d2bd3",
   "metadata": {},
   "outputs": [],
   "source": [
    "@A\n",
    "def encodes(self, x:str): return f\"A STR {x=}!\""
   ]
  },
  {
   "cell_type": "code",
   "execution_count": null,
   "id": "aa2a45a1",
   "metadata": {},
   "outputs": [],
   "source": [
    "@A\n",
    "def decodes(self,x): return x*2"
   ]
  },
  {
   "cell_type": "code",
   "execution_count": null,
   "id": "8ffeb814",
   "metadata": {},
   "outputs": [],
   "source": [
    "a1 = A()\n",
    "test_eq(a1(1), \"A INT x=1!\")\n",
    "test_eq(a1('a'), \"A STR x='a'!\")"
   ]
  },
  {
   "cell_type": "code",
   "execution_count": null,
   "id": "89f6f1c1",
   "metadata": {},
   "outputs": [],
   "source": [
    "test_eq(a1.decodes(2), 4)"
   ]
  },
  {
   "cell_type": "markdown",
   "id": "88bc9810",
   "metadata": {},
   "source": [
    "#### Define with subclass method(s)"
   ]
  },
  {
   "cell_type": "markdown",
   "id": "41b22350",
   "metadata": {},
   "source": [
    "You can define multiple encodes methods when you sublcass from Transform, and they'll be picked up automatically."
   ]
  },
  {
   "cell_type": "code",
   "execution_count": null,
   "id": "b87d1883",
   "metadata": {},
   "outputs": [],
   "source": [
    "class C(Transform):\n",
    "    def encodes(self, x): return f'C OBJ {x=}!'\n",
    "    def encodes(self, x:int): return f'C INT {x=}!'"
   ]
  },
  {
   "cell_type": "markdown",
   "id": "1355b5a0",
   "metadata": {},
   "source": [
    "You can still extend your subclass by using the decorator."
   ]
  },
  {
   "cell_type": "code",
   "execution_count": null,
   "id": "818b151b",
   "metadata": {},
   "outputs": [],
   "source": [
    "@C\n",
    "def encodes(self, x:float): return f'C FLOAT {x=}!'"
   ]
  },
  {
   "cell_type": "code",
   "execution_count": null,
   "id": "f617cf2b",
   "metadata": {},
   "outputs": [],
   "source": [
    "c = C()\n",
    "test_eq(c.encodes(0), 'C INT x=0!')\n",
    "test_eq(c.encodes(\"a\"), \"C OBJ x='a'!\")\n",
    "test_eq(c.encodes(0.0), 'C FLOAT x=0.0!')"
   ]
  },
  {
   "cell_type": "markdown",
   "id": "d5329099",
   "metadata": {},
   "source": [
    "#### Define with class decorator\n",
    "\n",
    "You can define a Transform also by using the `@Transform` decorator directly."
   ]
  },
  {
   "cell_type": "code",
   "execution_count": null,
   "id": "55bf830c",
   "metadata": {},
   "outputs": [],
   "source": [
    "@Transform\n",
    "def g(x:str): return f\"g OBJ {x=}!\"\n",
    "test_eq(g(\"a\"), \"g OBJ x='a'!\")"
   ]
  },
  {
   "cell_type": "markdown",
   "id": "c6fa8984",
   "metadata": {},
   "source": [
    "However in that case it is not extendible, the previous implementation gets overwritten:"
   ]
  },
  {
   "cell_type": "code",
   "execution_count": null,
   "id": "9f9c1a5f",
   "metadata": {},
   "outputs": [],
   "source": [
    "@Transform\n",
    "def g(x:int): return f\"g INT {x=}!\"\n",
    "\n",
    "test_eq(g(5), \"g INT x=5!\")\n",
    "test_eq(g('a'), 'a')  # <- resorts to returning self\n",
    "test_eq(len(g.encodes.methods), 1)"
   ]
  },
  {
   "cell_type": "markdown",
   "id": "0b913a46",
   "metadata": {},
   "source": [
    "#### Define with classmethod"
   ]
  },
  {
   "cell_type": "code",
   "execution_count": null,
   "id": "75ecada4",
   "metadata": {},
   "outputs": [],
   "source": [
    "class B:\n",
    "    @classmethod\n",
    "    def create(cls, x:int): return x+1\n",
    "test_eq(Transform(B.create)(1), 2)"
   ]
  },
  {
   "cell_type": "markdown",
   "id": "4d7ae369",
   "metadata": {},
   "source": [
    "### Important attributes of Transform"
   ]
  },
  {
   "cell_type": "markdown",
   "id": "046b8f8c",
   "metadata": {},
   "source": [
    "#### NoFound lookups return self"
   ]
  },
  {
   "cell_type": "markdown",
   "id": "d1363baf",
   "metadata": {},
   "source": [
    "`fastcore.transform.Transform` has a rule that a transform will return it's first argument if there's no method that fits the input types with which the function's called. By default Plum, would raise a `NoFoundLookupError`, we catch this error and return the first argument to stay consistent with the old implementation as it's a useful default in the context of Transform's in datapipelines."
   ]
  },
  {
   "cell_type": "code",
   "execution_count": null,
   "id": "72cd1c67",
   "metadata": {},
   "outputs": [],
   "source": [
    "# return arg[0] if no encodes has been defined\n",
    "class _Tst(Transform): pass \n",
    "f3 = _Tst() \n",
    "test_eq(f3(2), 2)"
   ]
  },
  {
   "cell_type": "code",
   "execution_count": null,
   "id": "a3410d9a",
   "metadata": {},
   "outputs": [],
   "source": [
    "# return arg[0] if no matching type has been found\n",
    "class _Tst(Transform):\n",
    "    def encodes(self, x:str): return \"str!\"\n",
    "f3 = _Tst() \n",
    "test_eq(f3(2), 2)"
   ]
  },
  {
   "cell_type": "markdown",
   "id": "20201244",
   "metadata": {},
   "source": [
    "#### Ambiguous vs NoFound lookups"
   ]
  },
  {
   "cell_type": "markdown",
   "id": "ae11242e",
   "metadata": {},
   "source": [
    "A difference with `fastcore.transform.Transform` is that this version is stricter about ambiguous lookups.\n",
    "\n",
    "That's because Plum has a better underlying system for allocating the inputs to the right function."
   ]
  },
  {
   "cell_type": "code",
   "execution_count": null,
   "id": "29997b03",
   "metadata": {},
   "outputs": [
    {
     "name": "stdout",
     "output_type": "stream",
     "text": [
      "Caught an expected AmbiguousLookupError\n"
     ]
    }
   ],
   "source": [
    "class E(Transform): pass\n",
    "\n",
    "@E\n",
    "def encodes(self, x:int|str): return f\"E INT|STR {x=}!\"\n",
    "\n",
    "@E\n",
    "def encodes(self, x:float|str): return f\"E FLOAT|STR {x=}!\"\n",
    "\n",
    "e = E()\n",
    "\n",
    "test_eq(e(5), \"E INT|STR x=5!\")\n",
    "test_eq(e(.5), \"E FLOAT|STR x=0.5!\")\n",
    "test_eq(e([1]), [1])  # NoFoundLookups returns self\n",
    "\n",
    "try: e(\"hi there\")  # could be either encodes function\n",
    "except AmbiguousLookupError: print(\"Caught an expected AmbiguousLookupError\")"
   ]
  },
  {
   "cell_type": "markdown",
   "id": "08324861",
   "metadata": {},
   "source": [
    "#### Multiple inheritance is supported"
   ]
  },
  {
   "cell_type": "code",
   "execution_count": null,
   "id": "9c7ed5db",
   "metadata": {},
   "outputs": [],
   "source": [
    "# inherited transforms\n",
    "class F(Transform): pass\n",
    "@F\n",
    "def encodes(self, x:int): return \"INT\"\n",
    "\n",
    "class G(F): pass\n",
    "@G\n",
    "def encodes(self, x:str): return \"STR\"\n",
    "\n",
    "g = G()\n",
    "\n",
    "test_eq(len(g.encodes.methods), 2)  # g has two encodes methods\n",
    "\n",
    "class H(G): pass\n",
    "\n",
    "@H\n",
    "def encodes(self, x:list): return \"LIST\"\n",
    "\n",
    "h = H()\n",
    "\n",
    "test_eq(len(h.encodes.methods),3)"
   ]
  },
  {
   "cell_type": "markdown",
   "id": "8eb4869b",
   "metadata": {},
   "source": [
    "#### Type inheritance for input types is supported"
   ]
  },
  {
   "cell_type": "code",
   "execution_count": null,
   "id": "e06a67fa",
   "metadata": {},
   "outputs": [],
   "source": [
    "# Type inheritance\n",
    "class MyClass(int): pass\n",
    "\n",
    "class H(Transform):\n",
    "    def encodes(self, x:MyClass|float): return x/2\n",
    "\n",
    "@H\n",
    "def encodes(self, x:str|list): return str(x)+'_1'\n",
    "\n",
    "h = H()\n",
    "\n",
    "test_eq(h(MyClass(5)), 2.5)"
   ]
  },
  {
   "cell_type": "code",
   "execution_count": null,
   "id": "156771cc",
   "metadata": {},
   "outputs": [],
   "source": [
    "assert len(h.encodes.methods) == 2"
   ]
  },
  {
   "cell_type": "markdown",
   "id": "952002cd",
   "metadata": {},
   "source": [
    "## Return type casting\n",
    "\n",
    "Without any intervention it is easy for operations to change types in Python. For example, `FloatSubclass` (defined below) becomes a `float` after performing multiplication:"
   ]
  },
  {
   "cell_type": "code",
   "execution_count": null,
   "id": "4948d690",
   "metadata": {},
   "outputs": [],
   "source": [
    "class FloatSubclass(float):\n",
    "    def __repr__(self): return f'FloatSubclass({super().__repr__()})'\n",
    "    def __str__(self): return f'{super().__str__()}'\n",
    "    "
   ]
  },
  {
   "cell_type": "code",
   "execution_count": null,
   "id": "0b758184",
   "metadata": {},
   "outputs": [],
   "source": [
    "test_eq_type(FloatSubclass(3.0) * 2, 6.0)"
   ]
  },
  {
   "cell_type": "markdown",
   "id": "6c1b7113",
   "metadata": {},
   "source": [
    "This behavior is often not desirable when performing transformations on data.  Therefore, `Transform` will attempt to cast the output to be of the same type as the input by default.  In the below example, the output will be cast to a `FloatSubclass` type to match the type of the input:"
   ]
  },
  {
   "cell_type": "markdown",
   "id": "4dcd24f6",
   "metadata": {},
   "source": [
    "### Without type annotations"
   ]
  },
  {
   "cell_type": "code",
   "execution_count": null,
   "id": "0ee9d719",
   "metadata": {},
   "outputs": [],
   "source": [
    "@Transform\n",
    "def f(x): return x*2\n",
    "\n",
    "test_eq_type(f(FloatSubclass(3.0)), FloatSubclass(6.0))"
   ]
  },
  {
   "cell_type": "markdown",
   "id": "76ec19b3",
   "metadata": {},
   "source": [
    "We can optionally turn off casting by annotating the transform function with a return type of None:"
   ]
  },
  {
   "cell_type": "markdown",
   "id": "9f2a08ef",
   "metadata": {},
   "source": [
    "### Return type None"
   ]
  },
  {
   "cell_type": "code",
   "execution_count": null,
   "id": "ef7c85d7",
   "metadata": {},
   "outputs": [],
   "source": [
    "@Transform\n",
    "def f(x)-> None: return x*2 # Same transform as above, but with a -> None annotation\n",
    "\n",
    "test_eq_type(f(FloatSubclass(3.0)), 6.0)  # Casting is turned off because of -> None annotation\n",
    " "
   ]
  },
  {
   "cell_type": "markdown",
   "id": "303082b9",
   "metadata": {},
   "source": [
    "However, Transform will only cast output back to the input type when the input is a subclass of the output. In the below example, the input is of type FloatSubclass which is not a subclass of the output which is of type str. Therefore, the output doesn't get cast back to FloatSubclass and stays as type str:"
   ]
  },
  {
   "cell_type": "code",
   "execution_count": null,
   "id": "25ed3346",
   "metadata": {},
   "outputs": [],
   "source": [
    "@Transform\n",
    "def f(x): return str(x)\n",
    "    \n",
    "test_eq_type(f(Float(2.)), '2.0')"
   ]
  },
  {
   "cell_type": "markdown",
   "id": "f3ebfd68",
   "metadata": {},
   "source": [
    "Transform will attempt to convert the function output to the return type annotation."
   ]
  },
  {
   "cell_type": "markdown",
   "id": "24bdbca3",
   "metadata": {},
   "source": [
    "### Specific return types"
   ]
  },
  {
   "cell_type": "markdown",
   "id": "2c9f7e3f",
   "metadata": {},
   "source": [
    "If a return type annotation is given, Transform will convert it to that type:"
   ]
  },
  {
   "cell_type": "code",
   "execution_count": null,
   "id": "88c3ef56",
   "metadata": {},
   "outputs": [],
   "source": [
    "@Transform\n",
    "def f(x)->FloatSubclass: return float(x)\n",
    "\n",
    "# Output is converted to FloatSubclass because its a subtype of float\n",
    "test_eq(f(1.), FloatSubclass(1.))"
   ]
  },
  {
   "cell_type": "markdown",
   "id": "44facb67",
   "metadata": {},
   "source": [
    "If the function returns a subclass of the annotated return type, that more specific type will be preserved since it's already compatible with the annotation:"
   ]
  },
  {
   "cell_type": "code",
   "execution_count": null,
   "id": "cc843a22",
   "metadata": {},
   "outputs": [],
   "source": [
    "@Transform\n",
    "def f(x)->float: return FloatSubclass(x)\n",
    "\n",
    "# FloatSubclass output is kept because more specific than float\n",
    "test_eq(f(1.), FloatSubclass(1.))"
   ]
  },
  {
   "cell_type": "markdown",
   "id": "d3eedfeb",
   "metadata": {},
   "source": [
    "When return types are given, the conversion will even happen if the output type is not a subclass of the return type annotation:"
   ]
  },
  {
   "cell_type": "code",
   "execution_count": null,
   "id": "4b91a062",
   "metadata": {},
   "outputs": [],
   "source": [
    "@Transform\n",
    "def f(x)->str: return FloatSubclass(x)\n",
    "\n",
    "test_eq(f(1.), \"FloatSubclass(1.0)\")"
   ]
  },
  {
   "cell_type": "markdown",
   "id": "a51f8c3b",
   "metadata": {},
   "source": [
    "And here we get an expected error because it's not possible to match the explicit return type:"
   ]
  },
  {
   "cell_type": "code",
   "execution_count": null,
   "id": "a6067086",
   "metadata": {},
   "outputs": [
    {
     "name": "stdout",
     "output_type": "stream",
     "text": [
      "Caught Exception: e=ValueError(\"invalid literal for int() with base 10: 'foo'\")\n"
     ]
    }
   ],
   "source": [
    "@Transform\n",
    "def f(x)->int: return str(x)\n",
    "\n",
    "try: f(\"foo\")\n",
    "except Exception as e: print(f\"Caught Exception: {e=}\")"
   ]
  },
  {
   "cell_type": "markdown",
   "id": "a7db8726",
   "metadata": {},
   "source": [
    "### Type annotation with Decode"
   ]
  },
  {
   "cell_type": "markdown",
   "id": "e4622a77",
   "metadata": {},
   "source": [
    "Just like encodes, the decodes method will cast outputs to match the input type in the same way. In the below example, the output of decodes remains of type MySubclass:"
   ]
  },
  {
   "cell_type": "code",
   "execution_count": null,
   "id": "4d59e3c5",
   "metadata": {},
   "outputs": [],
   "source": [
    "class MySubclass(int): pass\n",
    "\n",
    "def enc(x): return MySubclass(x+1)\n",
    "def dec(x): return x-1\n",
    "\n",
    "f = Transform(enc,dec)\n",
    "t = f(1) # t is of type MySubclass\n",
    "test_eq_type(f.decode(t), MySubclass(1)) # the output of decode is cast to MySubclass to match the input type.\n",
    " "
   ]
  }
 ],
 "metadata": {
  "kernelspec": {
   "display_name": "python3",
   "language": "python",
   "name": "python3"
  }
 },
 "nbformat": 4,
 "nbformat_minor": 5
}
